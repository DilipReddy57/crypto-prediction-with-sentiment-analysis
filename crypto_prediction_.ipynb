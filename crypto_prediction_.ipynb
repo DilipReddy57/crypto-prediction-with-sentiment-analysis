{
  "nbformat": 4,
  "nbformat_minor": 0,
  "metadata": {
    "colab": {
      "provenance": []
    },
    "kernelspec": {
      "name": "python3",
      "display_name": "Python 3"
    },
    "language_info": {
      "name": "python"
    },
    "widgets": {
      "application/vnd.jupyter.widget-state+json": {
        "9d164d9bb40f4ae88371325b447e85e2": {
          "model_module": "@jupyter-widgets/controls",
          "model_name": "VBoxModel",
          "model_module_version": "1.5.0",
          "state": {
            "_dom_classes": [],
            "_model_module": "@jupyter-widgets/controls",
            "_model_module_version": "1.5.0",
            "_model_name": "VBoxModel",
            "_view_count": null,
            "_view_module": "@jupyter-widgets/controls",
            "_view_module_version": "1.5.0",
            "_view_name": "VBoxView",
            "box_style": "",
            "children": [
              "IPY_MODEL_39d42939705b49e5a04ff32d1a11d1a7",
              "IPY_MODEL_5262ac383229461392ea8ae4c10432f1",
              "IPY_MODEL_e0ca17b11d0f490d91f0bb286ecf1467",
              "IPY_MODEL_181ac5b066134d3dbfaa84f1a45350c9",
              "IPY_MODEL_51f3c4545a6149baa5d38608d59ebfab",
              "IPY_MODEL_4ce1a2b1473e4c1788e164ce23aafc68"
            ],
            "layout": "IPY_MODEL_7a01758e622348f9b779bf7330c9b7d5"
          }
        },
        "39d42939705b49e5a04ff32d1a11d1a7": {
          "model_module": "@jupyter-widgets/controls",
          "model_name": "HTMLModel",
          "model_module_version": "1.5.0",
          "state": {
            "_dom_classes": [],
            "_model_module": "@jupyter-widgets/controls",
            "_model_module_version": "1.5.0",
            "_model_name": "HTMLModel",
            "_view_count": null,
            "_view_module": "@jupyter-widgets/controls",
            "_view_module_version": "1.5.0",
            "_view_name": "HTMLView",
            "description": "",
            "description_tooltip": null,
            "layout": "IPY_MODEL_ff51e3dae19e4866bf712fa5d5f0eaea",
            "placeholder": "​",
            "style": "IPY_MODEL_12e6428f9d2c46a68a2ae5ba83e3a925",
            "value": "<h2>Advanced Cryptocurrency Price Prediction Tool</h2>"
          }
        },
        "5262ac383229461392ea8ae4c10432f1": {
          "model_module": "@jupyter-widgets/controls",
          "model_name": "HTMLModel",
          "model_module_version": "1.5.0",
          "state": {
            "_dom_classes": [],
            "_model_module": "@jupyter-widgets/controls",
            "_model_module_version": "1.5.0",
            "_model_name": "HTMLModel",
            "_view_count": null,
            "_view_module": "@jupyter-widgets/controls",
            "_view_module_version": "1.5.0",
            "_view_name": "HTMLView",
            "description": "",
            "description_tooltip": null,
            "layout": "IPY_MODEL_c96e19abd5fd4e2aa8dcdb72b58719da",
            "placeholder": "​",
            "style": "IPY_MODEL_e4f11a90a83649a3a0182d58cfe45089",
            "value": "<p>Search for any cryptocurrency or select from popular options</p>"
          }
        },
        "e0ca17b11d0f490d91f0bb286ecf1467": {
          "model_module": "@jupyter-widgets/controls",
          "model_name": "HBoxModel",
          "model_module_version": "1.5.0",
          "state": {
            "_dom_classes": [],
            "_model_module": "@jupyter-widgets/controls",
            "_model_module_version": "1.5.0",
            "_model_name": "HBoxModel",
            "_view_count": null,
            "_view_module": "@jupyter-widgets/controls",
            "_view_module_version": "1.5.0",
            "_view_name": "HBoxView",
            "box_style": "",
            "children": [
              "IPY_MODEL_ceab49268f8948dd9db2ef8d6cab2606",
              "IPY_MODEL_8153dd37707b4236b56e4e705cb2c55b"
            ],
            "layout": "IPY_MODEL_e7c9a67a55bf4e1fa42d3c9fb87c8d43"
          }
        },
        "181ac5b066134d3dbfaa84f1a45350c9": {
          "model_module": "@jupyter-widgets/controls",
          "model_name": "HBoxModel",
          "model_module_version": "1.5.0",
          "state": {
            "_dom_classes": [],
            "_model_module": "@jupyter-widgets/controls",
            "_model_module_version": "1.5.0",
            "_model_name": "HBoxModel",
            "_view_count": null,
            "_view_module": "@jupyter-widgets/controls",
            "_view_module_version": "1.5.0",
            "_view_name": "HBoxView",
            "box_style": "",
            "children": [
              "IPY_MODEL_28b91a3dc99c44c1bc6aba735ab00e8b",
              "IPY_MODEL_c24bacc7093147108b7a3a0152bc07ca"
            ],
            "layout": "IPY_MODEL_b04f8016e08d43db847867fb28581458"
          }
        },
        "51f3c4545a6149baa5d38608d59ebfab": {
          "model_module": "@jupyter-widgets/controls",
          "model_name": "ButtonModel",
          "model_module_version": "1.5.0",
          "state": {
            "_dom_classes": [],
            "_model_module": "@jupyter-widgets/controls",
            "_model_module_version": "1.5.0",
            "_model_name": "ButtonModel",
            "_view_count": null,
            "_view_module": "@jupyter-widgets/controls",
            "_view_module_version": "1.5.0",
            "_view_name": "ButtonView",
            "button_style": "",
            "description": "Analyze & Predict",
            "disabled": false,
            "icon": "",
            "layout": "IPY_MODEL_6dbd537a3667405283fd02f3bd72a2c9",
            "style": "IPY_MODEL_996636d5711a4f9d855d6d3493f4ea35",
            "tooltip": ""
          }
        },
        "4ce1a2b1473e4c1788e164ce23aafc68": {
          "model_module": "@jupyter-widgets/output",
          "model_name": "OutputModel",
          "model_module_version": "1.0.0",
          "state": {
            "_dom_classes": [],
            "_model_module": "@jupyter-widgets/output",
            "_model_module_version": "1.0.0",
            "_model_name": "OutputModel",
            "_view_count": null,
            "_view_module": "@jupyter-widgets/output",
            "_view_module_version": "1.0.0",
            "_view_name": "OutputView",
            "layout": "IPY_MODEL_33814b855dd74ba3ad0d90f29a92251f",
            "msg_id": "",
            "outputs": [
              {
                "output_type": "stream",
                "name": "stderr",
                "text": [
                  "\r[*********************100%***********************]  1 of 1 completed"
                ]
              },
              {
                "output_type": "stream",
                "name": "stdout",
                "text": [
                  "Starting analysis for BTC-USD...\n",
                  "Analysis settings: Show 11 days, Predict 3 days, Model: Simple (Faster)\n",
                  "Current USD to INR rate: 85.78\n",
                  "Fetching market factors...\n",
                  "Fetching S&P 500 data...\n",
                  "Fetching Bitcoin market dominance...\n"
                ]
              },
              {
                "output_type": "stream",
                "name": "stderr",
                "text": [
                  "\n",
                  "\r[*********************100%***********************]  1 of 1 completed"
                ]
              },
              {
                "output_type": "stream",
                "name": "stderr",
                "text": [
                  "\n"
                ]
              },
              {
                "output_type": "stream",
                "name": "stderr",
                "text": [
                  "\r[*********************100%***********************]  1 of 1 completed"
                ]
              },
              {
                "output_type": "stream",
                "name": "stderr",
                "text": [
                  "\n",
                  "\r[*********************100%***********************]  1 of 1 completed"
                ]
              },
              {
                "output_type": "stream",
                "name": "stdout",
                "text": [
                  "Current BTC dominance: 61.09401506772373%\n",
                  "Fetching Dollar Index (DXY) data...\n",
                  "Fetching Gold price data...\n",
                  "Fetching VIX volatility data...\n"
                ]
              },
              {
                "output_type": "stream",
                "name": "stderr",
                "text": [
                  "\n"
                ]
              },
              {
                "output_type": "stream",
                "name": "stdout",
                "text": [
                  "Current Fear & Greed Index: 29\n",
                  "Fetching data for BTC-USD...\n",
                  "Fetching 365 days of data for bitcoin...\n"
                ]
              },
              {
                "output_type": "stream",
                "name": "stdout",
                "text": [
                  "Successfully fetched 366 days of data\n",
                  "Analyzing sentiment for BTC...\n",
                  "News sentiment for BTC: 0.19 (magnitude: 0.22)\n",
                  "Successfully loaded 366 data points\n",
                  "Calculating technical indicators...\n"
                ]
              },
              {
                "output_type": "stream",
                "name": "stdout",
                "text": [
                  "\n",
                  "Recent price information:\n",
                  "Current price: ₹7297994.43 ($85078.04)\n",
                  "7-day change: 2.97%\n",
                  "30-day change: 1.19%\n",
                  "Training ensemble prediction model...\n",
                  "Training deep learning model...\n",
                  "Epoch 1/100\n"
                ]
              },
              {
                "output_type": "stream",
                "name": "stderr",
                "text": [
                  "<ipython-input-19-836b45019174>:556: FutureWarning: DataFrame.fillna with 'method' is deprecated and will raise in a future version. Use obj.ffill() or obj.bfill() instead.\n",
                  "  df.fillna(method='bfill', inplace=True)\n",
                  "<ipython-input-19-836b45019174>:557: FutureWarning: DataFrame.fillna with 'method' is deprecated and will raise in a future version. Use obj.ffill() or obj.bfill() instead.\n",
                  "  df.fillna(method='ffill', inplace=True)\n",
                  "/usr/local/lib/python3.11/dist-packages/keras/src/layers/rnn/rnn.py:200: UserWarning: Do not pass an `input_shape`/`input_dim` argument to a layer. When using Sequential models, prefer using an `Input(shape)` object as the first layer in the model instead.\n",
                  "  super().__init__(**kwargs)\n"
                ]
              },
              {
                "output_type": "stream",
                "name": "stdout",
                "text": [
                  "\r\u001b[1m1/9\u001b[0m \u001b[32m━━\u001b[0m\u001b[37m━━━━━━━━━━━━━━━━━━\u001b[0m \u001b[1m53s\u001b[0m 7s/step - loss: 0.2847"
                ]
              },
              {
                "output_type": "stream",
                "name": "stdout",
                "text": [
                  "\b\b\b\b\b\b\b\b\b\b\b\b\b\b\b\b\b\b\b\b\b\b\b\b\b\b\b\b\b\b\b\b\b\b\b\b\b\b\b\b\b\b\b\b\b\b\b\b\b\b\b\r\u001b[1m5/9\u001b[0m \u001b[32m━━━━━━━━━━━\u001b[0m\u001b[37m━━━━━━━━━\u001b[0m \u001b[1m0s\u001b[0m 13ms/step - loss: 0.2285"
                ]
              },
              {
                "output_type": "stream",
                "name": "stdout",
                "text": [
                  "\b\b\b\b\b\b\b\b\b\b\b\b\b\b\b\b\b\b\b\b\b\b\b\b\b\b\b\b\b\b\b\b\b\b\b\b\b\b\b\b\b\b\b\b\b\b\b\b\b\b\b\b\r\u001b[1m9/9\u001b[0m \u001b[32m━━━━━━━━━━━━━━━━━━━━\u001b[0m\u001b[37m\u001b[0m \u001b[1m0s\u001b[0m 13ms/step - loss: 0.1918"
                ]
              },
              {
                "output_type": "stream",
                "name": "stdout",
                "text": [
                  "\b\b\b\b\b\b\b\b\b\b\b\b\b\b\b\b\b\b\b\b\b\b\b\b\b\b\b\b\b\b\b\b\b\b\b\b\b\b\b\b\b\b\b\b\b\b\b\b\b\b\b\b\r\u001b[1m9/9\u001b[0m \u001b[32m━━━━━━━━━━━━━━━━━━━━\u001b[0m\u001b[37m\u001b[0m \u001b[1m7s\u001b[0m 100ms/step - loss: 0.1854 - val_loss: 0.0112\n"
                ]
              },
              {
                "output_type": "stream",
                "name": "stdout",
                "text": [
                  "Epoch 2/100\n"
                ]
              },
              {
                "output_type": "stream",
                "name": "stdout",
                "text": [
                  "\r\u001b[1m1/9\u001b[0m \u001b[32m━━\u001b[0m\u001b[37m━━━━━━━━━━━━━━━━━━\u001b[0m \u001b[1m0s\u001b[0m 39ms/step - loss: 0.0105"
                ]
              },
              {
                "output_type": "stream",
                "name": "stdout",
                "text": [
                  "\b\b\b\b\b\b\b\b\b\b\b\b\b\b\b\b\b\b\b\b\b\b\b\b\b\b\b\b\b\b\b\b\b\b\b\b\b\b\b\b\b\b\b\b\b\b\b\b\b\b\b\b\r\u001b[1m5/9\u001b[0m \u001b[32m━━━━━━━━━━━\u001b[0m\u001b[37m━━━━━━━━━\u001b[0m \u001b[1m0s\u001b[0m 13ms/step - loss: 0.0159"
                ]
              },
              {
                "output_type": "stream",
                "name": "stdout",
                "text": [
                  "\b\b\b\b\b\b\b\b\b\b\b\b\b\b\b\b\b\b\b\b\b\b\b\b\b\b\b\b\b\b\b\b\b\b\b\b\b\b\b\b\b\b\b\b\b\b\b\b\b\b\b\b\r\u001b[1m9/9\u001b[0m \u001b[32m━━━━━━━━━━━━━━━━━━━━\u001b[0m\u001b[37m\u001b[0m \u001b[1m0s\u001b[0m 13ms/step - loss: 0.0182"
                ]
              },
              {
                "output_type": "stream",
                "name": "stdout",
                "text": [
                  "\b\b\b\b\b\b\b\b\b\b\b\b\b\b\b\b\b\b\b\b\b\b\b\b\b\b\b\b\b\b\b\b\b\b\b\b\b\b\b\b\b\b\b\b\b\b\b\b\b\b\b\b\r\u001b[1m9/9\u001b[0m \u001b[32m━━━━━━━━━━━━━━━━━━━━\u001b[0m\u001b[37m\u001b[0m \u001b[1m0s\u001b[0m 24ms/step - loss: 0.0184 - val_loss: 0.0077\n"
                ]
              },
              {
                "output_type": "stream",
                "name": "stdout",
                "text": [
                  "Epoch 3/100\n"
                ]
              },
              {
                "output_type": "stream",
                "name": "stdout",
                "text": [
                  "\r\u001b[1m1/9\u001b[0m \u001b[32m━━\u001b[0m\u001b[37m━━━━━━━━━━━━━━━━━━\u001b[0m \u001b[1m0s\u001b[0m 40ms/step - loss: 0.0115"
                ]
              },
              {
                "output_type": "stream",
                "name": "stdout",
                "text": [
                  "\b\b\b\b\b\b\b\b\b\b\b\b\b\b\b\b\b\b\b\b\b\b\b\b\b\b\b\b\b\b\b\b\b\b\b\b\b\b\b\b\b\b\b\b\b\b\b\b\b\b\b\b\r\u001b[1m5/9\u001b[0m \u001b[32m━━━━━━━━━━━\u001b[0m\u001b[37m━━━━━━━━━\u001b[0m \u001b[1m0s\u001b[0m 13ms/step - loss: 0.0107"
                ]
              },
              {
                "output_type": "stream",
                "name": "stdout",
                "text": [
                  "\b\b\b\b\b\b\b\b\b\b\b\b\b\b\b\b\b\b\b\b\b\b\b\b\b\b\b\b\b\b\b\b\b\b\b\b\b\b\b\b\b\b\b\b\b\b\b\b\b\b\b\b\r\u001b[1m9/9\u001b[0m \u001b[32m━━━━━━━━━━━━━━━━━━━━\u001b[0m\u001b[37m\u001b[0m \u001b[1m0s\u001b[0m 13ms/step - loss: 0.0107"
                ]
              },
              {
                "output_type": "stream",
                "name": "stdout",
                "text": [
                  "\b\b\b\b\b\b\b\b\b\b\b\b\b\b\b\b\b\b\b\b\b\b\b\b\b\b\b\b\b\b\b\b\b\b\b\b\b\b\b\b\b\b\b\b\b\b\b\b\b\b\b\b\r\u001b[1m9/9\u001b[0m \u001b[32m━━━━━━━━━━━━━━━━━━━━\u001b[0m\u001b[37m\u001b[0m \u001b[1m0s\u001b[0m 23ms/step - loss: 0.0107 - val_loss: 0.0052\n"
                ]
              },
              {
                "output_type": "stream",
                "name": "stdout",
                "text": [
                  "Epoch 4/100\n"
                ]
              },
              {
                "output_type": "stream",
                "name": "stdout",
                "text": [
                  "\r\u001b[1m1/9\u001b[0m \u001b[32m━━\u001b[0m\u001b[37m━━━━━━━━━━━━━━━━━━\u001b[0m \u001b[1m0s\u001b[0m 37ms/step - loss: 0.0056"
                ]
              },
              {
                "output_type": "stream",
                "name": "stdout",
                "text": [
                  "\b\b\b\b\b\b\b\b\b\b\b\b\b\b\b\b\b\b\b\b\b\b\b\b\b\b\b\b\b\b\b\b\b\b\b\b\b\b\b\b\b\b\b\b\b\b\b\b\b\b\b\b\r\u001b[1m5/9\u001b[0m \u001b[32m━━━━━━━━━━━\u001b[0m\u001b[37m━━━━━━━━━\u001b[0m \u001b[1m0s\u001b[0m 16ms/step - loss: 0.0092"
                ]
              },
              {
                "output_type": "stream",
                "name": "stdout",
                "text": [
                  "\b\b\b\b\b\b\b\b\b\b\b\b\b\b\b\b\b\b\b\b\b\b\b\b\b\b\b\b\b\b\b\b\b\b\b\b\b\b\b\b\b\b\b\b\b\b\b\b\b\b\b\b\r\u001b[1m9/9\u001b[0m \u001b[32m━━━━━━━━━━━━━━━━━━━━\u001b[0m\u001b[37m\u001b[0m \u001b[1m0s\u001b[0m 14ms/step - loss: 0.0096"
                ]
              },
              {
                "output_type": "stream",
                "name": "stdout",
                "text": [
                  "\b\b\b\b\b\b\b\b\b\b\b\b\b\b\b\b\b\b\b\b\b\b\b\b\b\b\b\b\b\b\b\b\b\b\b\b\b\b\b\b\b\b\b\b\b\b\b\b\b\b\b\b\r\u001b[1m9/9\u001b[0m \u001b[32m━━━━━━━━━━━━━━━━━━━━\u001b[0m\u001b[37m\u001b[0m \u001b[1m0s\u001b[0m 27ms/step - loss: 0.0097 - val_loss: 0.0120\n"
                ]
              },
              {
                "output_type": "stream",
                "name": "stdout",
                "text": [
                  "Epoch 5/100\n"
                ]
              },
              {
                "output_type": "stream",
                "name": "stdout",
                "text": [
                  "\r\u001b[1m1/9\u001b[0m \u001b[32m━━\u001b[0m\u001b[37m━━━━━━━━━━━━━━━━━━\u001b[0m \u001b[1m0s\u001b[0m 40ms/step - loss: 0.0073"
                ]
              },
              {
                "output_type": "stream",
                "name": "stdout",
                "text": [
                  "\b\b\b\b\b\b\b\b\b\b\b\b\b\b\b\b\b\b\b\b\b\b\b\b\b\b\b\b\b\b\b\b\b\b\b\b\b\b\b\b\b\b\b\b\b\b\b\b\b\b\b\b\r\u001b[1m5/9\u001b[0m \u001b[32m━━━━━━━━━━━\u001b[0m\u001b[37m━━━━━━━━━\u001b[0m \u001b[1m0s\u001b[0m 13ms/step - loss: 0.0101"
                ]
              },
              {
                "output_type": "stream",
                "name": "stdout",
                "text": [
                  "\b\b\b\b\b\b\b\b\b\b\b\b\b\b\b\b\b\b\b\b\b\b\b\b\b\b\b\b\b\b\b\b\b\b\b\b\b\b\b\b\b\b\b\b\b\b\b\b\b\b\b\b\r\u001b[1m9/9\u001b[0m \u001b[32m━━━━━━━━━━━━━━━━━━━━\u001b[0m\u001b[37m\u001b[0m \u001b[1m0s\u001b[0m 22ms/step - loss: 0.0100 - val_loss: 0.0047\n"
                ]
              },
              {
                "output_type": "stream",
                "name": "stdout",
                "text": [
                  "Epoch 6/100\n"
                ]
              },
              {
                "output_type": "stream",
                "name": "stdout",
                "text": [
                  "\r\u001b[1m1/9\u001b[0m \u001b[32m━━\u001b[0m\u001b[37m━━━━━━━━━━━━━━━━━━\u001b[0m \u001b[1m0s\u001b[0m 119ms/step - loss: 0.0091"
                ]
              },
              {
                "output_type": "stream",
                "name": "stdout",
                "text": [
                  "\b\b\b\b\b\b\b\b\b\b\b\b\b\b\b\b\b\b\b\b\b\b\b\b\b\b\b\b\b\b\b\b\b\b\b\b\b\b\b\b\b\b\b\b\b\b\b\b\b\b\b\b\b\r\u001b[1m6/9\u001b[0m \u001b[32m━━━━━━━━━━━━━\u001b[0m\u001b[37m━━━━━━━\u001b[0m \u001b[1m0s\u001b[0m 12ms/step - loss: 0.0093 "
                ]
              },
              {
                "output_type": "stream",
                "name": "stdout",
                "text": [
                  "\b\b\b\b\b\b\b\b\b\b\b\b\b\b\b\b\b\b\b\b\b\b\b\b\b\b\b\b\b\b\b\b\b\b\b\b\b\b\b\b\b\b\b\b\b\b\b\b\b\b\b\b\r\u001b[1m9/9\u001b[0m \u001b[32m━━━━━━━━━━━━━━━━━━━━\u001b[0m\u001b[37m\u001b[0m \u001b[1m0s\u001b[0m 23ms/step - loss: 0.0089 - val_loss: 0.0118\n"
                ]
              },
              {
                "output_type": "stream",
                "name": "stdout",
                "text": [
                  "Epoch 7/100\n"
                ]
              },
              {
                "output_type": "stream",
                "name": "stdout",
                "text": [
                  "\r\u001b[1m1/9\u001b[0m \u001b[32m━━\u001b[0m\u001b[37m━━━━━━━━━━━━━━━━━━\u001b[0m \u001b[1m0s\u001b[0m 39ms/step - loss: 0.0081"
                ]
              },
              {
                "output_type": "stream",
                "name": "stdout",
                "text": [
                  "\b\b\b\b\b\b\b\b\b\b\b\b\b\b\b\b\b\b\b\b\b\b\b\b\b\b\b\b\b\b\b\b\b\b\b\b\b\b\b\b\b\b\b\b\b\b\b\b\b\b\b\b\r\u001b[1m5/9\u001b[0m \u001b[32m━━━━━━━━━━━\u001b[0m\u001b[37m━━━━━━━━━\u001b[0m \u001b[1m0s\u001b[0m 13ms/step - loss: 0.0082"
                ]
              },
              {
                "output_type": "stream",
                "name": "stdout",
                "text": [
                  "\b\b\b\b\b\b\b\b\b\b\b\b\b\b\b\b\b\b\b\b\b\b\b\b\b\b\b\b\b\b\b\b\b\b\b\b\b\b\b\b\b\b\b\b\b\b\b\b\b\b\b\b\r\u001b[1m9/9\u001b[0m \u001b[32m━━━━━━━━━━━━━━━━━━━━\u001b[0m\u001b[37m\u001b[0m \u001b[1m0s\u001b[0m 13ms/step - loss: 0.0080"
                ]
              },
              {
                "output_type": "stream",
                "name": "stdout",
                "text": [
                  "\b\b\b\b\b\b\b\b\b\b\b\b\b\b\b\b\b\b\b\b\b\b\b\b\b\b\b\b\b\b\b\b\b\b\b\b\b\b\b\b\b\b\b\b\b\b\b\b\b\b\b\b\r\u001b[1m9/9\u001b[0m \u001b[32m━━━━━━━━━━━━━━━━━━━━\u001b[0m\u001b[37m\u001b[0m \u001b[1m0s\u001b[0m 23ms/step - loss: 0.0079 - val_loss: 0.0049\n"
                ]
              },
              {
                "output_type": "stream",
                "name": "stdout",
                "text": [
                  "Epoch 8/100\n"
                ]
              },
              {
                "output_type": "stream",
                "name": "stdout",
                "text": [
                  "\r\u001b[1m1/9\u001b[0m \u001b[32m━━\u001b[0m\u001b[37m━━━━━━━━━━━━━━━━━━\u001b[0m \u001b[1m0s\u001b[0m 114ms/step - loss: 0.0104"
                ]
              },
              {
                "output_type": "stream",
                "name": "stdout",
                "text": [
                  "\b\b\b\b\b\b\b\b\b\b\b\b\b\b\b\b\b\b\b\b\b\b\b\b\b\b\b\b\b\b\b\b\b\b\b\b\b\b\b\b\b\b\b\b\b\b\b\b\b\b\b\b\b\r\u001b[1m5/9\u001b[0m \u001b[32m━━━━━━━━━━━\u001b[0m\u001b[37m━━━━━━━━━\u001b[0m \u001b[1m0s\u001b[0m 13ms/step - loss: 0.0094 "
                ]
              },
              {
                "output_type": "stream",
                "name": "stdout",
                "text": [
                  "\b\b\b\b\b\b\b\b\b\b\b\b\b\b\b\b\b\b\b\b\b\b\b\b\b\b\b\b\b\b\b\b\b\b\b\b\b\b\b\b\b\b\b\b\b\b\b\b\b\b\b\b\r\u001b[1m8/9\u001b[0m \u001b[32m━━━━━━━━━━━━━━━━━\u001b[0m\u001b[37m━━━\u001b[0m \u001b[1m0s\u001b[0m 15ms/step - loss: 0.0086"
                ]
              },
              {
                "output_type": "stream",
                "name": "stdout",
                "text": [
                  "\b\b\b\b\b\b\b\b\b\b\b\b\b\b\b\b\b\b\b\b\b\b\b\b\b\b\b\b\b\b\b\b\b\b\b\b\b\b\b\b\b\b\b\b\b\b\b\b\b\b\b\b\r\u001b[1m9/9\u001b[0m \u001b[32m━━━━━━━━━━━━━━━━━━━━\u001b[0m\u001b[37m\u001b[0m \u001b[1m0s\u001b[0m 25ms/step - loss: 0.0084 - val_loss: 0.0081\n"
                ]
              },
              {
                "output_type": "stream",
                "name": "stdout",
                "text": [
                  "Epoch 9/100\n"
                ]
              },
              {
                "output_type": "stream",
                "name": "stdout",
                "text": [
                  "\r\u001b[1m1/9\u001b[0m \u001b[32m━━\u001b[0m\u001b[37m━━━━━━━━━━━━━━━━━━\u001b[0m \u001b[1m0s\u001b[0m 103ms/step - loss: 0.0078"
                ]
              },
              {
                "output_type": "stream",
                "name": "stdout",
                "text": [
                  "\b\b\b\b\b\b\b\b\b\b\b\b\b\b\b\b\b\b\b\b\b\b\b\b\b\b\b\b\b\b\b\b\b\b\b\b\b\b\b\b\b\b\b\b\b\b\b\b\b\b\b\b\b\r\u001b[1m5/9\u001b[0m \u001b[32m━━━━━━━━━━━\u001b[0m\u001b[37m━━━━━━━━━\u001b[0m \u001b[1m0s\u001b[0m 13ms/step - loss: 0.0076 "
                ]
              },
              {
                "output_type": "stream",
                "name": "stdout",
                "text": [
                  "\b\b\b\b\b\b\b\b\b\b\b\b\b\b\b\b\b\b\b\b\b\b\b\b\b\b\b\b\b\b\b\b\b\b\b\b\b\b\b\b\b\b\b\b\b\b\b\b\b\b\b\b\r\u001b[1m9/9\u001b[0m \u001b[32m━━━━━━━━━━━━━━━━━━━━\u001b[0m\u001b[37m\u001b[0m \u001b[1m0s\u001b[0m 13ms/step - loss: 0.0075"
                ]
              },
              {
                "output_type": "stream",
                "name": "stdout",
                "text": [
                  "\b\b\b\b\b\b\b\b\b\b\b\b\b\b\b\b\b\b\b\b\b\b\b\b\b\b\b\b\b\b\b\b\b\b\b\b\b\b\b\b\b\b\b\b\b\b\b\b\b\b\b\b\r\u001b[1m9/9\u001b[0m \u001b[32m━━━━━━━━━━━━━━━━━━━━\u001b[0m\u001b[37m\u001b[0m \u001b[1m0s\u001b[0m 24ms/step - loss: 0.0075 - val_loss: 0.0061\n"
                ]
              },
              {
                "output_type": "stream",
                "name": "stdout",
                "text": [
                  "Epoch 10/100\n"
                ]
              },
              {
                "output_type": "stream",
                "name": "stdout",
                "text": [
                  "\r\u001b[1m1/9\u001b[0m \u001b[32m━━\u001b[0m\u001b[37m━━━━━━━━━━━━━━━━━━\u001b[0m \u001b[1m0s\u001b[0m 36ms/step - loss: 0.0075"
                ]
              },
              {
                "output_type": "stream",
                "name": "stdout",
                "text": [
                  "\b\b\b\b\b\b\b\b\b\b\b\b\b\b\b\b\b\b\b\b\b\b\b\b\b\b\b\b\b\b\b\b\b\b\b\b\b\b\b\b\b\b\b\b\b\b\b\b\b\b\b\b\r\u001b[1m5/9\u001b[0m \u001b[32m━━━━━━━━━━━\u001b[0m\u001b[37m━━━━━━━━━\u001b[0m \u001b[1m0s\u001b[0m 14ms/step - loss: 0.0078"
                ]
              },
              {
                "output_type": "stream",
                "name": "stdout",
                "text": [
                  "\b\b\b\b\b\b\b\b\b\b\b\b\b\b\b\b\b\b\b\b\b\b\b\b\b\b\b\b\b\b\b\b\b\b\b\b\b\b\b\b\b\b\b\b\b\b\b\b\b\b\b\b\r\u001b[1m9/9\u001b[0m \u001b[32m━━━━━━━━━━━━━━━━━━━━\u001b[0m\u001b[37m\u001b[0m \u001b[1m0s\u001b[0m 14ms/step - loss: 0.0075"
                ]
              },
              {
                "output_type": "stream",
                "name": "stdout",
                "text": [
                  "\b\b\b\b\b\b\b\b\b\b\b\b\b\b\b\b\b\b\b\b\b\b\b\b\b\b\b\b\b\b\b\b\b\b\b\b\b\b\b\b\b\b\b\b\b\b\b\b\b\b\b\b\r\u001b[1m9/9\u001b[0m \u001b[32m━━━━━━━━━━━━━━━━━━━━\u001b[0m\u001b[37m\u001b[0m \u001b[1m0s\u001b[0m 24ms/step - loss: 0.0074 - val_loss: 0.0063\n"
                ]
              },
              {
                "output_type": "stream",
                "name": "stdout",
                "text": [
                  "Epoch 11/100\n"
                ]
              },
              {
                "output_type": "stream",
                "name": "stdout",
                "text": [
                  "\r\u001b[1m1/9\u001b[0m \u001b[32m━━\u001b[0m\u001b[37m━━━━━━━━━━━━━━━━━━\u001b[0m \u001b[1m0s\u001b[0m 41ms/step - loss: 0.0069"
                ]
              },
              {
                "output_type": "stream",
                "name": "stdout",
                "text": [
                  "\b\b\b\b\b\b\b\b\b\b\b\b\b\b\b\b\b\b\b\b\b\b\b\b\b\b\b\b\b\b\b\b\b\b\b\b\b\b\b\b\b\b\b\b\b\b\b\b\b\b\b\b\r\u001b[1m5/9\u001b[0m \u001b[32m━━━━━━━━━━━\u001b[0m\u001b[37m━━━━━━━━━\u001b[0m \u001b[1m0s\u001b[0m 13ms/step - loss: 0.0068"
                ]
              },
              {
                "output_type": "stream",
                "name": "stdout",
                "text": [
                  "\b\b\b\b\b\b\b\b\b\b\b\b\b\b\b\b\b\b\b\b\b\b\b\b\b\b\b\b\b\b\b\b\b\b\b\b\b\b\b\b\b\b\b\b\b\b\b\b\b\b\b\b\r\u001b[1m9/9\u001b[0m \u001b[32m━━━━━━━━━━━━━━━━━━━━\u001b[0m\u001b[37m\u001b[0m \u001b[1m0s\u001b[0m 13ms/step - loss: 0.0069"
                ]
              },
              {
                "output_type": "stream",
                "name": "stdout",
                "text": [
                  "\b\b\b\b\b\b\b\b\b\b\b\b\b\b\b\b\b\b\b\b\b\b\b\b\b\b\b\b\b\b\b\b\b\b\b\b\b\b\b\b\b\b\b\b\b\b\b\b\b\b\b\b\r\u001b[1m9/9\u001b[0m \u001b[32m━━━━━━━━━━━━━━━━━━━━\u001b[0m\u001b[37m\u001b[0m \u001b[1m0s\u001b[0m 28ms/step - loss: 0.0069 - val_loss: 0.0036\n"
                ]
              },
              {
                "output_type": "stream",
                "name": "stdout",
                "text": [
                  "Epoch 12/100\n"
                ]
              },
              {
                "output_type": "stream",
                "name": "stdout",
                "text": [
                  "\r\u001b[1m1/9\u001b[0m \u001b[32m━━\u001b[0m\u001b[37m━━━━━━━━━━━━━━━━━━\u001b[0m \u001b[1m0s\u001b[0m 80ms/step - loss: 0.0043"
                ]
              },
              {
                "output_type": "stream",
                "name": "stdout",
                "text": [
                  "\b\b\b\b\b\b\b\b\b\b\b\b\b\b\b\b\b\b\b\b\b\b\b\b\b\b\b\b\b\b\b\b\b\b\b\b\b\b\b\b\b\b\b\b\b\b\b\b\b\b\b\b\r\u001b[1m4/9\u001b[0m \u001b[32m━━━━━━━━\u001b[0m\u001b[37m━━━━━━━━━━━━\u001b[0m \u001b[1m0s\u001b[0m 18ms/step - loss: 0.0066"
                ]
              },
              {
                "output_type": "stream",
                "name": "stdout",
                "text": [
                  "\b\b\b\b\b\b\b\b\b\b\b\b\b\b\b\b\b\b\b\b\b\b\b\b\b\b\b\b\b\b\b\b\b\b\b\b\b\b\b\b\b\b\b\b\b\b\b\b\b\b\b\b\r\u001b[1m7/9\u001b[0m \u001b[32m━━━━━━━━━━━━━━━\u001b[0m\u001b[37m━━━━━\u001b[0m \u001b[1m0s\u001b[0m 17ms/step - loss: 0.0070"
                ]
              },
              {
                "output_type": "stream",
                "name": "stdout",
                "text": [
                  "\b\b\b\b\b\b\b\b\b\b\b\b\b\b\b\b\b\b\b\b\b\b\b\b\b\b\b\b\b\b\b\b\b\b\b\b\b\b\b\b\b\b\b\b\b\b\b\b\b\b\b\b\r\u001b[1m9/9\u001b[0m \u001b[32m━━━━━━━━━━━━━━━━━━━━\u001b[0m\u001b[37m\u001b[0m \u001b[1m0s\u001b[0m 33ms/step - loss: 0.0072 - val_loss: 0.0059\n"
                ]
              },
              {
                "output_type": "stream",
                "name": "stdout",
                "text": [
                  "Epoch 13/100\n"
                ]
              },
              {
                "output_type": "stream",
                "name": "stdout",
                "text": [
                  "\r\u001b[1m1/9\u001b[0m \u001b[32m━━\u001b[0m\u001b[37m━━━━━━━━━━━━━━━━━━\u001b[0m \u001b[1m0s\u001b[0m 63ms/step - loss: 0.0104"
                ]
              },
              {
                "output_type": "stream",
                "name": "stdout",
                "text": [
                  "\b\b\b\b\b\b\b\b\b\b\b\b\b\b\b\b\b\b\b\b\b\b\b\b\b\b\b\b\b\b\b\b\b\b\b\b\b\b\b\b\b\b\b\b\b\b\b\b\b\b\b\b\r\u001b[1m4/9\u001b[0m \u001b[32m━━━━━━━━\u001b[0m\u001b[37m━━━━━━━━━━━━\u001b[0m \u001b[1m0s\u001b[0m 23ms/step - loss: 0.0086"
                ]
              },
              {
                "output_type": "stream",
                "name": "stdout",
                "text": [
                  "\b\b\b\b\b\b\b\b\b\b\b\b\b\b\b\b\b\b\b\b\b\b\b\b\b\b\b\b\b\b\b\b\b\b\b\b\b\b\b\b\b\b\b\b\b\b\b\b\b\b\b\b\r\u001b[1m7/9\u001b[0m \u001b[32m━━━━━━━━━━━━━━━\u001b[0m\u001b[37m━━━━━\u001b[0m \u001b[1m0s\u001b[0m 23ms/step - loss: 0.0079"
                ]
              },
              {
                "output_type": "stream",
                "name": "stdout",
                "text": [
                  "\b\b\b\b\b\b\b\b\b\b\b\b\b\b\b\b\b\b\b\b\b\b\b\b\b\b\b\b\b\b\b\b\b\b\b\b\b\b\b\b\b\b\b\b\b\b\b\b\b\b\b\b\r\u001b[1m9/9\u001b[0m \u001b[32m━━━━━━━━━━━━━━━━━━━━\u001b[0m\u001b[37m\u001b[0m \u001b[1m0s\u001b[0m 39ms/step - loss: 0.0079 - val_loss: 0.0040\n"
                ]
              },
              {
                "output_type": "stream",
                "name": "stdout",
                "text": [
                  "Epoch 14/100\n"
                ]
              },
              {
                "output_type": "stream",
                "name": "stdout",
                "text": [
                  "\r\u001b[1m1/9\u001b[0m \u001b[32m━━\u001b[0m\u001b[37m━━━━━━━━━━━━━━━━━━\u001b[0m \u001b[1m2s\u001b[0m 310ms/step - loss: 0.0085"
                ]
              },
              {
                "output_type": "stream",
                "name": "stdout",
                "text": [
                  "\b\b\b\b\b\b\b\b\b\b\b\b\b\b\b\b\b\b\b\b\b\b\b\b\b\b\b\b\b\b\b\b\b\b\b\b\b\b\b\b\b\b\b\b\b\b\b\b\b\b\b\b\b\r\u001b[1m4/9\u001b[0m \u001b[32m━━━━━━━━\u001b[0m\u001b[37m━━━━━━━━━━━━\u001b[0m \u001b[1m0s\u001b[0m 23ms/step - loss: 0.0070 "
                ]
              },
              {
                "output_type": "stream",
                "name": "stdout",
                "text": [
                  "\b\b\b\b\b\b\b\b\b\b\b\b\b\b\b\b\b\b\b\b\b\b\b\b\b\b\b\b\b\b\b\b\b\b\b\b\b\b\b\b\b\b\b\b\b\b\b\b\b\b\b\b\r\u001b[1m7/9\u001b[0m \u001b[32m━━━━━━━━━━━━━━━\u001b[0m\u001b[37m━━━━━\u001b[0m \u001b[1m0s\u001b[0m 23ms/step - loss: 0.0068"
                ]
              },
              {
                "output_type": "stream",
                "name": "stdout",
                "text": [
                  "\b\b\b\b\b\b\b\b\b\b\b\b\b\b\b\b\b\b\b\b\b\b\b\b\b\b\b\b\b\b\b\b\b\b\b\b\b\b\b\b\b\b\b\b\b\b\b\b\b\b\b\b\r\u001b[1m9/9\u001b[0m \u001b[32m━━━━━━━━━━━━━━━━━━━━\u001b[0m\u001b[37m\u001b[0m \u001b[1m1s\u001b[0m 39ms/step - loss: 0.0067 - val_loss: 0.0043\n"
                ]
              },
              {
                "output_type": "stream",
                "name": "stdout",
                "text": [
                  "Epoch 15/100\n"
                ]
              },
              {
                "output_type": "stream",
                "name": "stdout",
                "text": [
                  "\r\u001b[1m1/9\u001b[0m \u001b[32m━━\u001b[0m\u001b[37m━━━━━━━━━━━━━━━━━━\u001b[0m \u001b[1m2s\u001b[0m 319ms/step - loss: 0.0046"
                ]
              },
              {
                "output_type": "stream",
                "name": "stdout",
                "text": [
                  "\b\b\b\b\b\b\b\b\b\b\b\b\b\b\b\b\b\b\b\b\b\b\b\b\b\b\b\b\b\b\b\b\b\b\b\b\b\b\b\b\b\b\b\b\b\b\b\b\b\b\b\b\b\r\u001b[1m4/9\u001b[0m \u001b[32m━━━━━━━━\u001b[0m\u001b[37m━━━━━━━━━━━━\u001b[0m \u001b[1m0s\u001b[0m 22ms/step - loss: 0.0052 "
                ]
              },
              {
                "output_type": "stream",
                "name": "stdout",
                "text": [
                  "\b\b\b\b\b\b\b\b\b\b\b\b\b\b\b\b\b\b\b\b\b\b\b\b\b\b\b\b\b\b\b\b\b\b\b\b\b\b\b\b\b\b\b\b\b\b\b\b\b\b\b\b\r\u001b[1m7/9\u001b[0m \u001b[32m━━━━━━━━━━━━━━━\u001b[0m\u001b[37m━━━━━\u001b[0m \u001b[1m0s\u001b[0m 22ms/step - loss: 0.0056"
                ]
              },
              {
                "output_type": "stream",
                "name": "stdout",
                "text": [
                  "\b\b\b\b\b\b\b\b\b\b\b\b\b\b\b\b\b\b\b\b\b\b\b\b\b\b\b\b\b\b\b\b\b\b\b\b\b\b\b\b\b\b\b\b\b\b\b\b\b\b\b\b\r\u001b[1m9/9\u001b[0m \u001b[32m━━━━━━━━━━━━━━━━━━━━\u001b[0m\u001b[37m\u001b[0m \u001b[1m0s\u001b[0m 23ms/step - loss: 0.0057"
                ]
              },
              {
                "output_type": "stream",
                "name": "stdout",
                "text": [
                  "\b\b\b\b\b\b\b\b\b\b\b\b\b\b\b\b\b\b\b\b\b\b\b\b\b\b\b\b\b\b\b\b\b\b\b\b\b\b\b\b\b\b\b\b\b\b\b\b\b\b\b\b\r\u001b[1m9/9\u001b[0m \u001b[32m━━━━━━━━━━━━━━━━━━━━\u001b[0m\u001b[37m\u001b[0m \u001b[1m1s\u001b[0m 41ms/step - loss: 0.0057 - val_loss: 0.0053\n"
                ]
              },
              {
                "output_type": "stream",
                "name": "stdout",
                "text": [
                  "Epoch 16/100\n"
                ]
              },
              {
                "output_type": "stream",
                "name": "stdout",
                "text": [
                  "\r\u001b[1m1/9\u001b[0m \u001b[32m━━\u001b[0m\u001b[37m━━━━━━━━━━━━━━━━━━\u001b[0m \u001b[1m2s\u001b[0m 298ms/step - loss: 0.0086"
                ]
              },
              {
                "output_type": "stream",
                "name": "stdout",
                "text": [
                  "\b\b\b\b\b\b\b\b\b\b\b\b\b\b\b\b\b\b\b\b\b\b\b\b\b\b\b\b\b\b\b\b\b\b\b\b\b\b\b\b\b\b\b\b\b\b\b\b\b\b\b\b\b\r\u001b[1m4/9\u001b[0m \u001b[32m━━━━━━━━\u001b[0m\u001b[37m━━━━━━━━━━━━\u001b[0m \u001b[1m0s\u001b[0m 23ms/step - loss: 0.0076 "
                ]
              },
              {
                "output_type": "stream",
                "name": "stdout",
                "text": [
                  "\b\b\b\b\b\b\b\b\b\b\b\b\b\b\b\b\b\b\b\b\b\b\b\b\b\b\b\b\b\b\b\b\b\b\b\b\b\b\b\b\b\b\b\b\b\b\b\b\b\b\b\b\r\u001b[1m7/9\u001b[0m \u001b[32m━━━━━━━━━━━━━━━\u001b[0m\u001b[37m━━━━━\u001b[0m \u001b[1m0s\u001b[0m 22ms/step - loss: 0.0072"
                ]
              },
              {
                "output_type": "stream",
                "name": "stdout",
                "text": [
                  "\b\b\b\b\b\b\b\b\b\b\b\b\b\b\b\b\b\b\b\b\b\b\b\b\b\b\b\b\b\b\b\b\b\b\b\b\b\b\b\b\b\b\b\b\b\b\b\b\b\b\b\b\r\u001b[1m9/9\u001b[0m \u001b[32m━━━━━━━━━━━━━━━━━━━━\u001b[0m\u001b[37m\u001b[0m \u001b[1m1s\u001b[0m 34ms/step - loss: 0.0070 - val_loss: 0.0046\n"
                ]
              },
              {
                "output_type": "stream",
                "name": "stdout",
                "text": [
                  "Epoch 17/100\n"
                ]
              },
              {
                "output_type": "stream",
                "name": "stdout",
                "text": [
                  "\r\u001b[1m1/9\u001b[0m \u001b[32m━━\u001b[0m\u001b[37m━━━━━━━━━━━━━━━━━━\u001b[0m \u001b[1m0s\u001b[0m 41ms/step - loss: 0.0052"
                ]
              },
              {
                "output_type": "stream",
                "name": "stdout",
                "text": [
                  "\b\b\b\b\b\b\b\b\b\b\b\b\b\b\b\b\b\b\b\b\b\b\b\b\b\b\b\b\b\b\b\b\b\b\b\b\b\b\b\b\b\b\b\b\b\b\b\b\b\b\b\b\r\u001b[1m6/9\u001b[0m \u001b[32m━━━━━━━━━━━━━\u001b[0m\u001b[37m━━━━━━━\u001b[0m \u001b[1m0s\u001b[0m 12ms/step - loss: 0.0070"
                ]
              },
              {
                "output_type": "stream",
                "name": "stdout",
                "text": [
                  "\b\b\b\b\b\b\b\b\b\b\b\b\b\b\b\b\b\b\b\b\b\b\b\b\b\b\b\b\b\b\b\b\b\b\b\b\b\b\b\b\b\b\b\b\b\b\b\b\b\b\b\b\r\u001b[1m9/9\u001b[0m \u001b[32m━━━━━━━━━━━━━━━━━━━━\u001b[0m\u001b[37m\u001b[0m \u001b[1m0s\u001b[0m 22ms/step - loss: 0.0066 - val_loss: 0.0038\n"
                ]
              },
              {
                "output_type": "stream",
                "name": "stdout",
                "text": [
                  "Epoch 18/100\n"
                ]
              },
              {
                "output_type": "stream",
                "name": "stdout",
                "text": [
                  "\r\u001b[1m1/9\u001b[0m \u001b[32m━━\u001b[0m\u001b[37m━━━━━━━━━━━━━━━━━━\u001b[0m \u001b[1m0s\u001b[0m 37ms/step - loss: 0.0041"
                ]
              },
              {
                "output_type": "stream",
                "name": "stdout",
                "text": [
                  "\b\b\b\b\b\b\b\b\b\b\b\b\b\b\b\b\b\b\b\b\b\b\b\b\b\b\b\b\b\b\b\b\b\b\b\b\b\b\b\b\b\b\b\b\b\b\b\b\b\b\b\b\r\u001b[1m5/9\u001b[0m \u001b[32m━━━━━━━━━━━\u001b[0m\u001b[37m━━━━━━━━━\u001b[0m \u001b[1m0s\u001b[0m 14ms/step - loss: 0.0053"
                ]
              },
              {
                "output_type": "stream",
                "name": "stdout",
                "text": [
                  "\b\b\b\b\b\b\b\b\b\b\b\b\b\b\b\b\b\b\b\b\b\b\b\b\b\b\b\b\b\b\b\b\b\b\b\b\b\b\b\b\b\b\b\b\b\b\b\b\b\b\b\b\r\u001b[1m9/9\u001b[0m \u001b[32m━━━━━━━━━━━━━━━━━━━━\u001b[0m\u001b[37m\u001b[0m \u001b[1m0s\u001b[0m 13ms/step - loss: 0.0053"
                ]
              },
              {
                "output_type": "stream",
                "name": "stdout",
                "text": [
                  "\b\b\b\b\b\b\b\b\b\b\b\b\b\b\b\b\b\b\b\b\b\b\b\b\b\b\b\b\b\b\b\b\b\b\b\b\b\b\b\b\b\b\b\b\b\b\b\b\b\b\b\b\r\u001b[1m9/9\u001b[0m \u001b[32m━━━━━━━━━━━━━━━━━━━━\u001b[0m\u001b[37m\u001b[0m \u001b[1m0s\u001b[0m 27ms/step - loss: 0.0053 - val_loss: 0.0055\n"
                ]
              },
              {
                "output_type": "stream",
                "name": "stdout",
                "text": [
                  "Epoch 19/100\n"
                ]
              },
              {
                "output_type": "stream",
                "name": "stdout",
                "text": [
                  "\r\u001b[1m1/9\u001b[0m \u001b[32m━━\u001b[0m\u001b[37m━━━━━━━━━━━━━━━━━━\u001b[0m \u001b[1m0s\u001b[0m 36ms/step - loss: 0.0077"
                ]
              },
              {
                "output_type": "stream",
                "name": "stdout",
                "text": [
                  "\b\b\b\b\b\b\b\b\b\b\b\b\b\b\b\b\b\b\b\b\b\b\b\b\b\b\b\b\b\b\b\b\b\b\b\b\b\b\b\b\b\b\b\b\b\b\b\b\b\b\b\b\r\u001b[1m6/9\u001b[0m \u001b[32m━━━━━━━━━━━━━\u001b[0m\u001b[37m━━━━━━━\u001b[0m \u001b[1m0s\u001b[0m 12ms/step - loss: 0.0070"
                ]
              },
              {
                "output_type": "stream",
                "name": "stdout",
                "text": [
                  "\b\b\b\b\b\b\b\b\b\b\b\b\b\b\b\b\b\b\b\b\b\b\b\b\b\b\b\b\b\b\b\b\b\b\b\b\b\b\b\b\b\b\b\b\b\b\b\b\b\b\b\b\r\u001b[1m9/9\u001b[0m \u001b[32m━━━━━━━━━━━━━━━━━━━━\u001b[0m\u001b[37m\u001b[0m \u001b[1m0s\u001b[0m 25ms/step - loss: 0.0064 - val_loss: 0.0034\n"
                ]
              },
              {
                "output_type": "stream",
                "name": "stdout",
                "text": [
                  "Epoch 20/100\n"
                ]
              },
              {
                "output_type": "stream",
                "name": "stdout",
                "text": [
                  "\r\u001b[1m1/9\u001b[0m \u001b[32m━━\u001b[0m\u001b[37m━━━━━━━━━━━━━━━━━━\u001b[0m \u001b[1m0s\u001b[0m 104ms/step - loss: 0.0043"
                ]
              },
              {
                "output_type": "stream",
                "name": "stdout",
                "text": [
                  "\b\b\b\b\b\b\b\b\b\b\b\b\b\b\b\b\b\b\b\b\b\b\b\b\b\b\b\b\b\b\b\b\b\b\b\b\b\b\b\b\b\b\b\b\b\b\b\b\b\b\b\b\b\r\u001b[1m5/9\u001b[0m \u001b[32m━━━━━━━━━━━\u001b[0m\u001b[37m━━━━━━━━━\u001b[0m \u001b[1m0s\u001b[0m 13ms/step - loss: 0.0053 "
                ]
              },
              {
                "output_type": "stream",
                "name": "stdout",
                "text": [
                  "\b\b\b\b\b\b\b\b\b\b\b\b\b\b\b\b\b\b\b\b\b\b\b\b\b\b\b\b\b\b\b\b\b\b\b\b\b\b\b\b\b\b\b\b\b\b\b\b\b\b\b\b\r\u001b[1m9/9\u001b[0m \u001b[32m━━━━━━━━━━━━━━━━━━━━\u001b[0m\u001b[37m\u001b[0m \u001b[1m0s\u001b[0m 15ms/step - loss: 0.0054"
                ]
              },
              {
                "output_type": "stream",
                "name": "stdout",
                "text": [
                  "\b\b\b\b\b\b\b\b\b\b\b\b\b\b\b\b\b\b\b\b\b\b\b\b\b\b\b\b\b\b\b\b\b\b\b\b\b\b\b\b\b\b\b\b\b\b\b\b\b\b\b\b\r\u001b[1m9/9\u001b[0m \u001b[32m━━━━━━━━━━━━━━━━━━━━\u001b[0m\u001b[37m\u001b[0m \u001b[1m0s\u001b[0m 27ms/step - loss: 0.0054 - val_loss: 0.0033\n"
                ]
              },
              {
                "output_type": "stream",
                "name": "stdout",
                "text": [
                  "Epoch 21/100\n"
                ]
              },
              {
                "output_type": "stream",
                "name": "stdout",
                "text": [
                  "\r\u001b[1m1/9\u001b[0m \u001b[32m━━\u001b[0m\u001b[37m━━━━━━━━━━━━━━━━━━\u001b[0m \u001b[1m0s\u001b[0m 37ms/step - loss: 0.0056"
                ]
              },
              {
                "output_type": "stream",
                "name": "stdout",
                "text": [
                  "\b\b\b\b\b\b\b\b\b\b\b\b\b\b\b\b\b\b\b\b\b\b\b\b\b\b\b\b\b\b\b\b\b\b\b\b\b\b\b\b\b\b\b\b\b\b\b\b\b\b\b\b\r\u001b[1m5/9\u001b[0m \u001b[32m━━━━━━━━━━━\u001b[0m\u001b[37m━━━━━━━━━\u001b[0m \u001b[1m0s\u001b[0m 14ms/step - loss: 0.0054"
                ]
              },
              {
                "output_type": "stream",
                "name": "stdout",
                "text": [
                  "\b\b\b\b\b\b\b\b\b\b\b\b\b\b\b\b\b\b\b\b\b\b\b\b\b\b\b\b\b\b\b\b\b\b\b\b\b\b\b\b\b\b\b\b\b\b\b\b\b\b\b\b\r\u001b[1m9/9\u001b[0m \u001b[32m━━━━━━━━━━━━━━━━━━━━\u001b[0m\u001b[37m\u001b[0m \u001b[1m0s\u001b[0m 13ms/step - loss: 0.0052"
                ]
              },
              {
                "output_type": "stream",
                "name": "stdout",
                "text": [
                  "\b\b\b\b\b\b\b\b\b\b\b\b\b\b\b\b\b\b\b\b\b\b\b\b\b\b\b\b\b\b\b\b\b\b\b\b\b\b\b\b\b\b\b\b\b\b\b\b\b\b\b\b\r\u001b[1m9/9\u001b[0m \u001b[32m━━━━━━━━━━━━━━━━━━━━\u001b[0m\u001b[37m\u001b[0m \u001b[1m0s\u001b[0m 23ms/step - loss: 0.0052 - val_loss: 0.0033\n"
                ]
              },
              {
                "output_type": "stream",
                "name": "stdout",
                "text": [
                  "Epoch 22/100\n"
                ]
              },
              {
                "output_type": "stream",
                "name": "stdout",
                "text": [
                  "\r\u001b[1m1/9\u001b[0m \u001b[32m━━\u001b[0m\u001b[37m━━━━━━━━━━━━━━━━━━\u001b[0m \u001b[1m0s\u001b[0m 116ms/step - loss: 0.0049"
                ]
              },
              {
                "output_type": "stream",
                "name": "stdout",
                "text": [
                  "\b\b\b\b\b\b\b\b\b\b\b\b\b\b\b\b\b\b\b\b\b\b\b\b\b\b\b\b\b\b\b\b\b\b\b\b\b\b\b\b\b\b\b\b\b\b\b\b\b\b\b\b\b\r\u001b[1m5/9\u001b[0m \u001b[32m━━━━━━━━━━━\u001b[0m\u001b[37m━━━━━━━━━\u001b[0m \u001b[1m0s\u001b[0m 13ms/step - loss: 0.0051 "
                ]
              },
              {
                "output_type": "stream",
                "name": "stdout",
                "text": [
                  "\b\b\b\b\b\b\b\b\b\b\b\b\b\b\b\b\b\b\b\b\b\b\b\b\b\b\b\b\b\b\b\b\b\b\b\b\b\b\b\b\b\b\b\b\b\b\b\b\b\b\b\b\r\u001b[1m9/9\u001b[0m \u001b[32m━━━━━━━━━━━━━━━━━━━━\u001b[0m\u001b[37m\u001b[0m \u001b[1m0s\u001b[0m 26ms/step - loss: 0.0051 - val_loss: 0.0034\n"
                ]
              },
              {
                "output_type": "stream",
                "name": "stdout",
                "text": [
                  "Epoch 23/100\n"
                ]
              },
              {
                "output_type": "stream",
                "name": "stdout",
                "text": [
                  "\r\u001b[1m1/9\u001b[0m \u001b[32m━━\u001b[0m\u001b[37m━━━━━━━━━━━━━━━━━━\u001b[0m \u001b[1m0s\u001b[0m 35ms/step - loss: 0.0018"
                ]
              },
              {
                "output_type": "stream",
                "name": "stdout",
                "text": [
                  "\b\b\b\b\b\b\b\b\b\b\b\b\b\b\b\b\b\b\b\b\b\b\b\b\b\b\b\b\b\b\b\b\b\b\b\b\b\b\b\b\b\b\b\b\b\b\b\b\b\b\b\b\r\u001b[1m6/9\u001b[0m \u001b[32m━━━━━━━━━━━━━\u001b[0m\u001b[37m━━━━━━━\u001b[0m \u001b[1m0s\u001b[0m 14ms/step - loss: 0.0039"
                ]
              },
              {
                "output_type": "stream",
                "name": "stdout",
                "text": [
                  "\b\b\b\b\b\b\b\b\b\b\b\b\b\b\b\b\b\b\b\b\b\b\b\b\b\b\b\b\b\b\b\b\b\b\b\b\b\b\b\b\b\b\b\b\b\b\b\b\b\b\b\b\r\u001b[1m9/9\u001b[0m \u001b[32m━━━━━━━━━━━━━━━━━━━━\u001b[0m\u001b[37m\u001b[0m \u001b[1m0s\u001b[0m 25ms/step - loss: 0.0041 - val_loss: 0.0039\n"
                ]
              },
              {
                "output_type": "stream",
                "name": "stdout",
                "text": [
                  "Epoch 24/100\n"
                ]
              },
              {
                "output_type": "stream",
                "name": "stdout",
                "text": [
                  "\r\u001b[1m1/9\u001b[0m \u001b[32m━━\u001b[0m\u001b[37m━━━━━━━━━━━━━━━━━━\u001b[0m \u001b[1m0s\u001b[0m 104ms/step - loss: 0.0025"
                ]
              },
              {
                "output_type": "stream",
                "name": "stdout",
                "text": [
                  "\b\b\b\b\b\b\b\b\b\b\b\b\b\b\b\b\b\b\b\b\b\b\b\b\b\b\b\b\b\b\b\b\b\b\b\b\b\b\b\b\b\b\b\b\b\b\b\b\b\b\b\b\b\r\u001b[1m5/9\u001b[0m \u001b[32m━━━━━━━━━━━\u001b[0m\u001b[37m━━━━━━━━━\u001b[0m \u001b[1m0s\u001b[0m 13ms/step - loss: 0.0044 "
                ]
              },
              {
                "output_type": "stream",
                "name": "stdout",
                "text": [
                  "\b\b\b\b\b\b\b\b\b\b\b\b\b\b\b\b\b\b\b\b\b\b\b\b\b\b\b\b\b\b\b\b\b\b\b\b\b\b\b\b\b\b\b\b\b\b\b\b\b\b\b\b\r\u001b[1m9/9\u001b[0m \u001b[32m━━━━━━━━━━━━━━━━━━━━\u001b[0m\u001b[37m\u001b[0m \u001b[1m0s\u001b[0m 13ms/step - loss: 0.0046"
                ]
              },
              {
                "output_type": "stream",
                "name": "stdout",
                "text": [
                  "\b\b\b\b\b\b\b\b\b\b\b\b\b\b\b\b\b\b\b\b\b\b\b\b\b\b\b\b\b\b\b\b\b\b\b\b\b\b\b\b\b\b\b\b\b\b\b\b\b\b\b\b\r\u001b[1m9/9\u001b[0m \u001b[32m━━━━━━━━━━━━━━━━━━━━\u001b[0m\u001b[37m\u001b[0m \u001b[1m0s\u001b[0m 23ms/step - loss: 0.0047 - val_loss: 0.0033\n"
                ]
              },
              {
                "output_type": "stream",
                "name": "stdout",
                "text": [
                  "Epoch 25/100\n"
                ]
              },
              {
                "output_type": "stream",
                "name": "stdout",
                "text": [
                  "\r\u001b[1m1/9\u001b[0m \u001b[32m━━\u001b[0m\u001b[37m━━━━━━━━━━━━━━━━━━\u001b[0m \u001b[1m0s\u001b[0m 113ms/step - loss: 0.0035"
                ]
              },
              {
                "output_type": "stream",
                "name": "stdout",
                "text": [
                  "\b\b\b\b\b\b\b\b\b\b\b\b\b\b\b\b\b\b\b\b\b\b\b\b\b\b\b\b\b\b\b\b\b\b\b\b\b\b\b\b\b\b\b\b\b\b\b\b\b\b\b\b\b\r\u001b[1m5/9\u001b[0m \u001b[32m━━━━━━━━━━━\u001b[0m\u001b[37m━━━━━━━━━\u001b[0m \u001b[1m0s\u001b[0m 13ms/step - loss: 0.0035 "
                ]
              },
              {
                "output_type": "stream",
                "name": "stdout",
                "text": [
                  "\b\b\b\b\b\b\b\b\b\b\b\b\b\b\b\b\b\b\b\b\b\b\b\b\b\b\b\b\b\b\b\b\b\b\b\b\b\b\b\b\b\b\b\b\b\b\b\b\b\b\b\b\r\u001b[1m9/9\u001b[0m \u001b[32m━━━━━━━━━━━━━━━━━━━━\u001b[0m\u001b[37m\u001b[0m \u001b[1m0s\u001b[0m 13ms/step - loss: 0.0042"
                ]
              },
              {
                "output_type": "stream",
                "name": "stdout",
                "text": [
                  "\b\b\b\b\b\b\b\b\b\b\b\b\b\b\b\b\b\b\b\b\b\b\b\b\b\b\b\b\b\b\b\b\b\b\b\b\b\b\b\b\b\b\b\b\b\b\b\b\b\b\b\b\r\u001b[1m9/9\u001b[0m \u001b[32m━━━━━━━━━━━━━━━━━━━━\u001b[0m\u001b[37m\u001b[0m \u001b[1m0s\u001b[0m 23ms/step - loss: 0.0043 - val_loss: 0.0038\n"
                ]
              },
              {
                "output_type": "stream",
                "name": "stdout",
                "text": [
                  "Epoch 26/100\n"
                ]
              },
              {
                "output_type": "stream",
                "name": "stdout",
                "text": [
                  "\r\u001b[1m1/9\u001b[0m \u001b[32m━━\u001b[0m\u001b[37m━━━━━━━━━━━━━━━━━━\u001b[0m \u001b[1m0s\u001b[0m 36ms/step - loss: 0.0058"
                ]
              },
              {
                "output_type": "stream",
                "name": "stdout",
                "text": [
                  "\b\b\b\b\b\b\b\b\b\b\b\b\b\b\b\b\b\b\b\b\b\b\b\b\b\b\b\b\b\b\b\b\b\b\b\b\b\b\b\b\b\b\b\b\b\b\b\b\b\b\b\b\r\u001b[1m5/9\u001b[0m \u001b[32m━━━━━━━━━━━\u001b[0m\u001b[37m━━━━━━━━━\u001b[0m \u001b[1m0s\u001b[0m 13ms/step - loss: 0.0049"
                ]
              },
              {
                "output_type": "stream",
                "name": "stdout",
                "text": [
                  "\b\b\b\b\b\b\b\b\b\b\b\b\b\b\b\b\b\b\b\b\b\b\b\b\b\b\b\b\b\b\b\b\b\b\b\b\b\b\b\b\b\b\b\b\b\b\b\b\b\b\b\b\r\u001b[1m9/9\u001b[0m \u001b[32m━━━━━━━━━━━━━━━━━━━━\u001b[0m\u001b[37m\u001b[0m \u001b[1m0s\u001b[0m 13ms/step - loss: 0.0050"
                ]
              },
              {
                "output_type": "stream",
                "name": "stdout",
                "text": [
                  "\b\b\b\b\b\b\b\b\b\b\b\b\b\b\b\b\b\b\b\b\b\b\b\b\b\b\b\b\b\b\b\b\b\b\b\b\b\b\b\b\b\b\b\b\b\b\b\b\b\b\b\b\r\u001b[1m9/9\u001b[0m \u001b[32m━━━━━━━━━━━━━━━━━━━━\u001b[0m\u001b[37m\u001b[0m \u001b[1m0s\u001b[0m 23ms/step - loss: 0.0051 - val_loss: 0.0042\n"
                ]
              },
              {
                "output_type": "stream",
                "name": "stdout",
                "text": [
                  "Epoch 27/100\n"
                ]
              },
              {
                "output_type": "stream",
                "name": "stdout",
                "text": [
                  "\r\u001b[1m1/9\u001b[0m \u001b[32m━━\u001b[0m\u001b[37m━━━━━━━━━━━━━━━━━━\u001b[0m \u001b[1m0s\u001b[0m 36ms/step - loss: 0.0025"
                ]
              },
              {
                "output_type": "stream",
                "name": "stdout",
                "text": [
                  "\b\b\b\b\b\b\b\b\b\b\b\b\b\b\b\b\b\b\b\b\b\b\b\b\b\b\b\b\b\b\b\b\b\b\b\b\b\b\b\b\b\b\b\b\b\b\b\b\b\b\b\b\r\u001b[1m5/9\u001b[0m \u001b[32m━━━━━━━━━━━\u001b[0m\u001b[37m━━━━━━━━━\u001b[0m \u001b[1m0s\u001b[0m 17ms/step - loss: 0.0032"
                ]
              },
              {
                "output_type": "stream",
                "name": "stdout",
                "text": [
                  "\b\b\b\b\b\b\b\b\b\b\b\b\b\b\b\b\b\b\b\b\b\b\b\b\b\b\b\b\b\b\b\b\b\b\b\b\b\b\b\b\b\b\b\b\b\b\b\b\b\b\b\b\r\u001b[1m9/9\u001b[0m \u001b[32m━━━━━━━━━━━━━━━━━━━━\u001b[0m\u001b[37m\u001b[0m \u001b[1m0s\u001b[0m 15ms/step - loss: 0.0036"
                ]
              },
              {
                "output_type": "stream",
                "name": "stdout",
                "text": [
                  "\b\b\b\b\b\b\b\b\b\b\b\b\b\b\b\b\b\b\b\b\b\b\b\b\b\b\b\b\b\b\b\b\b\b\b\b\b\b\b\b\b\b\b\b\b\b\b\b\b\b\b\b\r\u001b[1m9/9\u001b[0m \u001b[32m━━━━━━━━━━━━━━━━━━━━\u001b[0m\u001b[37m\u001b[0m \u001b[1m0s\u001b[0m 26ms/step - loss: 0.0037 - val_loss: 0.0032\n"
                ]
              },
              {
                "output_type": "stream",
                "name": "stdout",
                "text": [
                  "Epoch 28/100\n"
                ]
              },
              {
                "output_type": "stream",
                "name": "stdout",
                "text": [
                  "\r\u001b[1m1/9\u001b[0m \u001b[32m━━\u001b[0m\u001b[37m━━━━━━━━━━━━━━━━━━\u001b[0m \u001b[1m0s\u001b[0m 92ms/step - loss: 0.0059"
                ]
              },
              {
                "output_type": "stream",
                "name": "stdout",
                "text": [
                  "\b\b\b\b\b\b\b\b\b\b\b\b\b\b\b\b\b\b\b\b\b\b\b\b\b\b\b\b\b\b\b\b\b\b\b\b\b\b\b\b\b\b\b\b\b\b\b\b\b\b\b\b\r\u001b[1m5/9\u001b[0m \u001b[32m━━━━━━━━━━━\u001b[0m\u001b[37m━━━━━━━━━\u001b[0m \u001b[1m0s\u001b[0m 14ms/step - loss: 0.0051"
                ]
              },
              {
                "output_type": "stream",
                "name": "stdout",
                "text": [
                  "\b\b\b\b\b\b\b\b\b\b\b\b\b\b\b\b\b\b\b\b\b\b\b\b\b\b\b\b\b\b\b\b\b\b\b\b\b\b\b\b\b\b\b\b\b\b\b\b\b\b\b\b\r\u001b[1m9/9\u001b[0m \u001b[32m━━━━━━━━━━━━━━━━━━━━\u001b[0m\u001b[37m\u001b[0m \u001b[1m0s\u001b[0m 14ms/step - loss: 0.0047"
                ]
              },
              {
                "output_type": "stream",
                "name": "stdout",
                "text": [
                  "\b\b\b\b\b\b\b\b\b\b\b\b\b\b\b\b\b\b\b\b\b\b\b\b\b\b\b\b\b\b\b\b\b\b\b\b\b\b\b\b\b\b\b\b\b\b\b\b\b\b\b\b\r\u001b[1m9/9\u001b[0m \u001b[32m━━━━━━━━━━━━━━━━━━━━\u001b[0m\u001b[37m\u001b[0m \u001b[1m0s\u001b[0m 28ms/step - loss: 0.0047 - val_loss: 0.0036\n"
                ]
              },
              {
                "output_type": "stream",
                "name": "stdout",
                "text": [
                  "Epoch 29/100\n"
                ]
              },
              {
                "output_type": "stream",
                "name": "stdout",
                "text": [
                  "\r\u001b[1m1/9\u001b[0m \u001b[32m━━\u001b[0m\u001b[37m━━━━━━━━━━━━━━━━━━\u001b[0m \u001b[1m0s\u001b[0m 78ms/step - loss: 0.0036"
                ]
              },
              {
                "output_type": "stream",
                "name": "stdout",
                "text": [
                  "\b\b\b\b\b\b\b\b\b\b\b\b\b\b\b\b\b\b\b\b\b\b\b\b\b\b\b\b\b\b\b\b\b\b\b\b\b\b\b\b\b\b\b\b\b\b\b\b\b\b\b\b\r\u001b[1m5/9\u001b[0m \u001b[32m━━━━━━━━━━━\u001b[0m\u001b[37m━━━━━━━━━\u001b[0m \u001b[1m0s\u001b[0m 13ms/step - loss: 0.0040"
                ]
              },
              {
                "output_type": "stream",
                "name": "stdout",
                "text": [
                  "\b\b\b\b\b\b\b\b\b\b\b\b\b\b\b\b\b\b\b\b\b\b\b\b\b\b\b\b\b\b\b\b\b\b\b\b\b\b\b\b\b\b\b\b\b\b\b\b\b\b\b\b\r\u001b[1m9/9\u001b[0m \u001b[32m━━━━━━━━━━━━━━━━━━━━\u001b[0m\u001b[37m\u001b[0m \u001b[1m0s\u001b[0m 14ms/step - loss: 0.0044"
                ]
              },
              {
                "output_type": "stream",
                "name": "stdout",
                "text": [
                  "\b\b\b\b\b\b\b\b\b\b\b\b\b\b\b\b\b\b\b\b\b\b\b\b\b\b\b\b\b\b\b\b\b\b\b\b\b\b\b\b\b\b\b\b\b\b\b\b\b\b\b\b\r\u001b[1m9/9\u001b[0m \u001b[32m━━━━━━━━━━━━━━━━━━━━\u001b[0m\u001b[37m\u001b[0m \u001b[1m0s\u001b[0m 25ms/step - loss: 0.0044 - val_loss: 0.0030\n"
                ]
              },
              {
                "output_type": "stream",
                "name": "stdout",
                "text": [
                  "Epoch 30/100\n"
                ]
              },
              {
                "output_type": "stream",
                "name": "stdout",
                "text": [
                  "\r\u001b[1m1/9\u001b[0m \u001b[32m━━\u001b[0m\u001b[37m━━━━━━━━━━━━━━━━━━\u001b[0m \u001b[1m0s\u001b[0m 39ms/step - loss: 0.0048"
                ]
              },
              {
                "output_type": "stream",
                "name": "stdout",
                "text": [
                  "\b\b\b\b\b\b\b\b\b\b\b\b\b\b\b\b\b\b\b\b\b\b\b\b\b\b\b\b\b\b\b\b\b\b\b\b\b\b\b\b\b\b\b\b\b\b\b\b\b\b\b\b\r\u001b[1m5/9\u001b[0m \u001b[32m━━━━━━━━━━━\u001b[0m\u001b[37m━━━━━━━━━\u001b[0m \u001b[1m0s\u001b[0m 13ms/step - loss: 0.0045"
                ]
              },
              {
                "output_type": "stream",
                "name": "stdout",
                "text": [
                  "\b\b\b\b\b\b\b\b\b\b\b\b\b\b\b\b\b\b\b\b\b\b\b\b\b\b\b\b\b\b\b\b\b\b\b\b\b\b\b\b\b\b\b\b\b\b\b\b\b\b\b\b\r\u001b[1m9/9\u001b[0m \u001b[32m━━━━━━━━━━━━━━━━━━━━\u001b[0m\u001b[37m\u001b[0m \u001b[1m0s\u001b[0m 13ms/step - loss: 0.0046"
                ]
              },
              {
                "output_type": "stream",
                "name": "stdout",
                "text": [
                  "\b\b\b\b\b\b\b\b\b\b\b\b\b\b\b\b\b\b\b\b\b\b\b\b\b\b\b\b\b\b\b\b\b\b\b\b\b\b\b\b\b\b\b\b\b\b\b\b\b\b\b\b\r\u001b[1m9/9\u001b[0m \u001b[32m━━━━━━━━━━━━━━━━━━━━\u001b[0m\u001b[37m\u001b[0m \u001b[1m0s\u001b[0m 23ms/step - loss: 0.0046 - val_loss: 0.0030\n"
                ]
              },
              {
                "output_type": "stream",
                "name": "stdout",
                "text": [
                  "Epoch 31/100\n"
                ]
              },
              {
                "output_type": "stream",
                "name": "stdout",
                "text": [
                  "\r\u001b[1m1/9\u001b[0m \u001b[32m━━\u001b[0m\u001b[37m━━━━━━━━━━━━━━━━━━\u001b[0m \u001b[1m0s\u001b[0m 113ms/step - loss: 0.0028"
                ]
              },
              {
                "output_type": "stream",
                "name": "stdout",
                "text": [
                  "\b\b\b\b\b\b\b\b\b\b\b\b\b\b\b\b\b\b\b\b\b\b\b\b\b\b\b\b\b\b\b\b\b\b\b\b\b\b\b\b\b\b\b\b\b\b\b\b\b\b\b\b\b\r\u001b[1m5/9\u001b[0m \u001b[32m━━━━━━━━━━━\u001b[0m\u001b[37m━━━━━━━━━\u001b[0m \u001b[1m0s\u001b[0m 13ms/step - loss: 0.0033 "
                ]
              },
              {
                "output_type": "stream",
                "name": "stdout",
                "text": [
                  "\b\b\b\b\b\b\b\b\b\b\b\b\b\b\b\b\b\b\b\b\b\b\b\b\b\b\b\b\b\b\b\b\b\b\b\b\b\b\b\b\b\b\b\b\b\b\b\b\b\b\b\b\r\u001b[1m9/9\u001b[0m \u001b[32m━━━━━━━━━━━━━━━━━━━━\u001b[0m\u001b[37m\u001b[0m \u001b[1m0s\u001b[0m 13ms/step - loss: 0.0036"
                ]
              },
              {
                "output_type": "stream",
                "name": "stdout",
                "text": [
                  "\b\b\b\b\b\b\b\b\b\b\b\b\b\b\b\b\b\b\b\b\b\b\b\b\b\b\b\b\b\b\b\b\b\b\b\b\b\b\b\b\b\b\b\b\b\b\b\b\b\b\b\b\r\u001b[1m9/9\u001b[0m \u001b[32m━━━━━━━━━━━━━━━━━━━━\u001b[0m\u001b[37m\u001b[0m \u001b[1m0s\u001b[0m 25ms/step - loss: 0.0037 - val_loss: 0.0037\n"
                ]
              },
              {
                "output_type": "stream",
                "name": "stdout",
                "text": [
                  "Epoch 32/100\n"
                ]
              },
              {
                "output_type": "stream",
                "name": "stdout",
                "text": [
                  "\r\u001b[1m1/9\u001b[0m \u001b[32m━━\u001b[0m\u001b[37m━━━━━━━━━━━━━━━━━━\u001b[0m \u001b[1m0s\u001b[0m 104ms/step - loss: 0.0026"
                ]
              },
              {
                "output_type": "stream",
                "name": "stdout",
                "text": [
                  "\b\b\b\b\b\b\b\b\b\b\b\b\b\b\b\b\b\b\b\b\b\b\b\b\b\b\b\b\b\b\b\b\b\b\b\b\b\b\b\b\b\b\b\b\b\b\b\b\b\b\b\b\b\r\u001b[1m5/9\u001b[0m \u001b[32m━━━━━━━━━━━\u001b[0m\u001b[37m━━━━━━━━━\u001b[0m \u001b[1m0s\u001b[0m 13ms/step - loss: 0.0043 "
                ]
              },
              {
                "output_type": "stream",
                "name": "stdout",
                "text": [
                  "\b\b\b\b\b\b\b\b\b\b\b\b\b\b\b\b\b\b\b\b\b\b\b\b\b\b\b\b\b\b\b\b\b\b\b\b\b\b\b\b\b\b\b\b\b\b\b\b\b\b\b\b\r\u001b[1m9/9\u001b[0m \u001b[32m━━━━━━━━━━━━━━━━━━━━\u001b[0m\u001b[37m\u001b[0m \u001b[1m0s\u001b[0m 13ms/step - loss: 0.0045"
                ]
              },
              {
                "output_type": "stream",
                "name": "stdout",
                "text": [
                  "\b\b\b\b\b\b\b\b\b\b\b\b\b\b\b\b\b\b\b\b\b\b\b\b\b\b\b\b\b\b\b\b\b\b\b\b\b\b\b\b\b\b\b\b\b\b\b\b\b\b\b\b\r\u001b[1m9/9\u001b[0m \u001b[32m━━━━━━━━━━━━━━━━━━━━\u001b[0m\u001b[37m\u001b[0m \u001b[1m0s\u001b[0m 27ms/step - loss: 0.0045 - val_loss: 0.0042\n"
                ]
              },
              {
                "output_type": "stream",
                "name": "stdout",
                "text": [
                  "Epoch 33/100\n"
                ]
              },
              {
                "output_type": "stream",
                "name": "stdout",
                "text": [
                  "\r\u001b[1m1/9\u001b[0m \u001b[32m━━\u001b[0m\u001b[37m━━━━━━━━━━━━━━━━━━\u001b[0m \u001b[1m0s\u001b[0m 88ms/step - loss: 0.0068"
                ]
              },
              {
                "output_type": "stream",
                "name": "stdout",
                "text": [
                  "\b\b\b\b\b\b\b\b\b\b\b\b\b\b\b\b\b\b\b\b\b\b\b\b\b\b\b\b\b\b\b\b\b\b\b\b\b\b\b\b\b\b\b\b\b\b\b\b\b\b\b\b\r\u001b[1m6/9\u001b[0m \u001b[32m━━━━━━━━━━━━━\u001b[0m\u001b[37m━━━━━━━\u001b[0m \u001b[1m0s\u001b[0m 12ms/step - loss: 0.0061"
                ]
              },
              {
                "output_type": "stream",
                "name": "stdout",
                "text": [
                  "\b\b\b\b\b\b\b\b\b\b\b\b\b\b\b\b\b\b\b\b\b\b\b\b\b\b\b\b\b\b\b\b\b\b\b\b\b\b\b\b\b\b\b\b\b\b\b\b\b\b\b\b\r\u001b[1m9/9\u001b[0m \u001b[32m━━━━━━━━━━━━━━━━━━━━\u001b[0m\u001b[37m\u001b[0m \u001b[1m0s\u001b[0m 23ms/step - loss: 0.0059 - val_loss: 0.0074\n"
                ]
              },
              {
                "output_type": "stream",
                "name": "stdout",
                "text": [
                  "Epoch 34/100\n"
                ]
              },
              {
                "output_type": "stream",
                "name": "stdout",
                "text": [
                  "\r\u001b[1m1/9\u001b[0m \u001b[32m━━\u001b[0m\u001b[37m━━━━━━━━━━━━━━━━━━\u001b[0m \u001b[1m0s\u001b[0m 39ms/step - loss: 0.0059"
                ]
              },
              {
                "output_type": "stream",
                "name": "stdout",
                "text": [
                  "\b\b\b\b\b\b\b\b\b\b\b\b\b\b\b\b\b\b\b\b\b\b\b\b\b\b\b\b\b\b\b\b\b\b\b\b\b\b\b\b\b\b\b\b\b\b\b\b\b\b\b\b\r\u001b[1m5/9\u001b[0m \u001b[32m━━━━━━━━━━━\u001b[0m\u001b[37m━━━━━━━━━\u001b[0m \u001b[1m0s\u001b[0m 13ms/step - loss: 0.0044"
                ]
              },
              {
                "output_type": "stream",
                "name": "stdout",
                "text": [
                  "\b\b\b\b\b\b\b\b\b\b\b\b\b\b\b\b\b\b\b\b\b\b\b\b\b\b\b\b\b\b\b\b\b\b\b\b\b\b\b\b\b\b\b\b\b\b\b\b\b\b\b\b\r\u001b[1m9/9\u001b[0m \u001b[32m━━━━━━━━━━━━━━━━━━━━\u001b[0m\u001b[37m\u001b[0m \u001b[1m0s\u001b[0m 14ms/step - loss: 0.0046"
                ]
              },
              {
                "output_type": "stream",
                "name": "stdout",
                "text": [
                  "\b\b\b\b\b\b\b\b\b\b\b\b\b\b\b\b\b\b\b\b\b\b\b\b\b\b\b\b\b\b\b\b\b\b\b\b\b\b\b\b\b\b\b\b\b\b\b\b\b\b\b\b\r\u001b[1m9/9\u001b[0m \u001b[32m━━━━━━━━━━━━━━━━━━━━\u001b[0m\u001b[37m\u001b[0m \u001b[1m0s\u001b[0m 27ms/step - loss: 0.0046 - val_loss: 0.0030\n"
                ]
              },
              {
                "output_type": "stream",
                "name": "stdout",
                "text": [
                  "Epoch 35/100\n"
                ]
              },
              {
                "output_type": "stream",
                "name": "stdout",
                "text": [
                  "\r\u001b[1m1/9\u001b[0m \u001b[32m━━\u001b[0m\u001b[37m━━━━━━━━━━━━━━━━━━\u001b[0m \u001b[1m0s\u001b[0m 42ms/step - loss: 0.0050"
                ]
              },
              {
                "output_type": "stream",
                "name": "stdout",
                "text": [
                  "\b\b\b\b\b\b\b\b\b\b\b\b\b\b\b\b\b\b\b\b\b\b\b\b\b\b\b\b\b\b\b\b\b\b\b\b\b\b\b\b\b\b\b\b\b\b\b\b\b\b\b\b\r\u001b[1m5/9\u001b[0m \u001b[32m━━━━━━━━━━━\u001b[0m\u001b[37m━━━━━━━━━\u001b[0m \u001b[1m0s\u001b[0m 13ms/step - loss: 0.0047"
                ]
              },
              {
                "output_type": "stream",
                "name": "stdout",
                "text": [
                  "\b\b\b\b\b\b\b\b\b\b\b\b\b\b\b\b\b\b\b\b\b\b\b\b\b\b\b\b\b\b\b\b\b\b\b\b\b\b\b\b\b\b\b\b\b\b\b\b\b\b\b\b\r\u001b[1m9/9\u001b[0m \u001b[32m━━━━━━━━━━━━━━━━━━━━\u001b[0m\u001b[37m\u001b[0m \u001b[1m0s\u001b[0m 14ms/step - loss: 0.0045"
                ]
              },
              {
                "output_type": "stream",
                "name": "stdout",
                "text": [
                  "\b\b\b\b\b\b\b\b\b\b\b\b\b\b\b\b\b\b\b\b\b\b\b\b\b\b\b\b\b\b\b\b\b\b\b\b\b\b\b\b\b\b\b\b\b\b\b\b\b\b\b\b\r\u001b[1m9/9\u001b[0m \u001b[32m━━━━━━━━━━━━━━━━━━━━\u001b[0m\u001b[37m\u001b[0m \u001b[1m0s\u001b[0m 25ms/step - loss: 0.0045 - val_loss: 0.0059\n"
                ]
              },
              {
                "output_type": "stream",
                "name": "stdout",
                "text": [
                  "Epoch 36/100\n"
                ]
              },
              {
                "output_type": "stream",
                "name": "stdout",
                "text": [
                  "\r\u001b[1m1/9\u001b[0m \u001b[32m━━\u001b[0m\u001b[37m━━━━━━━━━━━━━━━━━━\u001b[0m \u001b[1m0s\u001b[0m 103ms/step - loss: 0.0028"
                ]
              },
              {
                "output_type": "stream",
                "name": "stdout",
                "text": [
                  "\b\b\b\b\b\b\b\b\b\b\b\b\b\b\b\b\b\b\b\b\b\b\b\b\b\b\b\b\b\b\b\b\b\b\b\b\b\b\b\b\b\b\b\b\b\b\b\b\b\b\b\b\b\r\u001b[1m5/9\u001b[0m \u001b[32m━━━━━━━━━━━\u001b[0m\u001b[37m━━━━━━━━━\u001b[0m \u001b[1m0s\u001b[0m 15ms/step - loss: 0.0037 "
                ]
              },
              {
                "output_type": "stream",
                "name": "stdout",
                "text": [
                  "\b\b\b\b\b\b\b\b\b\b\b\b\b\b\b\b\b\b\b\b\b\b\b\b\b\b\b\b\b\b\b\b\b\b\b\b\b\b\b\b\b\b\b\b\b\b\b\b\b\b\b\b\r\u001b[1m9/9\u001b[0m \u001b[32m━━━━━━━━━━━━━━━━━━━━\u001b[0m\u001b[37m\u001b[0m \u001b[1m0s\u001b[0m 14ms/step - loss: 0.0038"
                ]
              },
              {
                "output_type": "stream",
                "name": "stdout",
                "text": [
                  "\b\b\b\b\b\b\b\b\b\b\b\b\b\b\b\b\b\b\b\b\b\b\b\b\b\b\b\b\b\b\b\b\b\b\b\b\b\b\b\b\b\b\b\b\b\b\b\b\b\b\b\b\r\u001b[1m9/9\u001b[0m \u001b[32m━━━━━━━━━━━━━━━━━━━━\u001b[0m\u001b[37m\u001b[0m \u001b[1m0s\u001b[0m 29ms/step - loss: 0.0038 - val_loss: 0.0033\n"
                ]
              },
              {
                "output_type": "stream",
                "name": "stdout",
                "text": [
                  "Epoch 37/100\n"
                ]
              },
              {
                "output_type": "stream",
                "name": "stdout",
                "text": [
                  "\r\u001b[1m1/9\u001b[0m \u001b[32m━━\u001b[0m\u001b[37m━━━━━━━━━━━━━━━━━━\u001b[0m \u001b[1m0s\u001b[0m 38ms/step - loss: 0.0023"
                ]
              },
              {
                "output_type": "stream",
                "name": "stdout",
                "text": [
                  "\b\b\b\b\b\b\b\b\b\b\b\b\b\b\b\b\b\b\b\b\b\b\b\b\b\b\b\b\b\b\b\b\b\b\b\b\b\b\b\b\b\b\b\b\b\b\b\b\b\b\b\b\r\u001b[1m5/9\u001b[0m \u001b[32m━━━━━━━━━━━\u001b[0m\u001b[37m━━━━━━━━━\u001b[0m \u001b[1m0s\u001b[0m 14ms/step - loss: 0.0026"
                ]
              },
              {
                "output_type": "stream",
                "name": "stdout",
                "text": [
                  "\b\b\b\b\b\b\b\b\b\b\b\b\b\b\b\b\b\b\b\b\b\b\b\b\b\b\b\b\b\b\b\b\b\b\b\b\b\b\b\b\b\b\b\b\b\b\b\b\b\b\b\b\r\u001b[1m9/9\u001b[0m \u001b[32m━━━━━━━━━━━━━━━━━━━━\u001b[0m\u001b[37m\u001b[0m \u001b[1m0s\u001b[0m 14ms/step - loss: 0.0030"
                ]
              },
              {
                "output_type": "stream",
                "name": "stdout",
                "text": [
                  "\b\b\b\b\b\b\b\b\b\b\b\b\b\b\b\b\b\b\b\b\b\b\b\b\b\b\b\b\b\b\b\b\b\b\b\b\b\b\b\b\b\b\b\b\b\b\b\b\b\b\b\b\r\u001b[1m9/9\u001b[0m \u001b[32m━━━━━━━━━━━━━━━━━━━━\u001b[0m\u001b[37m\u001b[0m \u001b[1m0s\u001b[0m 24ms/step - loss: 0.0031 - val_loss: 0.0030\n"
                ]
              },
              {
                "output_type": "stream",
                "name": "stdout",
                "text": [
                  "Epoch 38/100\n"
                ]
              },
              {
                "output_type": "stream",
                "name": "stdout",
                "text": [
                  "\r\u001b[1m1/9\u001b[0m \u001b[32m━━\u001b[0m\u001b[37m━━━━━━━━━━━━━━━━━━\u001b[0m \u001b[1m0s\u001b[0m 38ms/step - loss: 0.0062"
                ]
              },
              {
                "output_type": "stream",
                "name": "stdout",
                "text": [
                  "\b\b\b\b\b\b\b\b\b\b\b\b\b\b\b\b\b\b\b\b\b\b\b\b\b\b\b\b\b\b\b\b\b\b\b\b\b\b\b\b\b\b\b\b\b\b\b\b\b\b\b\b\r\u001b[1m5/9\u001b[0m \u001b[32m━━━━━━━━━━━\u001b[0m\u001b[37m━━━━━━━━━\u001b[0m \u001b[1m0s\u001b[0m 13ms/step - loss: 0.0058"
                ]
              },
              {
                "output_type": "stream",
                "name": "stdout",
                "text": [
                  "\b\b\b\b\b\b\b\b\b\b\b\b\b\b\b\b\b\b\b\b\b\b\b\b\b\b\b\b\b\b\b\b\b\b\b\b\b\b\b\b\b\b\b\b\b\b\b\b\b\b\b\b\r\u001b[1m8/9\u001b[0m \u001b[32m━━━━━━━━━━━━━━━━━\u001b[0m\u001b[37m━━━\u001b[0m \u001b[1m0s\u001b[0m 15ms/step - loss: 0.0054"
                ]
              },
              {
                "output_type": "stream",
                "name": "stdout",
                "text": [
                  "\b\b\b\b\b\b\b\b\b\b\b\b\b\b\b\b\b\b\b\b\b\b\b\b\b\b\b\b\b\b\b\b\b\b\b\b\b\b\b\b\b\b\b\b\b\b\b\b\b\b\b\b\r\u001b[1m9/9\u001b[0m \u001b[32m━━━━━━━━━━━━━━━━━━━━\u001b[0m\u001b[37m\u001b[0m \u001b[1m0s\u001b[0m 25ms/step - loss: 0.0052 - val_loss: 0.0031\n"
                ]
              },
              {
                "output_type": "stream",
                "name": "stdout",
                "text": [
                  "Epoch 39/100\n"
                ]
              },
              {
                "output_type": "stream",
                "name": "stdout",
                "text": [
                  "\r\u001b[1m1/9\u001b[0m \u001b[32m━━\u001b[0m\u001b[37m━━━━━━━━━━━━━━━━━━\u001b[0m \u001b[1m0s\u001b[0m 38ms/step - loss: 0.0038"
                ]
              },
              {
                "output_type": "stream",
                "name": "stdout",
                "text": [
                  "\b\b\b\b\b\b\b\b\b\b\b\b\b\b\b\b\b\b\b\b\b\b\b\b\b\b\b\b\b\b\b\b\b\b\b\b\b\b\b\b\b\b\b\b\b\b\b\b\b\b\b\b\r\u001b[1m5/9\u001b[0m \u001b[32m━━━━━━━━━━━\u001b[0m\u001b[37m━━━━━━━━━\u001b[0m \u001b[1m0s\u001b[0m 13ms/step - loss: 0.0039"
                ]
              },
              {
                "output_type": "stream",
                "name": "stdout",
                "text": [
                  "\b\b\b\b\b\b\b\b\b\b\b\b\b\b\b\b\b\b\b\b\b\b\b\b\b\b\b\b\b\b\b\b\b\b\b\b\b\b\b\b\b\b\b\b\b\b\b\b\b\b\b\b\r\u001b[1m9/9\u001b[0m \u001b[32m━━━━━━━━━━━━━━━━━━━━\u001b[0m\u001b[37m\u001b[0m \u001b[1m0s\u001b[0m 13ms/step - loss: 0.0038"
                ]
              },
              {
                "output_type": "stream",
                "name": "stdout",
                "text": [
                  "\b\b\b\b\b\b\b\b\b\b\b\b\b\b\b\b\b\b\b\b\b\b\b\b\b\b\b\b\b\b\b\b\b\b\b\b\b\b\b\b\b\b\b\b\b\b\b\b\b\b\b\b\r\u001b[1m9/9\u001b[0m \u001b[32m━━━━━━━━━━━━━━━━━━━━\u001b[0m\u001b[37m\u001b[0m \u001b[1m0s\u001b[0m 27ms/step - loss: 0.0037 - val_loss: 0.0029\n"
                ]
              },
              {
                "output_type": "stream",
                "name": "stdout",
                "text": [
                  "Epoch 40/100\n"
                ]
              },
              {
                "output_type": "stream",
                "name": "stdout",
                "text": [
                  "\r\u001b[1m1/9\u001b[0m \u001b[32m━━\u001b[0m\u001b[37m━━━━━━━━━━━━━━━━━━\u001b[0m \u001b[1m0s\u001b[0m 85ms/step - loss: 0.0040"
                ]
              },
              {
                "output_type": "stream",
                "name": "stdout",
                "text": [
                  "\b\b\b\b\b\b\b\b\b\b\b\b\b\b\b\b\b\b\b\b\b\b\b\b\b\b\b\b\b\b\b\b\b\b\b\b\b\b\b\b\b\b\b\b\b\b\b\b\b\b\b\b\r\u001b[1m6/9\u001b[0m \u001b[32m━━━━━━━━━━━━━\u001b[0m\u001b[37m━━━━━━━\u001b[0m \u001b[1m0s\u001b[0m 13ms/step - loss: 0.0043"
                ]
              },
              {
                "output_type": "stream",
                "name": "stdout",
                "text": [
                  "\b\b\b\b\b\b\b\b\b\b\b\b\b\b\b\b\b\b\b\b\b\b\b\b\b\b\b\b\b\b\b\b\b\b\b\b\b\b\b\b\b\b\b\b\b\b\b\b\b\b\b\b\r\u001b[1m9/9\u001b[0m \u001b[32m━━━━━━━━━━━━━━━━━━━━\u001b[0m\u001b[37m\u001b[0m \u001b[1m0s\u001b[0m 23ms/step - loss: 0.0043 - val_loss: 0.0038\n"
                ]
              },
              {
                "output_type": "stream",
                "name": "stdout",
                "text": [
                  "Epoch 41/100\n"
                ]
              },
              {
                "output_type": "stream",
                "name": "stdout",
                "text": [
                  "\r\u001b[1m1/9\u001b[0m \u001b[32m━━\u001b[0m\u001b[37m━━━━━━━━━━━━━━━━━━\u001b[0m \u001b[1m0s\u001b[0m 37ms/step - loss: 0.0023"
                ]
              },
              {
                "output_type": "stream",
                "name": "stdout",
                "text": [
                  "\b\b\b\b\b\b\b\b\b\b\b\b\b\b\b\b\b\b\b\b\b\b\b\b\b\b\b\b\b\b\b\b\b\b\b\b\b\b\b\b\b\b\b\b\b\b\b\b\b\b\b\b\r\u001b[1m5/9\u001b[0m \u001b[32m━━━━━━━━━━━\u001b[0m\u001b[37m━━━━━━━━━\u001b[0m \u001b[1m0s\u001b[0m 13ms/step - loss: 0.0036"
                ]
              },
              {
                "output_type": "stream",
                "name": "stdout",
                "text": [
                  "\b\b\b\b\b\b\b\b\b\b\b\b\b\b\b\b\b\b\b\b\b\b\b\b\b\b\b\b\b\b\b\b\b\b\b\b\b\b\b\b\b\b\b\b\b\b\b\b\b\b\b\b\r\u001b[1m9/9\u001b[0m \u001b[32m━━━━━━━━━━━━━━━━━━━━\u001b[0m\u001b[37m\u001b[0m \u001b[1m0s\u001b[0m 26ms/step - loss: 0.0036 - val_loss: 0.0042\n"
                ]
              },
              {
                "output_type": "stream",
                "name": "stdout",
                "text": [
                  "Epoch 42/100\n"
                ]
              },
              {
                "output_type": "stream",
                "name": "stdout",
                "text": [
                  "\r\u001b[1m1/9\u001b[0m \u001b[32m━━\u001b[0m\u001b[37m━━━━━━━━━━━━━━━━━━\u001b[0m \u001b[1m0s\u001b[0m 94ms/step - loss: 0.0022"
                ]
              },
              {
                "output_type": "stream",
                "name": "stdout",
                "text": [
                  "\b\b\b\b\b\b\b\b\b\b\b\b\b\b\b\b\b\b\b\b\b\b\b\b\b\b\b\b\b\b\b\b\b\b\b\b\b\b\b\b\b\b\b\b\b\b\b\b\b\b\b\b\r\u001b[1m4/9\u001b[0m \u001b[32m━━━━━━━━\u001b[0m\u001b[37m━━━━━━━━━━━━\u001b[0m \u001b[1m0s\u001b[0m 18ms/step - loss: 0.0033"
                ]
              },
              {
                "output_type": "stream",
                "name": "stdout",
                "text": [
                  "\b\b\b\b\b\b\b\b\b\b\b\b\b\b\b\b\b\b\b\b\b\b\b\b\b\b\b\b\b\b\b\b\b\b\b\b\b\b\b\b\b\b\b\b\b\b\b\b\b\b\b\b\r\u001b[1m9/9\u001b[0m \u001b[32m━━━━━━━━━━━━━━━━━━━━\u001b[0m\u001b[37m\u001b[0m \u001b[1m0s\u001b[0m 15ms/step - loss: 0.0036"
                ]
              },
              {
                "output_type": "stream",
                "name": "stdout",
                "text": [
                  "\b\b\b\b\b\b\b\b\b\b\b\b\b\b\b\b\b\b\b\b\b\b\b\b\b\b\b\b\b\b\b\b\b\b\b\b\b\b\b\b\b\b\b\b\b\b\b\b\b\b\b\b\r\u001b[1m9/9\u001b[0m \u001b[32m━━━━━━━━━━━━━━━━━━━━\u001b[0m\u001b[37m\u001b[0m \u001b[1m0s\u001b[0m 25ms/step - loss: 0.0036 - val_loss: 0.0029\n"
                ]
              },
              {
                "output_type": "stream",
                "name": "stdout",
                "text": [
                  "Epoch 43/100\n"
                ]
              },
              {
                "output_type": "stream",
                "name": "stdout",
                "text": [
                  "\r\u001b[1m1/9\u001b[0m \u001b[32m━━\u001b[0m\u001b[37m━━━━━━━━━━━━━━━━━━\u001b[0m \u001b[1m0s\u001b[0m 40ms/step - loss: 0.0040"
                ]
              },
              {
                "output_type": "stream",
                "name": "stdout",
                "text": [
                  "\b\b\b\b\b\b\b\b\b\b\b\b\b\b\b\b\b\b\b\b\b\b\b\b\b\b\b\b\b\b\b\b\b\b\b\b\b\b\b\b\b\b\b\b\b\b\b\b\b\b\b\b\r\u001b[1m6/9\u001b[0m \u001b[32m━━━━━━━━━━━━━\u001b[0m\u001b[37m━━━━━━━\u001b[0m \u001b[1m0s\u001b[0m 12ms/step - loss: 0.0036"
                ]
              },
              {
                "output_type": "stream",
                "name": "stdout",
                "text": [
                  "\b\b\b\b\b\b\b\b\b\b\b\b\b\b\b\b\b\b\b\b\b\b\b\b\b\b\b\b\b\b\b\b\b\b\b\b\b\b\b\b\b\b\b\b\b\b\b\b\b\b\b\b\r\u001b[1m9/9\u001b[0m \u001b[32m━━━━━━━━━━━━━━━━━━━━\u001b[0m\u001b[37m\u001b[0m \u001b[1m0s\u001b[0m 26ms/step - loss: 0.0036 - val_loss: 0.0030\n"
                ]
              },
              {
                "output_type": "stream",
                "name": "stdout",
                "text": [
                  "Epoch 44/100\n"
                ]
              },
              {
                "output_type": "stream",
                "name": "stdout",
                "text": [
                  "\r\u001b[1m1/9\u001b[0m \u001b[32m━━\u001b[0m\u001b[37m━━━━━━━━━━━━━━━━━━\u001b[0m \u001b[1m0s\u001b[0m 41ms/step - loss: 0.0030"
                ]
              },
              {
                "output_type": "stream",
                "name": "stdout",
                "text": [
                  "\b\b\b\b\b\b\b\b\b\b\b\b\b\b\b\b\b\b\b\b\b\b\b\b\b\b\b\b\b\b\b\b\b\b\b\b\b\b\b\b\b\b\b\b\b\b\b\b\b\b\b\b\r\u001b[1m5/9\u001b[0m \u001b[32m━━━━━━━━━━━\u001b[0m\u001b[37m━━━━━━━━━\u001b[0m \u001b[1m0s\u001b[0m 13ms/step - loss: 0.0033"
                ]
              },
              {
                "output_type": "stream",
                "name": "stdout",
                "text": [
                  "\b\b\b\b\b\b\b\b\b\b\b\b\b\b\b\b\b\b\b\b\b\b\b\b\b\b\b\b\b\b\b\b\b\b\b\b\b\b\b\b\b\b\b\b\b\b\b\b\b\b\b\b\r\u001b[1m9/9\u001b[0m \u001b[32m━━━━━━━━━━━━━━━━━━━━\u001b[0m\u001b[37m\u001b[0m \u001b[1m0s\u001b[0m 13ms/step - loss: 0.0035"
                ]
              },
              {
                "output_type": "stream",
                "name": "stdout",
                "text": [
                  "\b\b\b\b\b\b\b\b\b\b\b\b\b\b\b\b\b\b\b\b\b\b\b\b\b\b\b\b\b\b\b\b\b\b\b\b\b\b\b\b\b\b\b\b\b\b\b\b\b\b\b\b\r\u001b[1m9/9\u001b[0m \u001b[32m━━━━━━━━━━━━━━━━━━━━\u001b[0m\u001b[37m\u001b[0m \u001b[1m0s\u001b[0m 23ms/step - loss: 0.0035 - val_loss: 0.0029\n"
                ]
              },
              {
                "output_type": "stream",
                "name": "stdout",
                "text": [
                  "Epoch 45/100\n"
                ]
              },
              {
                "output_type": "stream",
                "name": "stdout",
                "text": [
                  "\r\u001b[1m1/9\u001b[0m \u001b[32m━━\u001b[0m\u001b[37m━━━━━━━━━━━━━━━━━━\u001b[0m \u001b[1m0s\u001b[0m 121ms/step - loss: 0.0029"
                ]
              },
              {
                "output_type": "stream",
                "name": "stdout",
                "text": [
                  "\b\b\b\b\b\b\b\b\b\b\b\b\b\b\b\b\b\b\b\b\b\b\b\b\b\b\b\b\b\b\b\b\b\b\b\b\b\b\b\b\b\b\b\b\b\b\b\b\b\b\b\b\b\r\u001b[1m6/9\u001b[0m \u001b[32m━━━━━━━━━━━━━\u001b[0m\u001b[37m━━━━━━━\u001b[0m \u001b[1m0s\u001b[0m 12ms/step - loss: 0.0033 "
                ]
              },
              {
                "output_type": "stream",
                "name": "stdout",
                "text": [
                  "\b\b\b\b\b\b\b\b\b\b\b\b\b\b\b\b\b\b\b\b\b\b\b\b\b\b\b\b\b\b\b\b\b\b\b\b\b\b\b\b\b\b\b\b\b\b\b\b\b\b\b\b\r\u001b[1m9/9\u001b[0m \u001b[32m━━━━━━━━━━━━━━━━━━━━\u001b[0m\u001b[37m\u001b[0m \u001b[1m0s\u001b[0m 21ms/step - loss: 0.0033 - val_loss: 0.0032\n"
                ]
              },
              {
                "output_type": "stream",
                "name": "stdout",
                "text": [
                  "Epoch 46/100\n"
                ]
              },
              {
                "output_type": "stream",
                "name": "stdout",
                "text": [
                  "\r\u001b[1m1/9\u001b[0m \u001b[32m━━\u001b[0m\u001b[37m━━━━━━━━━━━━━━━━━━\u001b[0m \u001b[1m0s\u001b[0m 37ms/step - loss: 0.0025"
                ]
              },
              {
                "output_type": "stream",
                "name": "stdout",
                "text": [
                  "\b\b\b\b\b\b\b\b\b\b\b\b\b\b\b\b\b\b\b\b\b\b\b\b\b\b\b\b\b\b\b\b\b\b\b\b\b\b\b\b\b\b\b\b\b\b\b\b\b\b\b\b\r\u001b[1m5/9\u001b[0m \u001b[32m━━━━━━━━━━━\u001b[0m\u001b[37m━━━━━━━━━\u001b[0m \u001b[1m0s\u001b[0m 13ms/step - loss: 0.0027"
                ]
              },
              {
                "output_type": "stream",
                "name": "stdout",
                "text": [
                  "\b\b\b\b\b\b\b\b\b\b\b\b\b\b\b\b\b\b\b\b\b\b\b\b\b\b\b\b\b\b\b\b\b\b\b\b\b\b\b\b\b\b\b\b\b\b\b\b\b\b\b\b\r\u001b[1m9/9\u001b[0m \u001b[32m━━━━━━━━━━━━━━━━━━━━\u001b[0m\u001b[37m\u001b[0m \u001b[1m0s\u001b[0m 14ms/step - loss: 0.0030"
                ]
              },
              {
                "output_type": "stream",
                "name": "stdout",
                "text": [
                  "\b\b\b\b\b\b\b\b\b\b\b\b\b\b\b\b\b\b\b\b\b\b\b\b\b\b\b\b\b\b\b\b\b\b\b\b\b\b\b\b\b\b\b\b\b\b\b\b\b\b\b\b\r\u001b[1m9/9\u001b[0m \u001b[32m━━━━━━━━━━━━━━━━━━━━\u001b[0m\u001b[37m\u001b[0m \u001b[1m0s\u001b[0m 24ms/step - loss: 0.0031 - val_loss: 0.0033\n"
                ]
              },
              {
                "output_type": "stream",
                "name": "stdout",
                "text": [
                  "Epoch 47/100\n"
                ]
              },
              {
                "output_type": "stream",
                "name": "stdout",
                "text": [
                  "\r\u001b[1m1/9\u001b[0m \u001b[32m━━\u001b[0m\u001b[37m━━━━━━━━━━━━━━━━━━\u001b[0m \u001b[1m0s\u001b[0m 38ms/step - loss: 0.0034"
                ]
              },
              {
                "output_type": "stream",
                "name": "stdout",
                "text": [
                  "\b\b\b\b\b\b\b\b\b\b\b\b\b\b\b\b\b\b\b\b\b\b\b\b\b\b\b\b\b\b\b\b\b\b\b\b\b\b\b\b\b\b\b\b\b\b\b\b\b\b\b\b\r\u001b[1m5/9\u001b[0m \u001b[32m━━━━━━━━━━━\u001b[0m\u001b[37m━━━━━━━━━\u001b[0m \u001b[1m0s\u001b[0m 13ms/step - loss: 0.0034"
                ]
              },
              {
                "output_type": "stream",
                "name": "stdout",
                "text": [
                  "\b\b\b\b\b\b\b\b\b\b\b\b\b\b\b\b\b\b\b\b\b\b\b\b\b\b\b\b\b\b\b\b\b\b\b\b\b\b\b\b\b\b\b\b\b\b\b\b\b\b\b\b\r\u001b[1m9/9\u001b[0m \u001b[32m━━━━━━━━━━━━━━━━━━━━\u001b[0m\u001b[37m\u001b[0m \u001b[1m0s\u001b[0m 13ms/step - loss: 0.0036"
                ]
              },
              {
                "output_type": "stream",
                "name": "stdout",
                "text": [
                  "\b\b\b\b\b\b\b\b\b\b\b\b\b\b\b\b\b\b\b\b\b\b\b\b\b\b\b\b\b\b\b\b\b\b\b\b\b\b\b\b\b\b\b\b\b\b\b\b\b\b\b\b\r\u001b[1m9/9\u001b[0m \u001b[32m━━━━━━━━━━━━━━━━━━━━\u001b[0m\u001b[37m\u001b[0m \u001b[1m0s\u001b[0m 23ms/step - loss: 0.0036 - val_loss: 0.0031\n"
                ]
              },
              {
                "output_type": "stream",
                "name": "stdout",
                "text": [
                  "Epoch 48/100\n"
                ]
              },
              {
                "output_type": "stream",
                "name": "stdout",
                "text": [
                  "\r\u001b[1m1/9\u001b[0m \u001b[32m━━\u001b[0m\u001b[37m━━━━━━━━━━━━━━━━━━\u001b[0m \u001b[1m0s\u001b[0m 36ms/step - loss: 0.0040"
                ]
              },
              {
                "output_type": "stream",
                "name": "stdout",
                "text": [
                  "\b\b\b\b\b\b\b\b\b\b\b\b\b\b\b\b\b\b\b\b\b\b\b\b\b\b\b\b\b\b\b\b\b\b\b\b\b\b\b\b\b\b\b\b\b\b\b\b\b\b\b\b\r\u001b[1m6/9\u001b[0m \u001b[32m━━━━━━━━━━━━━\u001b[0m\u001b[37m━━━━━━━\u001b[0m \u001b[1m0s\u001b[0m 12ms/step - loss: 0.0037"
                ]
              },
              {
                "output_type": "stream",
                "name": "stdout",
                "text": [
                  "\b\b\b\b\b\b\b\b\b\b\b\b\b\b\b\b\b\b\b\b\b\b\b\b\b\b\b\b\b\b\b\b\b\b\b\b\b\b\b\b\b\b\b\b\b\b\b\b\b\b\b\b\r\u001b[1m9/9\u001b[0m \u001b[32m━━━━━━━━━━━━━━━━━━━━\u001b[0m\u001b[37m\u001b[0m \u001b[1m0s\u001b[0m 23ms/step - loss: 0.0037 - val_loss: 0.0028\n"
                ]
              },
              {
                "output_type": "stream",
                "name": "stdout",
                "text": [
                  "Epoch 49/100\n"
                ]
              },
              {
                "output_type": "stream",
                "name": "stdout",
                "text": [
                  "\r\u001b[1m1/9\u001b[0m \u001b[32m━━\u001b[0m\u001b[37m━━━━━━━━━━━━━━━━━━\u001b[0m \u001b[1m0s\u001b[0m 119ms/step - loss: 0.0033"
                ]
              },
              {
                "output_type": "stream",
                "name": "stdout",
                "text": [
                  "\b\b\b\b\b\b\b\b\b\b\b\b\b\b\b\b\b\b\b\b\b\b\b\b\b\b\b\b\b\b\b\b\b\b\b\b\b\b\b\b\b\b\b\b\b\b\b\b\b\b\b\b\b\r\u001b[1m5/9\u001b[0m \u001b[32m━━━━━━━━━━━\u001b[0m\u001b[37m━━━━━━━━━\u001b[0m \u001b[1m0s\u001b[0m 13ms/step - loss: 0.0035 "
                ]
              },
              {
                "output_type": "stream",
                "name": "stdout",
                "text": [
                  "\b\b\b\b\b\b\b\b\b\b\b\b\b\b\b\b\b\b\b\b\b\b\b\b\b\b\b\b\b\b\b\b\b\b\b\b\b\b\b\b\b\b\b\b\b\b\b\b\b\b\b\b\r\u001b[1m9/9\u001b[0m \u001b[32m━━━━━━━━━━━━━━━━━━━━\u001b[0m\u001b[37m\u001b[0m \u001b[1m0s\u001b[0m 13ms/step - loss: 0.0036"
                ]
              },
              {
                "output_type": "stream",
                "name": "stdout",
                "text": [
                  "\b\b\b\b\b\b\b\b\b\b\b\b\b\b\b\b\b\b\b\b\b\b\b\b\b\b\b\b\b\b\b\b\b\b\b\b\b\b\b\b\b\b\b\b\b\b\b\b\b\b\b\b\r\u001b[1m9/9\u001b[0m \u001b[32m━━━━━━━━━━━━━━━━━━━━\u001b[0m\u001b[37m\u001b[0m \u001b[1m0s\u001b[0m 23ms/step - loss: 0.0036 - val_loss: 0.0033\n"
                ]
              },
              {
                "output_type": "stream",
                "name": "stdout",
                "text": [
                  "Epoch 50/100\n"
                ]
              },
              {
                "output_type": "stream",
                "name": "stdout",
                "text": [
                  "\r\u001b[1m1/9\u001b[0m \u001b[32m━━\u001b[0m\u001b[37m━━━━━━━━━━━━━━━━━━\u001b[0m \u001b[1m0s\u001b[0m 39ms/step - loss: 0.0024"
                ]
              },
              {
                "output_type": "stream",
                "name": "stdout",
                "text": [
                  "\b\b\b\b\b\b\b\b\b\b\b\b\b\b\b\b\b\b\b\b\b\b\b\b\b\b\b\b\b\b\b\b\b\b\b\b\b\b\b\b\b\b\b\b\b\b\b\b\b\b\b\b\r\u001b[1m6/9\u001b[0m \u001b[32m━━━━━━━━━━━━━\u001b[0m\u001b[37m━━━━━━━\u001b[0m \u001b[1m0s\u001b[0m 12ms/step - loss: 0.0027"
                ]
              },
              {
                "output_type": "stream",
                "name": "stdout",
                "text": [
                  "\b\b\b\b\b\b\b\b\b\b\b\b\b\b\b\b\b\b\b\b\b\b\b\b\b\b\b\b\b\b\b\b\b\b\b\b\b\b\b\b\b\b\b\b\b\b\b\b\b\b\b\b\r\u001b[1m9/9\u001b[0m \u001b[32m━━━━━━━━━━━━━━━━━━━━\u001b[0m\u001b[37m\u001b[0m \u001b[1m0s\u001b[0m 28ms/step - loss: 0.0030 - val_loss: 0.0036\n"
                ]
              },
              {
                "output_type": "stream",
                "name": "stdout",
                "text": [
                  "Epoch 51/100\n"
                ]
              },
              {
                "output_type": "stream",
                "name": "stdout",
                "text": [
                  "\r\u001b[1m1/9\u001b[0m \u001b[32m━━\u001b[0m\u001b[37m━━━━━━━━━━━━━━━━━━\u001b[0m \u001b[1m0s\u001b[0m 79ms/step - loss: 0.0028"
                ]
              },
              {
                "output_type": "stream",
                "name": "stdout",
                "text": [
                  "\b\b\b\b\b\b\b\b\b\b\b\b\b\b\b\b\b\b\b\b\b\b\b\b\b\b\b\b\b\b\b\b\b\b\b\b\b\b\b\b\b\b\b\b\b\b\b\b\b\b\b\b\r\u001b[1m6/9\u001b[0m \u001b[32m━━━━━━━━━━━━━\u001b[0m\u001b[37m━━━━━━━\u001b[0m \u001b[1m0s\u001b[0m 12ms/step - loss: 0.0031"
                ]
              },
              {
                "output_type": "stream",
                "name": "stdout",
                "text": [
                  "\b\b\b\b\b\b\b\b\b\b\b\b\b\b\b\b\b\b\b\b\b\b\b\b\b\b\b\b\b\b\b\b\b\b\b\b\b\b\b\b\b\b\b\b\b\b\b\b\b\b\b\b\r\u001b[1m9/9\u001b[0m \u001b[32m━━━━━━━━━━━━━━━━━━━━\u001b[0m\u001b[37m\u001b[0m \u001b[1m0s\u001b[0m 23ms/step - loss: 0.0030 - val_loss: 0.0028\n"
                ]
              },
              {
                "output_type": "stream",
                "name": "stdout",
                "text": [
                  "Epoch 52/100\n"
                ]
              },
              {
                "output_type": "stream",
                "name": "stdout",
                "text": [
                  "\r\u001b[1m1/9\u001b[0m \u001b[32m━━\u001b[0m\u001b[37m━━━━━━━━━━━━━━━━━━\u001b[0m \u001b[1m0s\u001b[0m 115ms/step - loss: 0.0037"
                ]
              },
              {
                "output_type": "stream",
                "name": "stdout",
                "text": [
                  "\b\b\b\b\b\b\b\b\b\b\b\b\b\b\b\b\b\b\b\b\b\b\b\b\b\b\b\b\b\b\b\b\b\b\b\b\b\b\b\b\b\b\b\b\b\b\b\b\b\b\b\b\b\r\u001b[1m6/9\u001b[0m \u001b[32m━━━━━━━━━━━━━\u001b[0m\u001b[37m━━━━━━━\u001b[0m \u001b[1m0s\u001b[0m 12ms/step - loss: 0.0041 "
                ]
              },
              {
                "output_type": "stream",
                "name": "stdout",
                "text": [
                  "\b\b\b\b\b\b\b\b\b\b\b\b\b\b\b\b\b\b\b\b\b\b\b\b\b\b\b\b\b\b\b\b\b\b\b\b\b\b\b\b\b\b\b\b\b\b\b\b\b\b\b\b\r\u001b[1m9/9\u001b[0m \u001b[32m━━━━━━━━━━━━━━━━━━━━\u001b[0m\u001b[37m\u001b[0m \u001b[1m0s\u001b[0m 22ms/step - loss: 0.0041 - val_loss: 0.0028\n"
                ]
              },
              {
                "output_type": "stream",
                "name": "stdout",
                "text": [
                  "Epoch 53/100\n"
                ]
              },
              {
                "output_type": "stream",
                "name": "stdout",
                "text": [
                  "\r\u001b[1m1/9\u001b[0m \u001b[32m━━\u001b[0m\u001b[37m━━━━━━━━━━━━━━━━━━\u001b[0m \u001b[1m0s\u001b[0m 38ms/step - loss: 0.0022"
                ]
              },
              {
                "output_type": "stream",
                "name": "stdout",
                "text": [
                  "\b\b\b\b\b\b\b\b\b\b\b\b\b\b\b\b\b\b\b\b\b\b\b\b\b\b\b\b\b\b\b\b\b\b\b\b\b\b\b\b\b\b\b\b\b\b\b\b\b\b\b\b\r\u001b[1m5/9\u001b[0m \u001b[32m━━━━━━━━━━━\u001b[0m\u001b[37m━━━━━━━━━\u001b[0m \u001b[1m0s\u001b[0m 13ms/step - loss: 0.0025"
                ]
              },
              {
                "output_type": "stream",
                "name": "stdout",
                "text": [
                  "\b\b\b\b\b\b\b\b\b\b\b\b\b\b\b\b\b\b\b\b\b\b\b\b\b\b\b\b\b\b\b\b\b\b\b\b\b\b\b\b\b\b\b\b\b\b\b\b\b\b\b\b\r\u001b[1m9/9\u001b[0m \u001b[32m━━━━━━━━━━━━━━━━━━━━\u001b[0m\u001b[37m\u001b[0m \u001b[1m0s\u001b[0m 13ms/step - loss: 0.0030"
                ]
              },
              {
                "output_type": "stream",
                "name": "stdout",
                "text": [
                  "\b\b\b\b\b\b\b\b\b\b\b\b\b\b\b\b\b\b\b\b\b\b\b\b\b\b\b\b\b\b\b\b\b\b\b\b\b\b\b\b\b\b\b\b\b\b\b\b\b\b\b\b\r\u001b[1m9/9\u001b[0m \u001b[32m━━━━━━━━━━━━━━━━━━━━\u001b[0m\u001b[37m\u001b[0m \u001b[1m0s\u001b[0m 23ms/step - loss: 0.0031 - val_loss: 0.0028\n"
                ]
              },
              {
                "output_type": "stream",
                "name": "stdout",
                "text": [
                  "Epoch 54/100\n"
                ]
              },
              {
                "output_type": "stream",
                "name": "stdout",
                "text": [
                  "\r\u001b[1m1/9\u001b[0m \u001b[32m━━\u001b[0m\u001b[37m━━━━━━━━━━━━━━━━━━\u001b[0m \u001b[1m0s\u001b[0m 35ms/step - loss: 0.0031"
                ]
              },
              {
                "output_type": "stream",
                "name": "stdout",
                "text": [
                  "\b\b\b\b\b\b\b\b\b\b\b\b\b\b\b\b\b\b\b\b\b\b\b\b\b\b\b\b\b\b\b\b\b\b\b\b\b\b\b\b\b\b\b\b\b\b\b\b\b\b\b\b\r\u001b[1m6/9\u001b[0m \u001b[32m━━━━━━━━━━━━━\u001b[0m\u001b[37m━━━━━━━\u001b[0m \u001b[1m0s\u001b[0m 12ms/step - loss: 0.0034"
                ]
              },
              {
                "output_type": "stream",
                "name": "stdout",
                "text": [
                  "\b\b\b\b\b\b\b\b\b\b\b\b\b\b\b\b\b\b\b\b\b\b\b\b\b\b\b\b\b\b\b\b\b\b\b\b\b\b\b\b\b\b\b\b\b\b\b\b\b\b\b\b\r\u001b[1m9/9\u001b[0m \u001b[32m━━━━━━━━━━━━━━━━━━━━\u001b[0m\u001b[37m\u001b[0m \u001b[1m0s\u001b[0m 16ms/step - loss: 0.0035"
                ]
              },
              {
                "output_type": "stream",
                "name": "stdout",
                "text": [
                  "\b\b\b\b\b\b\b\b\b\b\b\b\b\b\b\b\b\b\b\b\b\b\b\b\b\b\b\b\b\b\b\b\b\b\b\b\b\b\b\b\b\b\b\b\b\b\b\b\b\b\b\b\r\u001b[1m9/9\u001b[0m \u001b[32m━━━━━━━━━━━━━━━━━━━━\u001b[0m\u001b[37m\u001b[0m \u001b[1m0s\u001b[0m 33ms/step - loss: 0.0035 - val_loss: 0.0028\n"
                ]
              },
              {
                "output_type": "stream",
                "name": "stdout",
                "text": [
                  "Epoch 55/100\n"
                ]
              },
              {
                "output_type": "stream",
                "name": "stdout",
                "text": [
                  "\r\u001b[1m1/9\u001b[0m \u001b[32m━━\u001b[0m\u001b[37m━━━━━━━━━━━━━━━━━━\u001b[0m \u001b[1m0s\u001b[0m 58ms/step - loss: 0.0040"
                ]
              },
              {
                "output_type": "stream",
                "name": "stdout",
                "text": [
                  "\b\b\b\b\b\b\b\b\b\b\b\b\b\b\b\b\b\b\b\b\b\b\b\b\b\b\b\b\b\b\b\b\b\b\b\b\b\b\b\b\b\b\b\b\b\b\b\b\b\b\b\b\r\u001b[1m4/9\u001b[0m \u001b[32m━━━━━━━━\u001b[0m\u001b[37m━━━━━━━━━━━━\u001b[0m \u001b[1m0s\u001b[0m 21ms/step - loss: 0.0043"
                ]
              },
              {
                "output_type": "stream",
                "name": "stdout",
                "text": [
                  "\b\b\b\b\b\b\b\b\b\b\b\b\b\b\b\b\b\b\b\b\b\b\b\b\b\b\b\b\b\b\b\b\b\b\b\b\b\b\b\b\b\b\b\b\b\b\b\b\b\b\b\b\r\u001b[1m7/9\u001b[0m \u001b[32m━━━━━━━━━━━━━━━\u001b[0m\u001b[37m━━━━━\u001b[0m \u001b[1m0s\u001b[0m 20ms/step - loss: 0.0041"
                ]
              },
              {
                "output_type": "stream",
                "name": "stdout",
                "text": [
                  "\b\b\b\b\b\b\b\b\b\b\b\b\b\b\b\b\b\b\b\b\b\b\b\b\b\b\b\b\b\b\b\b\b\b\b\b\b\b\b\b\b\b\b\b\b\b\b\b\b\b\b\b\r\u001b[1m9/9\u001b[0m \u001b[32m━━━━━━━━━━━━━━━━━━━━\u001b[0m\u001b[37m\u001b[0m \u001b[1m0s\u001b[0m 37ms/step - loss: 0.0040 - val_loss: 0.0032\n"
                ]
              },
              {
                "output_type": "stream",
                "name": "stdout",
                "text": [
                  "Epoch 56/100\n"
                ]
              },
              {
                "output_type": "stream",
                "name": "stdout",
                "text": [
                  "\r\u001b[1m1/9\u001b[0m \u001b[32m━━\u001b[0m\u001b[37m━━━━━━━━━━━━━━━━━━\u001b[0m \u001b[1m2s\u001b[0m 331ms/step - loss: 0.0024"
                ]
              },
              {
                "output_type": "stream",
                "name": "stdout",
                "text": [
                  "\b\b\b\b\b\b\b\b\b\b\b\b\b\b\b\b\b\b\b\b\b\b\b\b\b\b\b\b\b\b\b\b\b\b\b\b\b\b\b\b\b\b\b\b\b\b\b\b\b\b\b\b\b\r\u001b[1m4/9\u001b[0m \u001b[32m━━━━━━━━\u001b[0m\u001b[37m━━━━━━━━━━━━\u001b[0m \u001b[1m0s\u001b[0m 21ms/step - loss: 0.0024 "
                ]
              },
              {
                "output_type": "stream",
                "name": "stdout",
                "text": [
                  "\b\b\b\b\b\b\b\b\b\b\b\b\b\b\b\b\b\b\b\b\b\b\b\b\b\b\b\b\b\b\b\b\b\b\b\b\b\b\b\b\b\b\b\b\b\b\b\b\b\b\b\b\r\u001b[1m7/9\u001b[0m \u001b[32m━━━━━━━━━━━━━━━\u001b[0m\u001b[37m━━━━━\u001b[0m \u001b[1m0s\u001b[0m 20ms/step - loss: 0.0026"
                ]
              },
              {
                "output_type": "stream",
                "name": "stdout",
                "text": [
                  "\b\b\b\b\b\b\b\b\b\b\b\b\b\b\b\b\b\b\b\b\b\b\b\b\b\b\b\b\b\b\b\b\b\b\b\b\b\b\b\b\b\b\b\b\b\b\b\b\b\b\b\b\r\u001b[1m9/9\u001b[0m \u001b[32m━━━━━━━━━━━━━━━━━━━━\u001b[0m\u001b[37m\u001b[0m \u001b[1m1s\u001b[0m 38ms/step - loss: 0.0028 - val_loss: 0.0028\n"
                ]
              },
              {
                "output_type": "stream",
                "name": "stdout",
                "text": [
                  "Epoch 57/100\n"
                ]
              },
              {
                "output_type": "stream",
                "name": "stdout",
                "text": [
                  "\r\u001b[1m1/9\u001b[0m \u001b[32m━━\u001b[0m\u001b[37m━━━━━━━━━━━━━━━━━━\u001b[0m \u001b[1m2s\u001b[0m 319ms/step - loss: 0.0029"
                ]
              },
              {
                "output_type": "stream",
                "name": "stdout",
                "text": [
                  "\b\b\b\b\b\b\b\b\b\b\b\b\b\b\b\b\b\b\b\b\b\b\b\b\b\b\b\b\b\b\b\b\b\b\b\b\b\b\b\b\b\b\b\b\b\b\b\b\b\b\b\b\b\r\u001b[1m4/9\u001b[0m \u001b[32m━━━━━━━━\u001b[0m\u001b[37m━━━━━━━━━━━━\u001b[0m \u001b[1m0s\u001b[0m 21ms/step - loss: 0.0032 "
                ]
              },
              {
                "output_type": "stream",
                "name": "stdout",
                "text": [
                  "\b\b\b\b\b\b\b\b\b\b\b\b\b\b\b\b\b\b\b\b\b\b\b\b\b\b\b\b\b\b\b\b\b\b\b\b\b\b\b\b\b\b\b\b\b\b\b\b\b\b\b\b\r\u001b[1m7/9\u001b[0m \u001b[32m━━━━━━━━━━━━━━━\u001b[0m\u001b[37m━━━━━\u001b[0m \u001b[1m0s\u001b[0m 22ms/step - loss: 0.0032"
                ]
              },
              {
                "output_type": "stream",
                "name": "stdout",
                "text": [
                  "\b\b\b\b\b\b\b\b\b\b\b\b\b\b\b\b\b\b\b\b\b\b\b\b\b\b\b\b\b\b\b\b\b\b\b\b\b\b\b\b\b\b\b\b\b\b\b\b\b\b\b\b\r\u001b[1m9/9\u001b[0m \u001b[32m━━━━━━━━━━━━━━━━━━━━\u001b[0m\u001b[37m\u001b[0m \u001b[1m1s\u001b[0m 38ms/step - loss: 0.0032 - val_loss: 0.0029\n"
                ]
              },
              {
                "output_type": "stream",
                "name": "stdout",
                "text": [
                  "Epoch 58/100\n"
                ]
              },
              {
                "output_type": "stream",
                "name": "stdout",
                "text": [
                  "\r\u001b[1m1/9\u001b[0m \u001b[32m━━\u001b[0m\u001b[37m━━━━━━━━━━━━━━━━━━\u001b[0m \u001b[1m0s\u001b[0m 62ms/step - loss: 0.0038"
                ]
              },
              {
                "output_type": "stream",
                "name": "stdout",
                "text": [
                  "\b\b\b\b\b\b\b\b\b\b\b\b\b\b\b\b\b\b\b\b\b\b\b\b\b\b\b\b\b\b\b\b\b\b\b\b\b\b\b\b\b\b\b\b\b\b\b\b\b\b\b\b\r\u001b[1m4/9\u001b[0m \u001b[32m━━━━━━━━\u001b[0m\u001b[37m━━━━━━━━━━━━\u001b[0m \u001b[1m0s\u001b[0m 23ms/step - loss: 0.0035"
                ]
              },
              {
                "output_type": "stream",
                "name": "stdout",
                "text": [
                  "\b\b\b\b\b\b\b\b\b\b\b\b\b\b\b\b\b\b\b\b\b\b\b\b\b\b\b\b\b\b\b\b\b\b\b\b\b\b\b\b\b\b\b\b\b\b\b\b\b\b\b\b\r\u001b[1m7/9\u001b[0m \u001b[32m━━━━━━━━━━━━━━━\u001b[0m\u001b[37m━━━━━\u001b[0m \u001b[1m0s\u001b[0m 22ms/step - loss: 0.0034"
                ]
              },
              {
                "output_type": "stream",
                "name": "stdout",
                "text": [
                  "\b\b\b\b\b\b\b\b\b\b\b\b\b\b\b\b\b\b\b\b\b\b\b\b\b\b\b\b\b\b\b\b\b\b\b\b\b\b\b\b\b\b\b\b\b\b\b\b\b\b\b\b\r\u001b[1m9/9\u001b[0m \u001b[32m━━━━━━━━━━━━━━━━━━━━\u001b[0m\u001b[37m\u001b[0m \u001b[1m0s\u001b[0m 41ms/step - loss: 0.0034 - val_loss: 0.0055\n"
                ]
              },
              {
                "output_type": "stream",
                "name": "stdout",
                "text": [
                  "Epoch 59/100\n"
                ]
              },
              {
                "output_type": "stream",
                "name": "stdout",
                "text": [
                  "\r\u001b[1m1/9\u001b[0m \u001b[32m━━\u001b[0m\u001b[37m━━━━━━━━━━━━━━━━━━\u001b[0m \u001b[1m0s\u001b[0m 61ms/step - loss: 0.0040"
                ]
              },
              {
                "output_type": "stream",
                "name": "stdout",
                "text": [
                  "\b\b\b\b\b\b\b\b\b\b\b\b\b\b\b\b\b\b\b\b\b\b\b\b\b\b\b\b\b\b\b\b\b\b\b\b\b\b\b\b\b\b\b\b\b\b\b\b\b\b\b\b\r\u001b[1m4/9\u001b[0m \u001b[32m━━━━━━━━\u001b[0m\u001b[37m━━━━━━━━━━━━\u001b[0m \u001b[1m0s\u001b[0m 20ms/step - loss: 0.0036"
                ]
              },
              {
                "output_type": "stream",
                "name": "stdout",
                "text": [
                  "\b\b\b\b\b\b\b\b\b\b\b\b\b\b\b\b\b\b\b\b\b\b\b\b\b\b\b\b\b\b\b\b\b\b\b\b\b\b\b\b\b\b\b\b\b\b\b\b\b\b\b\b\r\u001b[1m7/9\u001b[0m \u001b[32m━━━━━━━━━━━━━━━\u001b[0m\u001b[37m━━━━━\u001b[0m \u001b[1m0s\u001b[0m 21ms/step - loss: 0.0035"
                ]
              },
              {
                "output_type": "stream",
                "name": "stdout",
                "text": [
                  "\b\b\b\b\b\b\b\b\b\b\b\b\b\b\b\b\b\b\b\b\b\b\b\b\b\b\b\b\b\b\b\b\b\b\b\b\b\b\b\b\b\b\b\b\b\b\b\b\b\b\b\b\r\u001b[1m9/9\u001b[0m \u001b[32m━━━━━━━━━━━━━━━━━━━━\u001b[0m\u001b[37m\u001b[0m \u001b[1m0s\u001b[0m 32ms/step - loss: 0.0035 - val_loss: 0.0027\n"
                ]
              },
              {
                "output_type": "stream",
                "name": "stdout",
                "text": [
                  "Epoch 60/100\n"
                ]
              },
              {
                "output_type": "stream",
                "name": "stdout",
                "text": [
                  "\r\u001b[1m1/9\u001b[0m \u001b[32m━━\u001b[0m\u001b[37m━━━━━━━━━━━━━━━━━━\u001b[0m \u001b[1m0s\u001b[0m 37ms/step - loss: 0.0040"
                ]
              },
              {
                "output_type": "stream",
                "name": "stdout",
                "text": [
                  "\b\b\b\b\b\b\b\b\b\b\b\b\b\b\b\b\b\b\b\b\b\b\b\b\b\b\b\b\b\b\b\b\b\b\b\b\b\b\b\b\b\b\b\b\b\b\b\b\b\b\b\b\r\u001b[1m5/9\u001b[0m \u001b[32m━━━━━━━━━━━\u001b[0m\u001b[37m━━━━━━━━━\u001b[0m \u001b[1m0s\u001b[0m 13ms/step - loss: 0.0039"
                ]
              },
              {
                "output_type": "stream",
                "name": "stdout",
                "text": [
                  "\b\b\b\b\b\b\b\b\b\b\b\b\b\b\b\b\b\b\b\b\b\b\b\b\b\b\b\b\b\b\b\b\b\b\b\b\b\b\b\b\b\b\b\b\b\b\b\b\b\b\b\b\r\u001b[1m9/9\u001b[0m \u001b[32m━━━━━━━━━━━━━━━━━━━━\u001b[0m\u001b[37m\u001b[0m \u001b[1m0s\u001b[0m 22ms/step - loss: 0.0038 - val_loss: 0.0028\n"
                ]
              },
              {
                "output_type": "stream",
                "name": "stdout",
                "text": [
                  "Epoch 61/100\n"
                ]
              },
              {
                "output_type": "stream",
                "name": "stdout",
                "text": [
                  "\r\u001b[1m1/9\u001b[0m \u001b[32m━━\u001b[0m\u001b[37m━━━━━━━━━━━━━━━━━━\u001b[0m \u001b[1m0s\u001b[0m 124ms/step - loss: 0.0031"
                ]
              },
              {
                "output_type": "stream",
                "name": "stdout",
                "text": [
                  "\b\b\b\b\b\b\b\b\b\b\b\b\b\b\b\b\b\b\b\b\b\b\b\b\b\b\b\b\b\b\b\b\b\b\b\b\b\b\b\b\b\b\b\b\b\b\b\b\b\b\b\b\b\r\u001b[1m5/9\u001b[0m \u001b[32m━━━━━━━━━━━\u001b[0m\u001b[37m━━━━━━━━━\u001b[0m \u001b[1m0s\u001b[0m 13ms/step - loss: 0.0035 "
                ]
              },
              {
                "output_type": "stream",
                "name": "stdout",
                "text": [
                  "\b\b\b\b\b\b\b\b\b\b\b\b\b\b\b\b\b\b\b\b\b\b\b\b\b\b\b\b\b\b\b\b\b\b\b\b\b\b\b\b\b\b\b\b\b\b\b\b\b\b\b\b\r\u001b[1m9/9\u001b[0m \u001b[32m━━━━━━━━━━━━━━━━━━━━\u001b[0m\u001b[37m\u001b[0m \u001b[1m0s\u001b[0m 26ms/step - loss: 0.0035 - val_loss: 0.0029\n"
                ]
              },
              {
                "output_type": "stream",
                "name": "stdout",
                "text": [
                  "Epoch 62/100\n"
                ]
              },
              {
                "output_type": "stream",
                "name": "stdout",
                "text": [
                  "\r\u001b[1m1/9\u001b[0m \u001b[32m━━\u001b[0m\u001b[37m━━━━━━━━━━━━━━━━━━\u001b[0m \u001b[1m0s\u001b[0m 37ms/step - loss: 0.0025"
                ]
              },
              {
                "output_type": "stream",
                "name": "stdout",
                "text": [
                  "\b\b\b\b\b\b\b\b\b\b\b\b\b\b\b\b\b\b\b\b\b\b\b\b\b\b\b\b\b\b\b\b\b\b\b\b\b\b\b\b\b\b\b\b\b\b\b\b\b\b\b\b\r\u001b[1m5/9\u001b[0m \u001b[32m━━━━━━━━━━━\u001b[0m\u001b[37m━━━━━━━━━\u001b[0m \u001b[1m0s\u001b[0m 14ms/step - loss: 0.0030"
                ]
              },
              {
                "output_type": "stream",
                "name": "stdout",
                "text": [
                  "\b\b\b\b\b\b\b\b\b\b\b\b\b\b\b\b\b\b\b\b\b\b\b\b\b\b\b\b\b\b\b\b\b\b\b\b\b\b\b\b\b\b\b\b\b\b\b\b\b\b\b\b\r\u001b[1m9/9\u001b[0m \u001b[32m━━━━━━━━━━━━━━━━━━━━\u001b[0m\u001b[37m\u001b[0m \u001b[1m0s\u001b[0m 15ms/step - loss: 0.0033"
                ]
              },
              {
                "output_type": "stream",
                "name": "stdout",
                "text": [
                  "\b\b\b\b\b\b\b\b\b\b\b\b\b\b\b\b\b\b\b\b\b\b\b\b\b\b\b\b\b\b\b\b\b\b\b\b\b\b\b\b\b\b\b\b\b\b\b\b\b\b\b\b\r\u001b[1m9/9\u001b[0m \u001b[32m━━━━━━━━━━━━━━━━━━━━\u001b[0m\u001b[37m\u001b[0m \u001b[1m0s\u001b[0m 25ms/step - loss: 0.0033 - val_loss: 0.0033\n"
                ]
              },
              {
                "output_type": "stream",
                "name": "stdout",
                "text": [
                  "Epoch 63/100\n"
                ]
              },
              {
                "output_type": "stream",
                "name": "stdout",
                "text": [
                  "\r\u001b[1m1/9\u001b[0m \u001b[32m━━\u001b[0m\u001b[37m━━━━━━━━━━━━━━━━━━\u001b[0m \u001b[1m0s\u001b[0m 35ms/step - loss: 0.0016"
                ]
              },
              {
                "output_type": "stream",
                "name": "stdout",
                "text": [
                  "\b\b\b\b\b\b\b\b\b\b\b\b\b\b\b\b\b\b\b\b\b\b\b\b\b\b\b\b\b\b\b\b\b\b\b\b\b\b\b\b\b\b\b\b\b\b\b\b\b\b\b\b\r\u001b[1m6/9\u001b[0m \u001b[32m━━━━━━━━━━━━━\u001b[0m\u001b[37m━━━━━━━\u001b[0m \u001b[1m0s\u001b[0m 13ms/step - loss: 0.0020"
                ]
              },
              {
                "output_type": "stream",
                "name": "stdout",
                "text": [
                  "\b\b\b\b\b\b\b\b\b\b\b\b\b\b\b\b\b\b\b\b\b\b\b\b\b\b\b\b\b\b\b\b\b\b\b\b\b\b\b\b\b\b\b\b\b\b\b\b\b\b\b\b\r\u001b[1m9/9\u001b[0m \u001b[32m━━━━━━━━━━━━━━━━━━━━\u001b[0m\u001b[37m\u001b[0m \u001b[1m0s\u001b[0m 27ms/step - loss: 0.0024 - val_loss: 0.0031\n"
                ]
              },
              {
                "output_type": "stream",
                "name": "stdout",
                "text": [
                  "Epoch 64/100\n"
                ]
              },
              {
                "output_type": "stream",
                "name": "stdout",
                "text": [
                  "\r\u001b[1m1/9\u001b[0m \u001b[32m━━\u001b[0m\u001b[37m━━━━━━━━━━━━━━━━━━\u001b[0m \u001b[1m0s\u001b[0m 86ms/step - loss: 0.0036"
                ]
              },
              {
                "output_type": "stream",
                "name": "stdout",
                "text": [
                  "\b\b\b\b\b\b\b\b\b\b\b\b\b\b\b\b\b\b\b\b\b\b\b\b\b\b\b\b\b\b\b\b\b\b\b\b\b\b\b\b\b\b\b\b\b\b\b\b\b\b\b\b\r\u001b[1m5/9\u001b[0m \u001b[32m━━━━━━━━━━━\u001b[0m\u001b[37m━━━━━━━━━\u001b[0m \u001b[1m0s\u001b[0m 13ms/step - loss: 0.0036"
                ]
              },
              {
                "output_type": "stream",
                "name": "stdout",
                "text": [
                  "\b\b\b\b\b\b\b\b\b\b\b\b\b\b\b\b\b\b\b\b\b\b\b\b\b\b\b\b\b\b\b\b\b\b\b\b\b\b\b\b\b\b\b\b\b\b\b\b\b\b\b\b\r\u001b[1m9/9\u001b[0m \u001b[32m━━━━━━━━━━━━━━━━━━━━\u001b[0m\u001b[37m\u001b[0m \u001b[1m0s\u001b[0m 13ms/step - loss: 0.0036"
                ]
              },
              {
                "output_type": "stream",
                "name": "stdout",
                "text": [
                  "\b\b\b\b\b\b\b\b\b\b\b\b\b\b\b\b\b\b\b\b\b\b\b\b\b\b\b\b\b\b\b\b\b\b\b\b\b\b\b\b\b\b\b\b\b\b\b\b\b\b\b\b\r\u001b[1m9/9\u001b[0m \u001b[32m━━━━━━━━━━━━━━━━━━━━\u001b[0m\u001b[37m\u001b[0m \u001b[1m0s\u001b[0m 23ms/step - loss: 0.0036 - val_loss: 0.0027\n"
                ]
              },
              {
                "output_type": "stream",
                "name": "stdout",
                "text": [
                  "Epoch 65/100\n"
                ]
              },
              {
                "output_type": "stream",
                "name": "stdout",
                "text": [
                  "\r\u001b[1m1/9\u001b[0m \u001b[32m━━\u001b[0m\u001b[37m━━━━━━━━━━━━━━━━━━\u001b[0m \u001b[1m0s\u001b[0m 115ms/step - loss: 0.0026"
                ]
              },
              {
                "output_type": "stream",
                "name": "stdout",
                "text": [
                  "\b\b\b\b\b\b\b\b\b\b\b\b\b\b\b\b\b\b\b\b\b\b\b\b\b\b\b\b\b\b\b\b\b\b\b\b\b\b\b\b\b\b\b\b\b\b\b\b\b\b\b\b\b\r\u001b[1m6/9\u001b[0m \u001b[32m━━━━━━━━━━━━━\u001b[0m\u001b[37m━━━━━━━\u001b[0m \u001b[1m0s\u001b[0m 12ms/step - loss: 0.0027 "
                ]
              },
              {
                "output_type": "stream",
                "name": "stdout",
                "text": [
                  "\b\b\b\b\b\b\b\b\b\b\b\b\b\b\b\b\b\b\b\b\b\b\b\b\b\b\b\b\b\b\b\b\b\b\b\b\b\b\b\b\b\b\b\b\b\b\b\b\b\b\b\b\r\u001b[1m9/9\u001b[0m \u001b[32m━━━━━━━━━━━━━━━━━━━━\u001b[0m\u001b[37m\u001b[0m \u001b[1m0s\u001b[0m 23ms/step - loss: 0.0028 - val_loss: 0.0029\n"
                ]
              },
              {
                "output_type": "stream",
                "name": "stdout",
                "text": [
                  "Epoch 66/100\n"
                ]
              },
              {
                "output_type": "stream",
                "name": "stdout",
                "text": [
                  "\r\u001b[1m1/9\u001b[0m \u001b[32m━━\u001b[0m\u001b[37m━━━━━━━━━━━━━━━━━━\u001b[0m \u001b[1m0s\u001b[0m 119ms/step - loss: 0.0038"
                ]
              },
              {
                "output_type": "stream",
                "name": "stdout",
                "text": [
                  "\b\b\b\b\b\b\b\b\b\b\b\b\b\b\b\b\b\b\b\b\b\b\b\b\b\b\b\b\b\b\b\b\b\b\b\b\b\b\b\b\b\b\b\b\b\b\b\b\b\b\b\b\b\r\u001b[1m5/9\u001b[0m \u001b[32m━━━━━━━━━━━\u001b[0m\u001b[37m━━━━━━━━━\u001b[0m \u001b[1m0s\u001b[0m 13ms/step - loss: 0.0032 "
                ]
              },
              {
                "output_type": "stream",
                "name": "stdout",
                "text": [
                  "\b\b\b\b\b\b\b\b\b\b\b\b\b\b\b\b\b\b\b\b\b\b\b\b\b\b\b\b\b\b\b\b\b\b\b\b\b\b\b\b\b\b\b\b\b\b\b\b\b\b\b\b\r\u001b[1m9/9\u001b[0m \u001b[32m━━━━━━━━━━━━━━━━━━━━\u001b[0m\u001b[37m\u001b[0m \u001b[1m0s\u001b[0m 26ms/step - loss: 0.0033 - val_loss: 0.0034\n"
                ]
              },
              {
                "output_type": "stream",
                "name": "stdout",
                "text": [
                  "Epoch 67/100\n"
                ]
              },
              {
                "output_type": "stream",
                "name": "stdout",
                "text": [
                  "\r\u001b[1m1/9\u001b[0m \u001b[32m━━\u001b[0m\u001b[37m━━━━━━━━━━━━━━━━━━\u001b[0m \u001b[1m0s\u001b[0m 95ms/step - loss: 0.0028"
                ]
              },
              {
                "output_type": "stream",
                "name": "stdout",
                "text": [
                  "\b\b\b\b\b\b\b\b\b\b\b\b\b\b\b\b\b\b\b\b\b\b\b\b\b\b\b\b\b\b\b\b\b\b\b\b\b\b\b\b\b\b\b\b\b\b\b\b\b\b\b\b\r\u001b[1m6/9\u001b[0m \u001b[32m━━━━━━━━━━━━━\u001b[0m\u001b[37m━━━━━━━\u001b[0m \u001b[1m0s\u001b[0m 12ms/step - loss: 0.0042"
                ]
              },
              {
                "output_type": "stream",
                "name": "stdout",
                "text": [
                  "\b\b\b\b\b\b\b\b\b\b\b\b\b\b\b\b\b\b\b\b\b\b\b\b\b\b\b\b\b\b\b\b\b\b\b\b\b\b\b\b\b\b\b\b\b\b\b\b\b\b\b\b\r\u001b[1m9/9\u001b[0m \u001b[32m━━━━━━━━━━━━━━━━━━━━\u001b[0m\u001b[37m\u001b[0m \u001b[1m0s\u001b[0m 22ms/step - loss: 0.0041 - val_loss: 0.0027\n"
                ]
              },
              {
                "output_type": "stream",
                "name": "stdout",
                "text": [
                  "Epoch 68/100\n"
                ]
              },
              {
                "output_type": "stream",
                "name": "stdout",
                "text": [
                  "\r\u001b[1m1/9\u001b[0m \u001b[32m━━\u001b[0m\u001b[37m━━━━━━━━━━━━━━━━━━\u001b[0m \u001b[1m0s\u001b[0m 39ms/step - loss: 0.0034"
                ]
              },
              {
                "output_type": "stream",
                "name": "stdout",
                "text": [
                  "\b\b\b\b\b\b\b\b\b\b\b\b\b\b\b\b\b\b\b\b\b\b\b\b\b\b\b\b\b\b\b\b\b\b\b\b\b\b\b\b\b\b\b\b\b\b\b\b\b\b\b\b\r\u001b[1m6/9\u001b[0m \u001b[32m━━━━━━━━━━━━━\u001b[0m\u001b[37m━━━━━━━\u001b[0m \u001b[1m0s\u001b[0m 12ms/step - loss: 0.0036"
                ]
              },
              {
                "output_type": "stream",
                "name": "stdout",
                "text": [
                  "\b\b\b\b\b\b\b\b\b\b\b\b\b\b\b\b\b\b\b\b\b\b\b\b\b\b\b\b\b\b\b\b\b\b\b\b\b\b\b\b\b\b\b\b\b\b\b\b\b\b\b\b\r\u001b[1m9/9\u001b[0m \u001b[32m━━━━━━━━━━━━━━━━━━━━\u001b[0m\u001b[37m\u001b[0m \u001b[1m0s\u001b[0m 22ms/step - loss: 0.0035 - val_loss: 0.0042\n"
                ]
              },
              {
                "output_type": "stream",
                "name": "stdout",
                "text": [
                  "Epoch 69/100\n"
                ]
              },
              {
                "output_type": "stream",
                "name": "stdout",
                "text": [
                  "\r\u001b[1m1/9\u001b[0m \u001b[32m━━\u001b[0m\u001b[37m━━━━━━━━━━━━━━━━━━\u001b[0m \u001b[1m0s\u001b[0m 35ms/step - loss: 0.0020"
                ]
              },
              {
                "output_type": "stream",
                "name": "stdout",
                "text": [
                  "\b\b\b\b\b\b\b\b\b\b\b\b\b\b\b\b\b\b\b\b\b\b\b\b\b\b\b\b\b\b\b\b\b\b\b\b\b\b\b\b\b\b\b\b\b\b\b\b\b\b\b\b\r\u001b[1m5/9\u001b[0m \u001b[32m━━━━━━━━━━━\u001b[0m\u001b[37m━━━━━━━━━\u001b[0m \u001b[1m0s\u001b[0m 14ms/step - loss: 0.0024"
                ]
              },
              {
                "output_type": "stream",
                "name": "stdout",
                "text": [
                  "\b\b\b\b\b\b\b\b\b\b\b\b\b\b\b\b\b\b\b\b\b\b\b\b\b\b\b\b\b\b\b\b\b\b\b\b\b\b\b\b\b\b\b\b\b\b\b\b\b\b\b\b\r\u001b[1m9/9\u001b[0m \u001b[32m━━━━━━━━━━━━━━━━━━━━\u001b[0m\u001b[37m\u001b[0m \u001b[1m0s\u001b[0m 23ms/step - loss: 0.0029 - val_loss: 0.0029\n"
                ]
              },
              {
                "output_type": "stream",
                "name": "stdout",
                "text": [
                  "Epoch 70/100\n"
                ]
              },
              {
                "output_type": "stream",
                "name": "stdout",
                "text": [
                  "\r\u001b[1m1/9\u001b[0m \u001b[32m━━\u001b[0m\u001b[37m━━━━━━━━━━━━━━━━━━\u001b[0m \u001b[1m0s\u001b[0m 122ms/step - loss: 0.0019"
                ]
              },
              {
                "output_type": "stream",
                "name": "stdout",
                "text": [
                  "\b\b\b\b\b\b\b\b\b\b\b\b\b\b\b\b\b\b\b\b\b\b\b\b\b\b\b\b\b\b\b\b\b\b\b\b\b\b\b\b\b\b\b\b\b\b\b\b\b\b\b\b\b\r\u001b[1m5/9\u001b[0m \u001b[32m━━━━━━━━━━━\u001b[0m\u001b[37m━━━━━━━━━\u001b[0m \u001b[1m0s\u001b[0m 14ms/step - loss: 0.0026 "
                ]
              },
              {
                "output_type": "stream",
                "name": "stdout",
                "text": [
                  "\b\b\b\b\b\b\b\b\b\b\b\b\b\b\b\b\b\b\b\b\b\b\b\b\b\b\b\b\b\b\b\b\b\b\b\b\b\b\b\b\b\b\b\b\b\b\b\b\b\b\b\b\r\u001b[1m9/9\u001b[0m \u001b[32m━━━━━━━━━━━━━━━━━━━━\u001b[0m\u001b[37m\u001b[0m \u001b[1m0s\u001b[0m 13ms/step - loss: 0.0028"
                ]
              },
              {
                "output_type": "stream",
                "name": "stdout",
                "text": [
                  "\b\b\b\b\b\b\b\b\b\b\b\b\b\b\b\b\b\b\b\b\b\b\b\b\b\b\b\b\b\b\b\b\b\b\b\b\b\b\b\b\b\b\b\b\b\b\b\b\b\b\b\b\r\u001b[1m9/9\u001b[0m \u001b[32m━━━━━━━━━━━━━━━━━━━━\u001b[0m\u001b[37m\u001b[0m \u001b[1m0s\u001b[0m 24ms/step - loss: 0.0028 - val_loss: 0.0030\n"
                ]
              },
              {
                "output_type": "stream",
                "name": "stdout",
                "text": [
                  "Epoch 71/100\n"
                ]
              },
              {
                "output_type": "stream",
                "name": "stdout",
                "text": [
                  "\r\u001b[1m1/9\u001b[0m \u001b[32m━━\u001b[0m\u001b[37m━━━━━━━━━━━━━━━━━━\u001b[0m \u001b[1m0s\u001b[0m 111ms/step - loss: 0.0054"
                ]
              },
              {
                "output_type": "stream",
                "name": "stdout",
                "text": [
                  "\b\b\b\b\b\b\b\b\b\b\b\b\b\b\b\b\b\b\b\b\b\b\b\b\b\b\b\b\b\b\b\b\b\b\b\b\b\b\b\b\b\b\b\b\b\b\b\b\b\b\b\b\b\r\u001b[1m6/9\u001b[0m \u001b[32m━━━━━━━━━━━━━\u001b[0m\u001b[37m━━━━━━━\u001b[0m \u001b[1m0s\u001b[0m 12ms/step - loss: 0.0043 "
                ]
              },
              {
                "output_type": "stream",
                "name": "stdout",
                "text": [
                  "\b\b\b\b\b\b\b\b\b\b\b\b\b\b\b\b\b\b\b\b\b\b\b\b\b\b\b\b\b\b\b\b\b\b\b\b\b\b\b\b\b\b\b\b\b\b\b\b\b\b\b\b\r\u001b[1m9/9\u001b[0m \u001b[32m━━━━━━━━━━━━━━━━━━━━\u001b[0m\u001b[37m\u001b[0m \u001b[1m0s\u001b[0m 22ms/step - loss: 0.0042 - val_loss: 0.0040\n"
                ]
              },
              {
                "output_type": "stream",
                "name": "stdout",
                "text": [
                  "Epoch 72/100\n"
                ]
              },
              {
                "output_type": "stream",
                "name": "stdout",
                "text": [
                  "\r\u001b[1m1/9\u001b[0m \u001b[32m━━\u001b[0m\u001b[37m━━━━━━━━━━━━━━━━━━\u001b[0m \u001b[1m1s\u001b[0m 126ms/step - loss: 0.0046"
                ]
              },
              {
                "output_type": "stream",
                "name": "stdout",
                "text": [
                  "\b\b\b\b\b\b\b\b\b\b\b\b\b\b\b\b\b\b\b\b\b\b\b\b\b\b\b\b\b\b\b\b\b\b\b\b\b\b\b\b\b\b\b\b\b\b\b\b\b\b\b\b\b\r\u001b[1m6/9\u001b[0m \u001b[32m━━━━━━━━━━━━━\u001b[0m\u001b[37m━━━━━━━\u001b[0m \u001b[1m0s\u001b[0m 12ms/step - loss: 0.0037 "
                ]
              },
              {
                "output_type": "stream",
                "name": "stdout",
                "text": [
                  "\b\b\b\b\b\b\b\b\b\b\b\b\b\b\b\b\b\b\b\b\b\b\b\b\b\b\b\b\b\b\b\b\b\b\b\b\b\b\b\b\b\b\b\b\b\b\b\b\b\b\b\b\r\u001b[1m9/9\u001b[0m \u001b[32m━━━━━━━━━━━━━━━━━━━━\u001b[0m\u001b[37m\u001b[0m \u001b[1m0s\u001b[0m 22ms/step - loss: 0.0035 - val_loss: 0.0035\n"
                ]
              },
              {
                "output_type": "stream",
                "name": "stdout",
                "text": [
                  "Epoch 73/100\n"
                ]
              },
              {
                "output_type": "stream",
                "name": "stdout",
                "text": [
                  "\r\u001b[1m1/9\u001b[0m \u001b[32m━━\u001b[0m\u001b[37m━━━━━━━━━━━━━━━━━━\u001b[0m \u001b[1m1s\u001b[0m 130ms/step - loss: 0.0035"
                ]
              },
              {
                "output_type": "stream",
                "name": "stdout",
                "text": [
                  "\b\b\b\b\b\b\b\b\b\b\b\b\b\b\b\b\b\b\b\b\b\b\b\b\b\b\b\b\b\b\b\b\b\b\b\b\b\b\b\b\b\b\b\b\b\b\b\b\b\b\b\b\b\r\u001b[1m4/9\u001b[0m \u001b[32m━━━━━━━━\u001b[0m\u001b[37m━━━━━━━━━━━━\u001b[0m \u001b[1m0s\u001b[0m 18ms/step - loss: 0.0031 "
                ]
              },
              {
                "output_type": "stream",
                "name": "stdout",
                "text": [
                  "\b\b\b\b\b\b\b\b\b\b\b\b\b\b\b\b\b\b\b\b\b\b\b\b\b\b\b\b\b\b\b\b\b\b\b\b\b\b\b\b\b\b\b\b\b\b\b\b\b\b\b\b\r\u001b[1m8/9\u001b[0m \u001b[32m━━━━━━━━━━━━━━━━━\u001b[0m\u001b[37m━━━\u001b[0m \u001b[1m0s\u001b[0m 15ms/step - loss: 0.0027"
                ]
              },
              {
                "output_type": "stream",
                "name": "stdout",
                "text": [
                  "\b\b\b\b\b\b\b\b\b\b\b\b\b\b\b\b\b\b\b\b\b\b\b\b\b\b\b\b\b\b\b\b\b\b\b\b\b\b\b\b\b\b\b\b\b\b\b\b\b\b\b\b\r\u001b[1m9/9\u001b[0m \u001b[32m━━━━━━━━━━━━━━━━━━━━\u001b[0m\u001b[37m\u001b[0m \u001b[1m0s\u001b[0m 26ms/step - loss: 0.0027 - val_loss: 0.0028\n"
                ]
              },
              {
                "output_type": "stream",
                "name": "stdout",
                "text": [
                  "Epoch 74/100\n"
                ]
              },
              {
                "output_type": "stream",
                "name": "stdout",
                "text": [
                  "\r\u001b[1m1/9\u001b[0m \u001b[32m━━\u001b[0m\u001b[37m━━━━━━━━━━━━━━━━━━\u001b[0m \u001b[1m0s\u001b[0m 116ms/step - loss: 0.0030"
                ]
              },
              {
                "output_type": "stream",
                "name": "stdout",
                "text": [
                  "\b\b\b\b\b\b\b\b\b\b\b\b\b\b\b\b\b\b\b\b\b\b\b\b\b\b\b\b\b\b\b\b\b\b\b\b\b\b\b\b\b\b\b\b\b\b\b\b\b\b\b\b\b\r\u001b[1m3/9\u001b[0m \u001b[32m━━━━━━\u001b[0m\u001b[37m━━━━━━━━━━━━━━\u001b[0m \u001b[1m0s\u001b[0m 33ms/step - loss: 0.0029 "
                ]
              },
              {
                "output_type": "stream",
                "name": "stdout",
                "text": [
                  "\b\b\b\b\b\b\b\b\b\b\b\b\b\b\b\b\b\b\b\b\b\b\b\b\b\b\b\b\b\b\b\b\b\b\b\b\b\b\b\b\b\b\b\b\b\b\b\b\b\b\b\b\r\u001b[1m5/9\u001b[0m \u001b[32m━━━━━━━━━━━\u001b[0m\u001b[37m━━━━━━━━━\u001b[0m \u001b[1m0s\u001b[0m 33ms/step - loss: 0.0029"
                ]
              },
              {
                "output_type": "stream",
                "name": "stdout",
                "text": [
                  "\b\b\b\b\b\b\b\b\b\b\b\b\b\b\b\b\b\b\b\b\b\b\b\b\b\b\b\b\b\b\b\b\b\b\b\b\b\b\b\b\b\b\b\b\b\b\b\b\b\b\b\b\r\u001b[1m7/9\u001b[0m \u001b[32m━━━━━━━━━━━━━━━\u001b[0m\u001b[37m━━━━━\u001b[0m \u001b[1m0s\u001b[0m 35ms/step - loss: 0.0030"
                ]
              },
              {
                "output_type": "stream",
                "name": "stdout",
                "text": [
                  "\b\b\b\b\b\b\b\b\b\b\b\b\b\b\b\b\b\b\b\b\b\b\b\b\b\b\b\b\b\b\b\b\b\b\b\b\b\b\b\b\b\b\b\b\b\b\b\b\b\b\b\b\r\u001b[1m9/9\u001b[0m \u001b[32m━━━━━━━━━━━━━━━━━━━━\u001b[0m\u001b[37m\u001b[0m \u001b[1m0s\u001b[0m 36ms/step - loss: 0.0031"
                ]
              },
              {
                "output_type": "stream",
                "name": "stdout",
                "text": [
                  "\b\b\b\b\b\b\b\b\b\b\b\b\b\b\b\b\b\b\b\b\b\b\b\b\b\b\b\b\b\b\b\b\b\b\b\b\b\b\b\b\b\b\b\b\b\b\b\b\b\b\b\b\r\u001b[1m9/9\u001b[0m \u001b[32m━━━━━━━━━━━━━━━━━━━━\u001b[0m\u001b[37m\u001b[0m \u001b[1m1s\u001b[0m 61ms/step - loss: 0.0031 - val_loss: 0.0027\n"
                ]
              },
              {
                "output_type": "stream",
                "name": "stdout",
                "text": [
                  "Epoch 75/100\n"
                ]
              },
              {
                "output_type": "stream",
                "name": "stdout",
                "text": [
                  "\r\u001b[1m1/9\u001b[0m \u001b[32m━━\u001b[0m\u001b[37m━━━━━━━━━━━━━━━━━━\u001b[0m \u001b[1m0s\u001b[0m 111ms/step - loss: 0.0025"
                ]
              },
              {
                "output_type": "stream",
                "name": "stdout",
                "text": [
                  "\b\b\b\b\b\b\b\b\b\b\b\b\b\b\b\b\b\b\b\b\b\b\b\b\b\b\b\b\b\b\b\b\b\b\b\b\b\b\b\b\b\b\b\b\b\b\b\b\b\b\b\b\b\r\u001b[1m6/9\u001b[0m \u001b[32m━━━━━━━━━━━━━\u001b[0m\u001b[37m━━━━━━━\u001b[0m \u001b[1m0s\u001b[0m 12ms/step - loss: 0.0030 "
                ]
              },
              {
                "output_type": "stream",
                "name": "stdout",
                "text": [
                  "\b\b\b\b\b\b\b\b\b\b\b\b\b\b\b\b\b\b\b\b\b\b\b\b\b\b\b\b\b\b\b\b\b\b\b\b\b\b\b\b\b\b\b\b\b\b\b\b\b\b\b\b\r\u001b[1m9/9\u001b[0m \u001b[32m━━━━━━━━━━━━━━━━━━━━\u001b[0m\u001b[37m\u001b[0m \u001b[1m0s\u001b[0m 24ms/step - loss: 0.0031 - val_loss: 0.0039\n"
                ]
              },
              {
                "output_type": "stream",
                "name": "stdout",
                "text": [
                  "Epoch 76/100\n"
                ]
              },
              {
                "output_type": "stream",
                "name": "stdout",
                "text": [
                  "\r\u001b[1m1/9\u001b[0m \u001b[32m━━\u001b[0m\u001b[37m━━━━━━━━━━━━━━━━━━\u001b[0m \u001b[1m0s\u001b[0m 36ms/step - loss: 0.0017"
                ]
              },
              {
                "output_type": "stream",
                "name": "stdout",
                "text": [
                  "\b\b\b\b\b\b\b\b\b\b\b\b\b\b\b\b\b\b\b\b\b\b\b\b\b\b\b\b\b\b\b\b\b\b\b\b\b\b\b\b\b\b\b\b\b\b\b\b\b\b\b\b\r\u001b[1m5/9\u001b[0m \u001b[32m━━━━━━━━━━━\u001b[0m\u001b[37m━━━━━━━━━\u001b[0m \u001b[1m0s\u001b[0m 13ms/step - loss: 0.0024"
                ]
              },
              {
                "output_type": "stream",
                "name": "stdout",
                "text": [
                  "\b\b\b\b\b\b\b\b\b\b\b\b\b\b\b\b\b\b\b\b\b\b\b\b\b\b\b\b\b\b\b\b\b\b\b\b\b\b\b\b\b\b\b\b\b\b\b\b\b\b\b\b\r\u001b[1m9/9\u001b[0m \u001b[32m━━━━━━━━━━━━━━━━━━━━\u001b[0m\u001b[37m\u001b[0m \u001b[1m0s\u001b[0m 13ms/step - loss: 0.0028"
                ]
              },
              {
                "output_type": "stream",
                "name": "stdout",
                "text": [
                  "\b\b\b\b\b\b\b\b\b\b\b\b\b\b\b\b\b\b\b\b\b\b\b\b\b\b\b\b\b\b\b\b\b\b\b\b\b\b\b\b\b\b\b\b\b\b\b\b\b\b\b\b\r\u001b[1m9/9\u001b[0m \u001b[32m━━━━━━━━━━━━━━━━━━━━\u001b[0m\u001b[37m\u001b[0m \u001b[1m0s\u001b[0m 50ms/step - loss: 0.0028 - val_loss: 0.0028\n"
                ]
              },
              {
                "output_type": "stream",
                "name": "stdout",
                "text": [
                  "Epoch 77/100\n"
                ]
              },
              {
                "output_type": "stream",
                "name": "stdout",
                "text": [
                  "\r\u001b[1m1/9\u001b[0m \u001b[32m━━\u001b[0m\u001b[37m━━━━━━━━━━━━━━━━━━\u001b[0m \u001b[1m0s\u001b[0m 100ms/step - loss: 0.0032"
                ]
              },
              {
                "output_type": "stream",
                "name": "stdout",
                "text": [
                  "\b\b\b\b\b\b\b\b\b\b\b\b\b\b\b\b\b\b\b\b\b\b\b\b\b\b\b\b\b\b\b\b\b\b\b\b\b\b\b\b\b\b\b\b\b\b\b\b\b\b\b\b\b\r\u001b[1m3/9\u001b[0m \u001b[32m━━━━━━\u001b[0m\u001b[37m━━━━━━━━━━━━━━\u001b[0m \u001b[1m0s\u001b[0m 29ms/step - loss: 0.0035 "
                ]
              },
              {
                "output_type": "stream",
                "name": "stdout",
                "text": [
                  "\b\b\b\b\b\b\b\b\b\b\b\b\b\b\b\b\b\b\b\b\b\b\b\b\b\b\b\b\b\b\b\b\b\b\b\b\b\b\b\b\b\b\b\b\b\b\b\b\b\b\b\b\r\u001b[1m5/9\u001b[0m \u001b[32m━━━━━━━━━━━\u001b[0m\u001b[37m━━━━━━━━━\u001b[0m \u001b[1m0s\u001b[0m 31ms/step - loss: 0.0036"
                ]
              },
              {
                "output_type": "stream",
                "name": "stdout",
                "text": [
                  "\b\b\b\b\b\b\b\b\b\b\b\b\b\b\b\b\b\b\b\b\b\b\b\b\b\b\b\b\b\b\b\b\b\b\b\b\b\b\b\b\b\b\b\b\b\b\b\b\b\b\b\b\r\u001b[1m8/9\u001b[0m \u001b[32m━━━━━━━━━━━━━━━━━\u001b[0m\u001b[37m━━━\u001b[0m \u001b[1m0s\u001b[0m 25ms/step - loss: 0.0034"
                ]
              },
              {
                "output_type": "stream",
                "name": "stdout",
                "text": [
                  "\b\b\b\b\b\b\b\b\b\b\b\b\b\b\b\b\b\b\b\b\b\b\b\b\b\b\b\b\b\b\b\b\b\b\b\b\b\b\b\b\b\b\b\b\b\b\b\b\b\b\b\b\r\u001b[1m9/9\u001b[0m \u001b[32m━━━━━━━━━━━━━━━━━━━━\u001b[0m\u001b[37m\u001b[0m \u001b[1m0s\u001b[0m 37ms/step - loss: 0.0034 - val_loss: 0.0028\n"
                ]
              },
              {
                "output_type": "stream",
                "name": "stdout",
                "text": [
                  "Training random forest model...\n"
                ]
              },
              {
                "output_type": "stream",
                "name": "stderr",
                "text": [
                  "/usr/local/lib/python3.11/dist-packages/sklearn/utils/validation.py:2739: UserWarning: X does not have valid feature names, but MinMaxScaler was fitted with feature names\n",
                  "  warnings.warn(\n"
                ]
              },
              {
                "output_type": "stream",
                "name": "stdout",
                "text": [
                  "\n",
                  "Predicting future prices for next 3 days...\n"
                ]
              },
              {
                "output_type": "stream",
                "name": "stderr",
                "text": [
                  "/usr/local/lib/python3.11/dist-packages/sklearn/utils/validation.py:2739: UserWarning: X does not have valid feature names, but MinMaxScaler was fitted with feature names\n",
                  "  warnings.warn(\n",
                  "/usr/local/lib/python3.11/dist-packages/sklearn/utils/validation.py:2739: UserWarning: X does not have valid feature names, but MinMaxScaler was fitted with feature names\n",
                  "  warnings.warn(\n",
                  "/usr/local/lib/python3.11/dist-packages/sklearn/utils/validation.py:2739: UserWarning: X does not have valid feature names, but MinMaxScaler was fitted with feature names\n",
                  "  warnings.warn(\n",
                  "/usr/local/lib/python3.11/dist-packages/sklearn/utils/validation.py:2739: UserWarning: X does not have valid feature names, but MinMaxScaler was fitted with feature names\n",
                  "  warnings.warn(\n",
                  "/usr/local/lib/python3.11/dist-packages/sklearn/utils/validation.py:2739: UserWarning: X does not have valid feature names, but MinMaxScaler was fitted with feature names\n",
                  "  warnings.warn(\n",
                  "/usr/local/lib/python3.11/dist-packages/sklearn/utils/validation.py:2739: UserWarning: X does not have valid feature names, but MinMaxScaler was fitted with feature names\n",
                  "  warnings.warn(\n",
                  "/usr/local/lib/python3.11/dist-packages/sklearn/utils/validation.py:2739: UserWarning: X does not have valid feature names, but MinMaxScaler was fitted with feature names\n",
                  "  warnings.warn(\n",
                  "/usr/local/lib/python3.11/dist-packages/sklearn/utils/validation.py:2739: UserWarning: X does not have valid feature names, but MinMaxScaler was fitted with feature names\n",
                  "  warnings.warn(\n",
                  "/usr/local/lib/python3.11/dist-packages/sklearn/utils/validation.py:2739: UserWarning: X does not have valid feature names, but MinMaxScaler was fitted with feature names\n",
                  "  warnings.warn(\n",
                  "/usr/local/lib/python3.11/dist-packages/sklearn/utils/validation.py:2739: UserWarning: X does not have valid feature names, but MinMaxScaler was fitted with feature names\n",
                  "  warnings.warn(\n",
                  "/usr/local/lib/python3.11/dist-packages/sklearn/utils/validation.py:2739: UserWarning: X does not have valid feature names, but MinMaxScaler was fitted with feature names\n",
                  "  warnings.warn(\n",
                  "/usr/local/lib/python3.11/dist-packages/sklearn/utils/validation.py:2739: UserWarning: X does not have valid feature names, but MinMaxScaler was fitted with feature names\n",
                  "  warnings.warn(\n",
                  "/usr/local/lib/python3.11/dist-packages/sklearn/utils/validation.py:2739: UserWarning: X does not have valid feature names, but MinMaxScaler was fitted with feature names\n",
                  "  warnings.warn(\n",
                  "/usr/local/lib/python3.11/dist-packages/sklearn/utils/validation.py:2739: UserWarning: X does not have valid feature names, but MinMaxScaler was fitted with feature names\n",
                  "  warnings.warn(\n",
                  "/usr/local/lib/python3.11/dist-packages/sklearn/utils/validation.py:2739: UserWarning: X does not have valid feature names, but MinMaxScaler was fitted with feature names\n",
                  "  warnings.warn(\n",
                  "/usr/local/lib/python3.11/dist-packages/sklearn/utils/validation.py:2739: UserWarning: X does not have valid feature names, but MinMaxScaler was fitted with feature names\n",
                  "  warnings.warn(\n",
                  "/usr/local/lib/python3.11/dist-packages/sklearn/utils/validation.py:2739: UserWarning: X does not have valid feature names, but MinMaxScaler was fitted with feature names\n",
                  "  warnings.warn(\n",
                  "/usr/local/lib/python3.11/dist-packages/sklearn/utils/validation.py:2739: UserWarning: X does not have valid feature names, but MinMaxScaler was fitted with feature names\n",
                  "  warnings.warn(\n",
                  "/usr/local/lib/python3.11/dist-packages/sklearn/utils/validation.py:2739: UserWarning: X does not have valid feature names, but MinMaxScaler was fitted with feature names\n",
                  "  warnings.warn(\n",
                  "/usr/local/lib/python3.11/dist-packages/sklearn/utils/validation.py:2739: UserWarning: X does not have valid feature names, but MinMaxScaler was fitted with feature names\n",
                  "  warnings.warn(\n",
                  "/usr/local/lib/python3.11/dist-packages/sklearn/utils/validation.py:2739: UserWarning: X does not have valid feature names, but MinMaxScaler was fitted with feature names\n",
                  "  warnings.warn(\n",
                  "/usr/local/lib/python3.11/dist-packages/sklearn/utils/validation.py:2739: UserWarning: X does not have valid feature names, but MinMaxScaler was fitted with feature names\n",
                  "  warnings.warn(\n",
                  "/usr/local/lib/python3.11/dist-packages/sklearn/utils/validation.py:2739: UserWarning: X does not have valid feature names, but MinMaxScaler was fitted with feature names\n",
                  "  warnings.warn(\n"
                ]
              },
              {
                "output_type": "stream",
                "name": "stdout",
                "text": [
                  "\r\u001b[1m1/1\u001b[0m \u001b[32m━━━━━━━━━━━━━━━━━━━━\u001b[0m\u001b[37m\u001b[0m \u001b[1m0s\u001b[0m 2s/step"
                ]
              },
              {
                "output_type": "stream",
                "name": "stdout",
                "text": [
                  "\b\b\b\b\b\b\b\b\b\b\b\b\b\b\b\b\b\b\b\b\b\b\b\b\b\b\b\b\b\b\b\b\b\b\b\r\u001b[1m1/1\u001b[0m \u001b[32m━━━━━━━━━━━━━━━━━━━━\u001b[0m\u001b[37m\u001b[0m \u001b[1m2s\u001b[0m 2s/step\n"
                ]
              },
              {
                "output_type": "stream",
                "name": "stdout",
                "text": [
                  "\n",
                  "Model Performance Metrics:\n",
                  "Mean Absolute Error: ₹279465.64\n",
                  "Root Mean Squared Error: ₹333381.84\n",
                  "Mean Absolute Percentage Error: 3.98%\n",
                  "Model Confidence Score: 8/10\n",
                  "\n",
                  "Future Price Predictions:\n",
                  "2025-04-17: ₹33624375795198.76 ($391983863315.44)\n",
                  "2025-04-18: ₹45860164125893.48 ($534625368686.10)\n",
                  "2025-04-19: ₹45798526984983.01 ($533906819596.44)\n"
                ]
              },
              {
                "output_type": "display_data",
                "data": {
                  "text/plain": "<Figure size 1200x600 with 1 Axes>",
                  "image/png": "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\n"
                },
                "metadata": {}
              },
              {
                "output_type": "display_data",
                "data": {
                  "text/plain": "<Figure size 1200x800 with 3 Axes>",
                  "image/png": "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\n"
                },
                "metadata": {}
              },
              {
                "output_type": "stream",
                "name": "stdout",
                "text": [
                  "\n",
                  "--- Market Factors Analysis ---\n",
                  "\n",
                  "Sentiment Analysis:\n",
                  "Score: 0.19 (positive sentiment)\n",
                  "Estimated Price Impact: 0.57%\n",
                  "\n",
                  "Market Correlation Factors:\n",
                  "- Sp500: Traditional markets show correlation with crypto, potentially negative for crypto prices\n",
                  "- Btc Dominance: High BTC dominance (61.09401506772373%) is positive for Bitcoin specifically\n",
                  "- Dollar Strength: Dollar weakness typically has positive correlation with crypto prices\n",
                  "- Market Volatility: Market is in extreme fear state - typically negative for risk assets\n",
                  "- Fear Greed Index: Contrarian indicator - extreme values often precede market reversals. Current fear state suggests normal market conditions\n",
                  "\n",
                  "Trading Recommendation:\n",
                  "Strong Buy 🟢🟢 - The model predicts a bullish 📈 trend with 8/10 confidence based on technical indicators and market factors.\n",
                  "\n",
                  "Note: This is for educational purposes only. Always do your own research before investing.\n"
                ]
              }
            ]
          }
        },
        "7a01758e622348f9b779bf7330c9b7d5": {
          "model_module": "@jupyter-widgets/base",
          "model_name": "LayoutModel",
          "model_module_version": "1.2.0",
          "state": {
            "_model_module": "@jupyter-widgets/base",
            "_model_module_version": "1.2.0",
            "_model_name": "LayoutModel",
            "_view_count": null,
            "_view_module": "@jupyter-widgets/base",
            "_view_module_version": "1.2.0",
            "_view_name": "LayoutView",
            "align_content": null,
            "align_items": null,
            "align_self": null,
            "border": null,
            "bottom": null,
            "display": null,
            "flex": null,
            "flex_flow": null,
            "grid_area": null,
            "grid_auto_columns": null,
            "grid_auto_flow": null,
            "grid_auto_rows": null,
            "grid_column": null,
            "grid_gap": null,
            "grid_row": null,
            "grid_template_areas": null,
            "grid_template_columns": null,
            "grid_template_rows": null,
            "height": null,
            "justify_content": null,
            "justify_items": null,
            "left": null,
            "margin": null,
            "max_height": null,
            "max_width": null,
            "min_height": null,
            "min_width": null,
            "object_fit": null,
            "object_position": null,
            "order": null,
            "overflow": null,
            "overflow_x": null,
            "overflow_y": null,
            "padding": null,
            "right": null,
            "top": null,
            "visibility": null,
            "width": null
          }
        },
        "ff51e3dae19e4866bf712fa5d5f0eaea": {
          "model_module": "@jupyter-widgets/base",
          "model_name": "LayoutModel",
          "model_module_version": "1.2.0",
          "state": {
            "_model_module": "@jupyter-widgets/base",
            "_model_module_version": "1.2.0",
            "_model_name": "LayoutModel",
            "_view_count": null,
            "_view_module": "@jupyter-widgets/base",
            "_view_module_version": "1.2.0",
            "_view_name": "LayoutView",
            "align_content": null,
            "align_items": null,
            "align_self": null,
            "border": null,
            "bottom": null,
            "display": null,
            "flex": null,
            "flex_flow": null,
            "grid_area": null,
            "grid_auto_columns": null,
            "grid_auto_flow": null,
            "grid_auto_rows": null,
            "grid_column": null,
            "grid_gap": null,
            "grid_row": null,
            "grid_template_areas": null,
            "grid_template_columns": null,
            "grid_template_rows": null,
            "height": null,
            "justify_content": null,
            "justify_items": null,
            "left": null,
            "margin": null,
            "max_height": null,
            "max_width": null,
            "min_height": null,
            "min_width": null,
            "object_fit": null,
            "object_position": null,
            "order": null,
            "overflow": null,
            "overflow_x": null,
            "overflow_y": null,
            "padding": null,
            "right": null,
            "top": null,
            "visibility": null,
            "width": null
          }
        },
        "12e6428f9d2c46a68a2ae5ba83e3a925": {
          "model_module": "@jupyter-widgets/controls",
          "model_name": "DescriptionStyleModel",
          "model_module_version": "1.5.0",
          "state": {
            "_model_module": "@jupyter-widgets/controls",
            "_model_module_version": "1.5.0",
            "_model_name": "DescriptionStyleModel",
            "_view_count": null,
            "_view_module": "@jupyter-widgets/base",
            "_view_module_version": "1.2.0",
            "_view_name": "StyleView",
            "description_width": ""
          }
        },
        "c96e19abd5fd4e2aa8dcdb72b58719da": {
          "model_module": "@jupyter-widgets/base",
          "model_name": "LayoutModel",
          "model_module_version": "1.2.0",
          "state": {
            "_model_module": "@jupyter-widgets/base",
            "_model_module_version": "1.2.0",
            "_model_name": "LayoutModel",
            "_view_count": null,
            "_view_module": "@jupyter-widgets/base",
            "_view_module_version": "1.2.0",
            "_view_name": "LayoutView",
            "align_content": null,
            "align_items": null,
            "align_self": null,
            "border": null,
            "bottom": null,
            "display": null,
            "flex": null,
            "flex_flow": null,
            "grid_area": null,
            "grid_auto_columns": null,
            "grid_auto_flow": null,
            "grid_auto_rows": null,
            "grid_column": null,
            "grid_gap": null,
            "grid_row": null,
            "grid_template_areas": null,
            "grid_template_columns": null,
            "grid_template_rows": null,
            "height": null,
            "justify_content": null,
            "justify_items": null,
            "left": null,
            "margin": null,
            "max_height": null,
            "max_width": null,
            "min_height": null,
            "min_width": null,
            "object_fit": null,
            "object_position": null,
            "order": null,
            "overflow": null,
            "overflow_x": null,
            "overflow_y": null,
            "padding": null,
            "right": null,
            "top": null,
            "visibility": null,
            "width": null
          }
        },
        "e4f11a90a83649a3a0182d58cfe45089": {
          "model_module": "@jupyter-widgets/controls",
          "model_name": "DescriptionStyleModel",
          "model_module_version": "1.5.0",
          "state": {
            "_model_module": "@jupyter-widgets/controls",
            "_model_module_version": "1.5.0",
            "_model_name": "DescriptionStyleModel",
            "_view_count": null,
            "_view_module": "@jupyter-widgets/base",
            "_view_module_version": "1.2.0",
            "_view_name": "StyleView",
            "description_width": ""
          }
        },
        "ceab49268f8948dd9db2ef8d6cab2606": {
          "model_module": "@jupyter-widgets/controls",
          "model_name": "TextModel",
          "model_module_version": "1.5.0",
          "state": {
            "_dom_classes": [],
            "_model_module": "@jupyter-widgets/controls",
            "_model_module_version": "1.5.0",
            "_model_name": "TextModel",
            "_view_count": null,
            "_view_module": "@jupyter-widgets/controls",
            "_view_module_version": "1.5.0",
            "_view_name": "TextView",
            "continuous_update": true,
            "description": "Search:",
            "description_tooltip": null,
            "disabled": false,
            "layout": "IPY_MODEL_89f0180275ab4f3c93ac5c43ed82c965",
            "placeholder": "Enter crypto name or symbol",
            "style": "IPY_MODEL_a68a62d47dd64cd492349998a690f47e",
            "value": ""
          }
        },
        "8153dd37707b4236b56e4e705cb2c55b": {
          "model_module": "@jupyter-widgets/controls",
          "model_name": "ButtonModel",
          "model_module_version": "1.5.0",
          "state": {
            "_dom_classes": [],
            "_model_module": "@jupyter-widgets/controls",
            "_model_module_version": "1.5.0",
            "_model_name": "ButtonModel",
            "_view_count": null,
            "_view_module": "@jupyter-widgets/controls",
            "_view_module_version": "1.5.0",
            "_view_name": "ButtonView",
            "button_style": "",
            "description": "Search",
            "disabled": false,
            "icon": "",
            "layout": "IPY_MODEL_533704f216d147d7844bb70ad19db757",
            "style": "IPY_MODEL_2a3da0669d1d402bacbf5ea04edafb1d",
            "tooltip": ""
          }
        },
        "e7c9a67a55bf4e1fa42d3c9fb87c8d43": {
          "model_module": "@jupyter-widgets/base",
          "model_name": "LayoutModel",
          "model_module_version": "1.2.0",
          "state": {
            "_model_module": "@jupyter-widgets/base",
            "_model_module_version": "1.2.0",
            "_model_name": "LayoutModel",
            "_view_count": null,
            "_view_module": "@jupyter-widgets/base",
            "_view_module_version": "1.2.0",
            "_view_name": "LayoutView",
            "align_content": null,
            "align_items": null,
            "align_self": null,
            "border": null,
            "bottom": null,
            "display": null,
            "flex": null,
            "flex_flow": null,
            "grid_area": null,
            "grid_auto_columns": null,
            "grid_auto_flow": null,
            "grid_auto_rows": null,
            "grid_column": null,
            "grid_gap": null,
            "grid_row": null,
            "grid_template_areas": null,
            "grid_template_columns": null,
            "grid_template_rows": null,
            "height": null,
            "justify_content": null,
            "justify_items": null,
            "left": null,
            "margin": null,
            "max_height": null,
            "max_width": null,
            "min_height": null,
            "min_width": null,
            "object_fit": null,
            "object_position": null,
            "order": null,
            "overflow": null,
            "overflow_x": null,
            "overflow_y": null,
            "padding": null,
            "right": null,
            "top": null,
            "visibility": null,
            "width": null
          }
        },
        "28b91a3dc99c44c1bc6aba735ab00e8b": {
          "model_module": "@jupyter-widgets/controls",
          "model_name": "VBoxModel",
          "model_module_version": "1.5.0",
          "state": {
            "_dom_classes": [],
            "_model_module": "@jupyter-widgets/controls",
            "_model_module_version": "1.5.0",
            "_model_name": "VBoxModel",
            "_view_count": null,
            "_view_module": "@jupyter-widgets/controls",
            "_view_module_version": "1.5.0",
            "_view_name": "VBoxView",
            "box_style": "",
            "children": [
              "IPY_MODEL_e5429d12aa564d59a2f57d5c65ed3f89",
              "IPY_MODEL_1e9e9fdf215e4f4bbcae414a219e7218",
              "IPY_MODEL_8efc55be633d4af9adb4eda1c13135c4",
              "IPY_MODEL_158f01bf60484d089043e866a5a891b3"
            ],
            "layout": "IPY_MODEL_ad28fd8964ec4732b1b1231364962c4c"
          }
        },
        "c24bacc7093147108b7a3a0152bc07ca": {
          "model_module": "@jupyter-widgets/controls",
          "model_name": "VBoxModel",
          "model_module_version": "1.5.0",
          "state": {
            "_dom_classes": [],
            "_model_module": "@jupyter-widgets/controls",
            "_model_module_version": "1.5.0",
            "_model_name": "VBoxModel",
            "_view_count": null,
            "_view_module": "@jupyter-widgets/controls",
            "_view_module_version": "1.5.0",
            "_view_name": "VBoxView",
            "box_style": "",
            "children": [
              "IPY_MODEL_1574b7ee2d4e47739cdfb194cb991d80",
              "IPY_MODEL_80c9497e9bcb4bfdaad332ecde0fbe71"
            ],
            "layout": "IPY_MODEL_0776e7582b2e40dcb284c89631c3c842"
          }
        },
        "b04f8016e08d43db847867fb28581458": {
          "model_module": "@jupyter-widgets/base",
          "model_name": "LayoutModel",
          "model_module_version": "1.2.0",
          "state": {
            "_model_module": "@jupyter-widgets/base",
            "_model_module_version": "1.2.0",
            "_model_name": "LayoutModel",
            "_view_count": null,
            "_view_module": "@jupyter-widgets/base",
            "_view_module_version": "1.2.0",
            "_view_name": "LayoutView",
            "align_content": null,
            "align_items": null,
            "align_self": null,
            "border": null,
            "bottom": null,
            "display": null,
            "flex": null,
            "flex_flow": null,
            "grid_area": null,
            "grid_auto_columns": null,
            "grid_auto_flow": null,
            "grid_auto_rows": null,
            "grid_column": null,
            "grid_gap": null,
            "grid_row": null,
            "grid_template_areas": null,
            "grid_template_columns": null,
            "grid_template_rows": null,
            "height": null,
            "justify_content": null,
            "justify_items": null,
            "left": null,
            "margin": null,
            "max_height": null,
            "max_width": null,
            "min_height": null,
            "min_width": null,
            "object_fit": null,
            "object_position": null,
            "order": null,
            "overflow": null,
            "overflow_x": null,
            "overflow_y": null,
            "padding": null,
            "right": null,
            "top": null,
            "visibility": null,
            "width": null
          }
        },
        "6dbd537a3667405283fd02f3bd72a2c9": {
          "model_module": "@jupyter-widgets/base",
          "model_name": "LayoutModel",
          "model_module_version": "1.2.0",
          "state": {
            "_model_module": "@jupyter-widgets/base",
            "_model_module_version": "1.2.0",
            "_model_name": "LayoutModel",
            "_view_count": null,
            "_view_module": "@jupyter-widgets/base",
            "_view_module_version": "1.2.0",
            "_view_name": "LayoutView",
            "align_content": null,
            "align_items": null,
            "align_self": null,
            "border": null,
            "bottom": null,
            "display": null,
            "flex": null,
            "flex_flow": null,
            "grid_area": null,
            "grid_auto_columns": null,
            "grid_auto_flow": null,
            "grid_auto_rows": null,
            "grid_column": null,
            "grid_gap": null,
            "grid_row": null,
            "grid_template_areas": null,
            "grid_template_columns": null,
            "grid_template_rows": null,
            "height": null,
            "justify_content": null,
            "justify_items": null,
            "left": null,
            "margin": null,
            "max_height": null,
            "max_width": null,
            "min_height": null,
            "min_width": null,
            "object_fit": null,
            "object_position": null,
            "order": null,
            "overflow": null,
            "overflow_x": null,
            "overflow_y": null,
            "padding": null,
            "right": null,
            "top": null,
            "visibility": null,
            "width": null
          }
        },
        "996636d5711a4f9d855d6d3493f4ea35": {
          "model_module": "@jupyter-widgets/controls",
          "model_name": "ButtonStyleModel",
          "model_module_version": "1.5.0",
          "state": {
            "_model_module": "@jupyter-widgets/controls",
            "_model_module_version": "1.5.0",
            "_model_name": "ButtonStyleModel",
            "_view_count": null,
            "_view_module": "@jupyter-widgets/base",
            "_view_module_version": "1.2.0",
            "_view_name": "StyleView",
            "button_color": null,
            "font_weight": ""
          }
        },
        "89f0180275ab4f3c93ac5c43ed82c965": {
          "model_module": "@jupyter-widgets/base",
          "model_name": "LayoutModel",
          "model_module_version": "1.2.0",
          "state": {
            "_model_module": "@jupyter-widgets/base",
            "_model_module_version": "1.2.0",
            "_model_name": "LayoutModel",
            "_view_count": null,
            "_view_module": "@jupyter-widgets/base",
            "_view_module_version": "1.2.0",
            "_view_name": "LayoutView",
            "align_content": null,
            "align_items": null,
            "align_self": null,
            "border": null,
            "bottom": null,
            "display": null,
            "flex": null,
            "flex_flow": null,
            "grid_area": null,
            "grid_auto_columns": null,
            "grid_auto_flow": null,
            "grid_auto_rows": null,
            "grid_column": null,
            "grid_gap": null,
            "grid_row": null,
            "grid_template_areas": null,
            "grid_template_columns": null,
            "grid_template_rows": null,
            "height": null,
            "justify_content": null,
            "justify_items": null,
            "left": null,
            "margin": null,
            "max_height": null,
            "max_width": null,
            "min_height": null,
            "min_width": null,
            "object_fit": null,
            "object_position": null,
            "order": null,
            "overflow": null,
            "overflow_x": null,
            "overflow_y": null,
            "padding": null,
            "right": null,
            "top": null,
            "visibility": null,
            "width": null
          }
        },
        "a68a62d47dd64cd492349998a690f47e": {
          "model_module": "@jupyter-widgets/controls",
          "model_name": "DescriptionStyleModel",
          "model_module_version": "1.5.0",
          "state": {
            "_model_module": "@jupyter-widgets/controls",
            "_model_module_version": "1.5.0",
            "_model_name": "DescriptionStyleModel",
            "_view_count": null,
            "_view_module": "@jupyter-widgets/base",
            "_view_module_version": "1.2.0",
            "_view_name": "StyleView",
            "description_width": ""
          }
        },
        "533704f216d147d7844bb70ad19db757": {
          "model_module": "@jupyter-widgets/base",
          "model_name": "LayoutModel",
          "model_module_version": "1.2.0",
          "state": {
            "_model_module": "@jupyter-widgets/base",
            "_model_module_version": "1.2.0",
            "_model_name": "LayoutModel",
            "_view_count": null,
            "_view_module": "@jupyter-widgets/base",
            "_view_module_version": "1.2.0",
            "_view_name": "LayoutView",
            "align_content": null,
            "align_items": null,
            "align_self": null,
            "border": null,
            "bottom": null,
            "display": null,
            "flex": null,
            "flex_flow": null,
            "grid_area": null,
            "grid_auto_columns": null,
            "grid_auto_flow": null,
            "grid_auto_rows": null,
            "grid_column": null,
            "grid_gap": null,
            "grid_row": null,
            "grid_template_areas": null,
            "grid_template_columns": null,
            "grid_template_rows": null,
            "height": null,
            "justify_content": null,
            "justify_items": null,
            "left": null,
            "margin": null,
            "max_height": null,
            "max_width": null,
            "min_height": null,
            "min_width": null,
            "object_fit": null,
            "object_position": null,
            "order": null,
            "overflow": null,
            "overflow_x": null,
            "overflow_y": null,
            "padding": null,
            "right": null,
            "top": null,
            "visibility": null,
            "width": null
          }
        },
        "2a3da0669d1d402bacbf5ea04edafb1d": {
          "model_module": "@jupyter-widgets/controls",
          "model_name": "ButtonStyleModel",
          "model_module_version": "1.5.0",
          "state": {
            "_model_module": "@jupyter-widgets/controls",
            "_model_module_version": "1.5.0",
            "_model_name": "ButtonStyleModel",
            "_view_count": null,
            "_view_module": "@jupyter-widgets/base",
            "_view_module_version": "1.2.0",
            "_view_name": "StyleView",
            "button_color": null,
            "font_weight": ""
          }
        },
        "e5429d12aa564d59a2f57d5c65ed3f89": {
          "model_module": "@jupyter-widgets/controls",
          "model_name": "DropdownModel",
          "model_module_version": "1.5.0",
          "state": {
            "_dom_classes": [],
            "_model_module": "@jupyter-widgets/controls",
            "_model_module_version": "1.5.0",
            "_model_name": "DropdownModel",
            "_options_labels": [
              "BTC-USD",
              "ETH-USD",
              "BNB-USD",
              "XRP-USD",
              "ADA-USD",
              "DOGE-USD",
              "SOL-USD",
              "DOT-USD",
              "LTC-USD",
              "MATIC-USD",
              "AVAX-USD",
              "ATOM-USD",
              "LINK-USD",
              "UNI-USD",
              "ALGO-USD",
              "NEAR-USD",
              "FTM-USD",
              "AAVE-USD",
              "GRT-USD",
              "SAND-USD"
            ],
            "_view_count": null,
            "_view_module": "@jupyter-widgets/controls",
            "_view_module_version": "1.5.0",
            "_view_name": "DropdownView",
            "description": "Crypto:",
            "description_tooltip": null,
            "disabled": false,
            "index": 0,
            "layout": "IPY_MODEL_e3edbdf812084317849a70f47c171339",
            "style": "IPY_MODEL_828f7c2861274bab85373672583a556e"
          }
        },
        "1e9e9fdf215e4f4bbcae414a219e7218": {
          "model_module": "@jupyter-widgets/controls",
          "model_name": "IntSliderModel",
          "model_module_version": "1.5.0",
          "state": {
            "_dom_classes": [],
            "_model_module": "@jupyter-widgets/controls",
            "_model_module_version": "1.5.0",
            "_model_name": "IntSliderModel",
            "_view_count": null,
            "_view_module": "@jupyter-widgets/controls",
            "_view_module_version": "1.5.0",
            "_view_name": "IntSliderView",
            "continuous_update": true,
            "description": "Chart Days:",
            "description_tooltip": null,
            "disabled": false,
            "layout": "IPY_MODEL_908339ecf9ed42379f35d95bbf978073",
            "max": 365,
            "min": 7,
            "orientation": "horizontal",
            "readout": true,
            "readout_format": "d",
            "step": 1,
            "style": "IPY_MODEL_17356081b02342d9ac0000378ec4b0f8",
            "value": 11
          }
        },
        "8efc55be633d4af9adb4eda1c13135c4": {
          "model_module": "@jupyter-widgets/controls",
          "model_name": "IntSliderModel",
          "model_module_version": "1.5.0",
          "state": {
            "_dom_classes": [],
            "_model_module": "@jupyter-widgets/controls",
            "_model_module_version": "1.5.0",
            "_model_name": "IntSliderModel",
            "_view_count": null,
            "_view_module": "@jupyter-widgets/controls",
            "_view_module_version": "1.5.0",
            "_view_name": "IntSliderView",
            "continuous_update": true,
            "description": "Forecast Days:",
            "description_tooltip": null,
            "disabled": false,
            "layout": "IPY_MODEL_d61b3d50002546dd98e7693708559ee7",
            "max": 30,
            "min": 1,
            "orientation": "horizontal",
            "readout": true,
            "readout_format": "d",
            "step": 1,
            "style": "IPY_MODEL_077db9906fcc4dbc83145b2553191904",
            "value": 3
          }
        },
        "158f01bf60484d089043e866a5a891b3": {
          "model_module": "@jupyter-widgets/controls",
          "model_name": "RadioButtonsModel",
          "model_module_version": "1.5.0",
          "state": {
            "_dom_classes": [],
            "_model_module": "@jupyter-widgets/controls",
            "_model_module_version": "1.5.0",
            "_model_name": "RadioButtonsModel",
            "_options_labels": [
              "Standard",
              "Enhanced (Slower)",
              "Simple (Faster)"
            ],
            "_view_count": null,
            "_view_module": "@jupyter-widgets/controls",
            "_view_module_version": "1.5.0",
            "_view_name": "RadioButtonsView",
            "description": "Model Type:",
            "description_tooltip": null,
            "disabled": false,
            "index": 2,
            "layout": "IPY_MODEL_a631b4d4481547f98adcb528ba057a5a",
            "style": "IPY_MODEL_e4f4dd27ee574338bb1668357f2b8a64"
          }
        },
        "ad28fd8964ec4732b1b1231364962c4c": {
          "model_module": "@jupyter-widgets/base",
          "model_name": "LayoutModel",
          "model_module_version": "1.2.0",
          "state": {
            "_model_module": "@jupyter-widgets/base",
            "_model_module_version": "1.2.0",
            "_model_name": "LayoutModel",
            "_view_count": null,
            "_view_module": "@jupyter-widgets/base",
            "_view_module_version": "1.2.0",
            "_view_name": "LayoutView",
            "align_content": null,
            "align_items": null,
            "align_self": null,
            "border": null,
            "bottom": null,
            "display": null,
            "flex": null,
            "flex_flow": null,
            "grid_area": null,
            "grid_auto_columns": null,
            "grid_auto_flow": null,
            "grid_auto_rows": null,
            "grid_column": null,
            "grid_gap": null,
            "grid_row": null,
            "grid_template_areas": null,
            "grid_template_columns": null,
            "grid_template_rows": null,
            "height": null,
            "justify_content": null,
            "justify_items": null,
            "left": null,
            "margin": null,
            "max_height": null,
            "max_width": null,
            "min_height": null,
            "min_width": null,
            "object_fit": null,
            "object_position": null,
            "order": null,
            "overflow": null,
            "overflow_x": null,
            "overflow_y": null,
            "padding": null,
            "right": null,
            "top": null,
            "visibility": null,
            "width": null
          }
        },
        "1574b7ee2d4e47739cdfb194cb991d80": {
          "model_module": "@jupyter-widgets/controls",
          "model_name": "CheckboxModel",
          "model_module_version": "1.5.0",
          "state": {
            "_dom_classes": [],
            "_model_module": "@jupyter-widgets/controls",
            "_model_module_version": "1.5.0",
            "_model_name": "CheckboxModel",
            "_view_count": null,
            "_view_module": "@jupyter-widgets/controls",
            "_view_module_version": "1.5.0",
            "_view_name": "CheckboxView",
            "description": "Include Market Factors",
            "description_tooltip": null,
            "disabled": false,
            "indent": true,
            "layout": "IPY_MODEL_cd843b49e9c640db96100f9863ce0756",
            "style": "IPY_MODEL_0fc85772efe5446880381a561dd96795",
            "value": true
          }
        },
        "80c9497e9bcb4bfdaad332ecde0fbe71": {
          "model_module": "@jupyter-widgets/controls",
          "model_name": "CheckboxModel",
          "model_module_version": "1.5.0",
          "state": {
            "_dom_classes": [],
            "_model_module": "@jupyter-widgets/controls",
            "_model_module_version": "1.5.0",
            "_model_name": "CheckboxModel",
            "_view_count": null,
            "_view_module": "@jupyter-widgets/controls",
            "_view_module_version": "1.5.0",
            "_view_name": "CheckboxView",
            "description": "Include Sentiment Analysis",
            "description_tooltip": null,
            "disabled": false,
            "indent": true,
            "layout": "IPY_MODEL_cb84d70a22314a4bb40e41feeb95c85b",
            "style": "IPY_MODEL_f1df1f67fec64ab9b1e6b3155e5f364a",
            "value": true
          }
        },
        "0776e7582b2e40dcb284c89631c3c842": {
          "model_module": "@jupyter-widgets/base",
          "model_name": "LayoutModel",
          "model_module_version": "1.2.0",
          "state": {
            "_model_module": "@jupyter-widgets/base",
            "_model_module_version": "1.2.0",
            "_model_name": "LayoutModel",
            "_view_count": null,
            "_view_module": "@jupyter-widgets/base",
            "_view_module_version": "1.2.0",
            "_view_name": "LayoutView",
            "align_content": null,
            "align_items": null,
            "align_self": null,
            "border": null,
            "bottom": null,
            "display": null,
            "flex": null,
            "flex_flow": null,
            "grid_area": null,
            "grid_auto_columns": null,
            "grid_auto_flow": null,
            "grid_auto_rows": null,
            "grid_column": null,
            "grid_gap": null,
            "grid_row": null,
            "grid_template_areas": null,
            "grid_template_columns": null,
            "grid_template_rows": null,
            "height": null,
            "justify_content": null,
            "justify_items": null,
            "left": null,
            "margin": null,
            "max_height": null,
            "max_width": null,
            "min_height": null,
            "min_width": null,
            "object_fit": null,
            "object_position": null,
            "order": null,
            "overflow": null,
            "overflow_x": null,
            "overflow_y": null,
            "padding": null,
            "right": null,
            "top": null,
            "visibility": null,
            "width": null
          }
        },
        "e3edbdf812084317849a70f47c171339": {
          "model_module": "@jupyter-widgets/base",
          "model_name": "LayoutModel",
          "model_module_version": "1.2.0",
          "state": {
            "_model_module": "@jupyter-widgets/base",
            "_model_module_version": "1.2.0",
            "_model_name": "LayoutModel",
            "_view_count": null,
            "_view_module": "@jupyter-widgets/base",
            "_view_module_version": "1.2.0",
            "_view_name": "LayoutView",
            "align_content": null,
            "align_items": null,
            "align_self": null,
            "border": null,
            "bottom": null,
            "display": null,
            "flex": null,
            "flex_flow": null,
            "grid_area": null,
            "grid_auto_columns": null,
            "grid_auto_flow": null,
            "grid_auto_rows": null,
            "grid_column": null,
            "grid_gap": null,
            "grid_row": null,
            "grid_template_areas": null,
            "grid_template_columns": null,
            "grid_template_rows": null,
            "height": null,
            "justify_content": null,
            "justify_items": null,
            "left": null,
            "margin": null,
            "max_height": null,
            "max_width": null,
            "min_height": null,
            "min_width": null,
            "object_fit": null,
            "object_position": null,
            "order": null,
            "overflow": null,
            "overflow_x": null,
            "overflow_y": null,
            "padding": null,
            "right": null,
            "top": null,
            "visibility": null,
            "width": null
          }
        },
        "828f7c2861274bab85373672583a556e": {
          "model_module": "@jupyter-widgets/controls",
          "model_name": "DescriptionStyleModel",
          "model_module_version": "1.5.0",
          "state": {
            "_model_module": "@jupyter-widgets/controls",
            "_model_module_version": "1.5.0",
            "_model_name": "DescriptionStyleModel",
            "_view_count": null,
            "_view_module": "@jupyter-widgets/base",
            "_view_module_version": "1.2.0",
            "_view_name": "StyleView",
            "description_width": ""
          }
        },
        "908339ecf9ed42379f35d95bbf978073": {
          "model_module": "@jupyter-widgets/base",
          "model_name": "LayoutModel",
          "model_module_version": "1.2.0",
          "state": {
            "_model_module": "@jupyter-widgets/base",
            "_model_module_version": "1.2.0",
            "_model_name": "LayoutModel",
            "_view_count": null,
            "_view_module": "@jupyter-widgets/base",
            "_view_module_version": "1.2.0",
            "_view_name": "LayoutView",
            "align_content": null,
            "align_items": null,
            "align_self": null,
            "border": null,
            "bottom": null,
            "display": null,
            "flex": null,
            "flex_flow": null,
            "grid_area": null,
            "grid_auto_columns": null,
            "grid_auto_flow": null,
            "grid_auto_rows": null,
            "grid_column": null,
            "grid_gap": null,
            "grid_row": null,
            "grid_template_areas": null,
            "grid_template_columns": null,
            "grid_template_rows": null,
            "height": null,
            "justify_content": null,
            "justify_items": null,
            "left": null,
            "margin": null,
            "max_height": null,
            "max_width": null,
            "min_height": null,
            "min_width": null,
            "object_fit": null,
            "object_position": null,
            "order": null,
            "overflow": null,
            "overflow_x": null,
            "overflow_y": null,
            "padding": null,
            "right": null,
            "top": null,
            "visibility": null,
            "width": null
          }
        },
        "17356081b02342d9ac0000378ec4b0f8": {
          "model_module": "@jupyter-widgets/controls",
          "model_name": "SliderStyleModel",
          "model_module_version": "1.5.0",
          "state": {
            "_model_module": "@jupyter-widgets/controls",
            "_model_module_version": "1.5.0",
            "_model_name": "SliderStyleModel",
            "_view_count": null,
            "_view_module": "@jupyter-widgets/base",
            "_view_module_version": "1.2.0",
            "_view_name": "StyleView",
            "description_width": "",
            "handle_color": null
          }
        },
        "d61b3d50002546dd98e7693708559ee7": {
          "model_module": "@jupyter-widgets/base",
          "model_name": "LayoutModel",
          "model_module_version": "1.2.0",
          "state": {
            "_model_module": "@jupyter-widgets/base",
            "_model_module_version": "1.2.0",
            "_model_name": "LayoutModel",
            "_view_count": null,
            "_view_module": "@jupyter-widgets/base",
            "_view_module_version": "1.2.0",
            "_view_name": "LayoutView",
            "align_content": null,
            "align_items": null,
            "align_self": null,
            "border": null,
            "bottom": null,
            "display": null,
            "flex": null,
            "flex_flow": null,
            "grid_area": null,
            "grid_auto_columns": null,
            "grid_auto_flow": null,
            "grid_auto_rows": null,
            "grid_column": null,
            "grid_gap": null,
            "grid_row": null,
            "grid_template_areas": null,
            "grid_template_columns": null,
            "grid_template_rows": null,
            "height": null,
            "justify_content": null,
            "justify_items": null,
            "left": null,
            "margin": null,
            "max_height": null,
            "max_width": null,
            "min_height": null,
            "min_width": null,
            "object_fit": null,
            "object_position": null,
            "order": null,
            "overflow": null,
            "overflow_x": null,
            "overflow_y": null,
            "padding": null,
            "right": null,
            "top": null,
            "visibility": null,
            "width": null
          }
        },
        "077db9906fcc4dbc83145b2553191904": {
          "model_module": "@jupyter-widgets/controls",
          "model_name": "SliderStyleModel",
          "model_module_version": "1.5.0",
          "state": {
            "_model_module": "@jupyter-widgets/controls",
            "_model_module_version": "1.5.0",
            "_model_name": "SliderStyleModel",
            "_view_count": null,
            "_view_module": "@jupyter-widgets/base",
            "_view_module_version": "1.2.0",
            "_view_name": "StyleView",
            "description_width": "",
            "handle_color": null
          }
        },
        "a631b4d4481547f98adcb528ba057a5a": {
          "model_module": "@jupyter-widgets/base",
          "model_name": "LayoutModel",
          "model_module_version": "1.2.0",
          "state": {
            "_model_module": "@jupyter-widgets/base",
            "_model_module_version": "1.2.0",
            "_model_name": "LayoutModel",
            "_view_count": null,
            "_view_module": "@jupyter-widgets/base",
            "_view_module_version": "1.2.0",
            "_view_name": "LayoutView",
            "align_content": null,
            "align_items": null,
            "align_self": null,
            "border": null,
            "bottom": null,
            "display": null,
            "flex": null,
            "flex_flow": null,
            "grid_area": null,
            "grid_auto_columns": null,
            "grid_auto_flow": null,
            "grid_auto_rows": null,
            "grid_column": null,
            "grid_gap": null,
            "grid_row": null,
            "grid_template_areas": null,
            "grid_template_columns": null,
            "grid_template_rows": null,
            "height": null,
            "justify_content": null,
            "justify_items": null,
            "left": null,
            "margin": null,
            "max_height": null,
            "max_width": null,
            "min_height": null,
            "min_width": null,
            "object_fit": null,
            "object_position": null,
            "order": null,
            "overflow": null,
            "overflow_x": null,
            "overflow_y": null,
            "padding": null,
            "right": null,
            "top": null,
            "visibility": null,
            "width": null
          }
        },
        "e4f4dd27ee574338bb1668357f2b8a64": {
          "model_module": "@jupyter-widgets/controls",
          "model_name": "DescriptionStyleModel",
          "model_module_version": "1.5.0",
          "state": {
            "_model_module": "@jupyter-widgets/controls",
            "_model_module_version": "1.5.0",
            "_model_name": "DescriptionStyleModel",
            "_view_count": null,
            "_view_module": "@jupyter-widgets/base",
            "_view_module_version": "1.2.0",
            "_view_name": "StyleView",
            "description_width": ""
          }
        },
        "cd843b49e9c640db96100f9863ce0756": {
          "model_module": "@jupyter-widgets/base",
          "model_name": "LayoutModel",
          "model_module_version": "1.2.0",
          "state": {
            "_model_module": "@jupyter-widgets/base",
            "_model_module_version": "1.2.0",
            "_model_name": "LayoutModel",
            "_view_count": null,
            "_view_module": "@jupyter-widgets/base",
            "_view_module_version": "1.2.0",
            "_view_name": "LayoutView",
            "align_content": null,
            "align_items": null,
            "align_self": null,
            "border": null,
            "bottom": null,
            "display": null,
            "flex": null,
            "flex_flow": null,
            "grid_area": null,
            "grid_auto_columns": null,
            "grid_auto_flow": null,
            "grid_auto_rows": null,
            "grid_column": null,
            "grid_gap": null,
            "grid_row": null,
            "grid_template_areas": null,
            "grid_template_columns": null,
            "grid_template_rows": null,
            "height": null,
            "justify_content": null,
            "justify_items": null,
            "left": null,
            "margin": null,
            "max_height": null,
            "max_width": null,
            "min_height": null,
            "min_width": null,
            "object_fit": null,
            "object_position": null,
            "order": null,
            "overflow": null,
            "overflow_x": null,
            "overflow_y": null,
            "padding": null,
            "right": null,
            "top": null,
            "visibility": null,
            "width": null
          }
        },
        "0fc85772efe5446880381a561dd96795": {
          "model_module": "@jupyter-widgets/controls",
          "model_name": "DescriptionStyleModel",
          "model_module_version": "1.5.0",
          "state": {
            "_model_module": "@jupyter-widgets/controls",
            "_model_module_version": "1.5.0",
            "_model_name": "DescriptionStyleModel",
            "_view_count": null,
            "_view_module": "@jupyter-widgets/base",
            "_view_module_version": "1.2.0",
            "_view_name": "StyleView",
            "description_width": ""
          }
        },
        "cb84d70a22314a4bb40e41feeb95c85b": {
          "model_module": "@jupyter-widgets/base",
          "model_name": "LayoutModel",
          "model_module_version": "1.2.0",
          "state": {
            "_model_module": "@jupyter-widgets/base",
            "_model_module_version": "1.2.0",
            "_model_name": "LayoutModel",
            "_view_count": null,
            "_view_module": "@jupyter-widgets/base",
            "_view_module_version": "1.2.0",
            "_view_name": "LayoutView",
            "align_content": null,
            "align_items": null,
            "align_self": null,
            "border": null,
            "bottom": null,
            "display": null,
            "flex": null,
            "flex_flow": null,
            "grid_area": null,
            "grid_auto_columns": null,
            "grid_auto_flow": null,
            "grid_auto_rows": null,
            "grid_column": null,
            "grid_gap": null,
            "grid_row": null,
            "grid_template_areas": null,
            "grid_template_columns": null,
            "grid_template_rows": null,
            "height": null,
            "justify_content": null,
            "justify_items": null,
            "left": null,
            "margin": null,
            "max_height": null,
            "max_width": null,
            "min_height": null,
            "min_width": null,
            "object_fit": null,
            "object_position": null,
            "order": null,
            "overflow": null,
            "overflow_x": null,
            "overflow_y": null,
            "padding": null,
            "right": null,
            "top": null,
            "visibility": null,
            "width": null
          }
        },
        "f1df1f67fec64ab9b1e6b3155e5f364a": {
          "model_module": "@jupyter-widgets/controls",
          "model_name": "DescriptionStyleModel",
          "model_module_version": "1.5.0",
          "state": {
            "_model_module": "@jupyter-widgets/controls",
            "_model_module_version": "1.5.0",
            "_model_name": "DescriptionStyleModel",
            "_view_count": null,
            "_view_module": "@jupyter-widgets/base",
            "_view_module_version": "1.2.0",
            "_view_name": "StyleView",
            "description_width": ""
          }
        },
        "33814b855dd74ba3ad0d90f29a92251f": {
          "model_module": "@jupyter-widgets/base",
          "model_name": "LayoutModel",
          "model_module_version": "1.2.0",
          "state": {
            "_model_module": "@jupyter-widgets/base",
            "_model_module_version": "1.2.0",
            "_model_name": "LayoutModel",
            "_view_count": null,
            "_view_module": "@jupyter-widgets/base",
            "_view_module_version": "1.2.0",
            "_view_name": "LayoutView",
            "align_content": null,
            "align_items": null,
            "align_self": null,
            "border": null,
            "bottom": null,
            "display": null,
            "flex": null,
            "flex_flow": null,
            "grid_area": null,
            "grid_auto_columns": null,
            "grid_auto_flow": null,
            "grid_auto_rows": null,
            "grid_column": null,
            "grid_gap": null,
            "grid_row": null,
            "grid_template_areas": null,
            "grid_template_columns": null,
            "grid_template_rows": null,
            "height": null,
            "justify_content": null,
            "justify_items": null,
            "left": null,
            "margin": null,
            "max_height": null,
            "max_width": null,
            "min_height": null,
            "min_width": null,
            "object_fit": null,
            "object_position": null,
            "order": null,
            "overflow": null,
            "overflow_x": null,
            "overflow_y": null,
            "padding": null,
            "right": null,
            "top": null,
            "visibility": null,
            "width": null
          }
        }
      }
    }
  },
  "cells": [
    {
      "cell_type": "code",
      "execution_count": null,
      "metadata": {
        "id": "o1gRzo5ahbAl"
      },
      "outputs": [],
      "source": []
    },
    {
      "cell_type": "code",
      "source": [
        "!pip install pycoingecko\n",
        "from pycoingecko import CoinGeckoAPI"
      ],
      "metadata": {
        "colab": {
          "base_uri": "https://localhost:8080/"
        },
        "id": "zA7chGfyiTLG",
        "outputId": "2c6d72b2-1e1b-4953-932b-e410b554aa90"
      },
      "execution_count": 3,
      "outputs": [
        {
          "output_type": "stream",
          "name": "stdout",
          "text": [
            "Collecting pycoingecko\n",
            "  Downloading pycoingecko-3.2.0-py3-none-any.whl.metadata (16 kB)\n",
            "Requirement already satisfied: requests in /usr/local/lib/python3.11/dist-packages (from pycoingecko) (2.32.3)\n",
            "Requirement already satisfied: charset-normalizer<4,>=2 in /usr/local/lib/python3.11/dist-packages (from requests->pycoingecko) (3.4.1)\n",
            "Requirement already satisfied: idna<4,>=2.5 in /usr/local/lib/python3.11/dist-packages (from requests->pycoingecko) (3.10)\n",
            "Requirement already satisfied: urllib3<3,>=1.21.1 in /usr/local/lib/python3.11/dist-packages (from requests->pycoingecko) (2.3.0)\n",
            "Requirement already satisfied: certifi>=2017.4.17 in /usr/local/lib/python3.11/dist-packages (from requests->pycoingecko) (2025.1.31)\n",
            "Downloading pycoingecko-3.2.0-py3-none-any.whl (10 kB)\n",
            "Installing collected packages: pycoingecko\n",
            "Successfully installed pycoingecko-3.2.0\n"
          ]
        }
      ]
    },
    {
      "cell_type": "code",
      "source": [
        "\n",
        "#!/usr/bin/env python\n",
        "# coding: utf-8\n",
        "\n",
        "import numpy as np\n",
        "import pandas as pd\n",
        "import matplotlib.pyplot as plt\n",
        "import seaborn as sns\n",
        "from sklearn.preprocessing import MinMaxScaler\n",
        "from tensorflow.keras.models import Sequential, load_model\n",
        "from tensorflow.keras.layers import LSTM, Dense, Dropout, Bidirectional\n",
        "from tensorflow.keras.callbacks import EarlyStopping, ModelCheckpoint\n",
        "from datetime import datetime, timedelta\n",
        "import time\n",
        "import ipywidgets as widgets\n",
        "from IPython.display import display, clear_output\n",
        "import os\n",
        "import requests\n",
        "import warnings\n",
        "import json\n",
        "from sklearn.ensemble import RandomForestRegressor\n",
        "from sklearn.metrics import mean_squared_error, mean_absolute_error\n",
        "import yfinance as yf\n",
        "import ta\n",
        "from newsapi import NewsApiClient\n",
        "import re\n",
        "from textblob import TextBlob\n",
        "import concurrent.futures\n",
        "\n",
        "# Suppress specific warnings\n",
        "warnings.filterwarnings(\"ignore\", category=pd.errors.SettingWithCopyWarning)\n",
        "warnings.filterwarnings(\"ignore\", category=UserWarning, module='statsmodels')\n",
        "\n",
        "# Constants\n",
        "MODEL_VERSION = \"2.0\"\n",
        "DEFAULT_API_KEY = \"YOUR_API_KEY\"  # Replace with your actual API key\n",
        "NEWS_API_KEY = \"9b9c916fbd2e444d8e70561f567bbe10\"  # Replace with your NewsAPI key\n",
        "\n",
        "# Fetch USD to INR exchange rate with improved error handling\n",
        "def get_usd_to_inr():\n",
        "    try:\n",
        "        response = requests.get(\"https://api.exchangerate-api.com/v4/latest/USD\", timeout=10)\n",
        "        if response.status_code == 200:\n",
        "            data = response.json()\n",
        "            return data[\"rates\"].get(\"INR\", 83.0)\n",
        "        else:\n",
        "            print(f\"Exchange rate API returned status code: {response.status_code}\")\n",
        "            return 83.0\n",
        "    except Exception as e:\n",
        "        print(f\"Error fetching exchange rate: {e}\")\n",
        "        return 83.0\n",
        "\n",
        "# Search for a cryptocurrency by name or symbol\n",
        "def search_cryptocurrency(query):\n",
        "    \"\"\"Search for a cryptocurrency by name or symbol using CoinGecko API\"\"\"\n",
        "    try:\n",
        "        print(f\"Searching for cryptocurrency: {query}\")\n",
        "        url = \"https://api.coingecko.com/api/v3/search\"\n",
        "        params = {'query': query}\n",
        "\n",
        "        response = requests.get(url, params=params, timeout=15)\n",
        "\n",
        "        if response.status_code != 200:\n",
        "            print(f\"Error searching cryptocurrencies. Status code: {response.status_code}\")\n",
        "            return None\n",
        "\n",
        "        data = response.json()\n",
        "        coins = data.get('coins', [])\n",
        "\n",
        "        if not coins:\n",
        "            print(f\"No cryptocurrencies found matching '{query}'\")\n",
        "            return None\n",
        "\n",
        "        # Return the top 5 results\n",
        "        top_results = []\n",
        "        for i, coin in enumerate(coins[:5]):\n",
        "            top_results.append({\n",
        "                'id': coin['id'],\n",
        "                'symbol': coin['symbol'].upper(),\n",
        "                'name': coin['name'],\n",
        "                'market_cap_rank': coin.get('market_cap_rank', 'N/A')\n",
        "            })\n",
        "\n",
        "        return top_results\n",
        "\n",
        "    except Exception as e:\n",
        "        print(f\"Error searching cryptocurrency: {e}\")\n",
        "        return None\n",
        "\n",
        "# Fetch crypto data from CoinGecko API with improved reliability\n",
        "def fetch_crypto_data(coin_id, days=365):\n",
        "    \"\"\"Fetch historical cryptocurrency data from CoinGecko API\"\"\"\n",
        "    try:\n",
        "        print(f\"Fetching {days} days of data for {coin_id}...\")\n",
        "        url = f\"https://api.coingecko.com/api/v3/coins/{coin_id}/market_chart\"\n",
        "        params = {\n",
        "            'vs_currency': 'usd',\n",
        "            'days': days,\n",
        "            'interval': 'daily'\n",
        "        }\n",
        "\n",
        "        # Add a delay to avoid rate limiting\n",
        "        time.sleep(1)\n",
        "\n",
        "        response = requests.get(url, params=params, timeout=15)\n",
        "\n",
        "        if response.status_code != 200:\n",
        "            print(f\"Error fetching data. Status code: {response.status_code}\")\n",
        "            if response.text:\n",
        "                print(f\"Response: {response.text[:300]}...\")  # Print first 300 chars to avoid flooding output\n",
        "\n",
        "            # Try with fewer days if we got a 429 (rate limit) or 401\n",
        "            if (response.status_code == 429 or response.status_code == 401) and days > 90:\n",
        "                print(\"Rate limit reached. Trying with fewer days...\")\n",
        "                time.sleep(2)  # Wait longer before retry\n",
        "                return fetch_crypto_data(coin_id, days=90)\n",
        "\n",
        "            return None\n",
        "\n",
        "        data = response.json()\n",
        "\n",
        "        # CoinGecko returns timestamp in milliseconds and price as [timestamp, price] pairs\n",
        "        prices = data.get('prices', [])\n",
        "        volumes = data.get('total_volumes', [])\n",
        "        market_caps = data.get('market_caps', [])\n",
        "\n",
        "        if not prices:\n",
        "            return None\n",
        "\n",
        "        # Convert to DataFrame\n",
        "        df = pd.DataFrame(prices, columns=['timestamp', 'price'])\n",
        "        df['date'] = pd.to_datetime(df['timestamp'], unit='ms')\n",
        "        df.set_index('date', inplace=True)\n",
        "        df.drop('timestamp', axis=1, inplace=True)\n",
        "        df.rename(columns={'price': 'Close'}, inplace=True)\n",
        "\n",
        "        # Add volume and market cap data\n",
        "        if volumes:\n",
        "            vol_df = pd.DataFrame(volumes, columns=['timestamp', 'volume'])\n",
        "            vol_df['date'] = pd.to_datetime(vol_df['timestamp'], unit='ms')\n",
        "            vol_df.set_index('date', inplace=True)\n",
        "            df['Volume'] = vol_df['volume']\n",
        "\n",
        "        if market_caps:\n",
        "            cap_df = pd.DataFrame(market_caps, columns=['timestamp', 'market_cap'])\n",
        "            cap_df['date'] = pd.to_datetime(cap_df['timestamp'], unit='ms')\n",
        "            cap_df.set_index('date', inplace=True)\n",
        "            df['MarketCap'] = cap_df['market_cap']\n",
        "\n",
        "        # Add estimated OHLC data\n",
        "        df['Open'] = df['Close'].shift(1)\n",
        "        df['High'] = df['Close'] * (1 + np.random.uniform(0, 0.01, size=len(df)))\n",
        "        df['Low'] = df['Close'] * (1 - np.random.uniform(0, 0.01, size=len(df)))\n",
        "\n",
        "        # Fill NaN values in first row\n",
        "        if len(df) > 0:\n",
        "            df.iloc[0, df.columns.get_indexer(['Open'])] = df.iloc[0]['Close']\n",
        "            df.iloc[0, df.columns.get_indexer(['High'])] = df.iloc[0]['Close'] * 1.01\n",
        "            df.iloc[0, df.columns.get_indexer(['Low'])] = df.iloc[0]['Close'] * 0.99\n",
        "\n",
        "        print(f\"Successfully fetched {len(df)} days of data\")\n",
        "        return df\n",
        "\n",
        "    except Exception as e:\n",
        "        print(f\"Error fetching crypto data: {e}\")\n",
        "        return None\n",
        "\n",
        "# Fetch data from multiple sources with failover options\n",
        "def fetch_crypto_data_multi_source(symbol, coin_id=None):\n",
        "    \"\"\"Try multiple sources to fetch cryptocurrency data\"\"\"\n",
        "    if coin_id is None:\n",
        "        # Try to find the coin_id if not provided\n",
        "        search_results = search_cryptocurrency(symbol.split('-')[0] if '-' in symbol else symbol)\n",
        "        if search_results and len(search_results) > 0:\n",
        "            coin_id = search_results[0]['id']\n",
        "            print(f\"Found coin ID: {coin_id} for {symbol}\")\n",
        "        else:\n",
        "            print(f\"Could not find CoinGecko ID for {symbol}\")\n",
        "\n",
        "    # Try CoinGecko first if we have a coin_id\n",
        "    if coin_id:\n",
        "        data = fetch_crypto_data(coin_id, days=365)\n",
        "        if data is not None and not data.empty:\n",
        "            return data, coin_id\n",
        "\n",
        "    # Try yfinance\n",
        "    print(f\"Trying to fetch {symbol} data from Yahoo Finance...\")\n",
        "    try:\n",
        "        ticker = yf.Ticker(symbol)\n",
        "        data = ticker.history(period=\"1y\")\n",
        "        if data is not None and not data.empty:\n",
        "            # Make sure data has the expected columns\n",
        "            required_cols = ['Open', 'High', 'Low', 'Close', 'Volume']\n",
        "            missing_cols = [col for col in required_cols if col not in data.columns]\n",
        "\n",
        "            if missing_cols:\n",
        "                print(f\"Warning: Missing columns in yfinance data: {missing_cols}\")\n",
        "                # Add missing columns with estimated values\n",
        "                if 'Close' in data.columns:\n",
        "                    for col in missing_cols:\n",
        "                        if col == 'Volume':\n",
        "                            data[col] = np.random.uniform(1000000, 10000000, size=len(data))\n",
        "                        else:\n",
        "                            # Estimate OHLC based on Close\n",
        "                            if col == 'Open':\n",
        "                                data[col] = data['Close'].shift(1)\n",
        "                            elif col == 'High':\n",
        "                                data[col] = data['Close'] * 1.01\n",
        "                            elif col == 'Low':\n",
        "                                data[col] = data['Close'] * 0.99\n",
        "\n",
        "            print(f\"Successfully fetched {len(data)} days of data from Yahoo Finance\")\n",
        "            return data, symbol\n",
        "    except Exception as e:\n",
        "        print(f\"Error fetching from Yahoo Finance: {e}\")\n",
        "\n",
        "    # Try CryptoCompare as last resort\n",
        "    print(f\"Trying to fetch data from CryptoCompare...\")\n",
        "    base_currency = symbol.split('-')[0] if '-' in symbol else symbol\n",
        "\n",
        "    try:\n",
        "        url = \"https://min-api.cryptocompare.com/data/v2/histoday\"\n",
        "        params = {\n",
        "            'fsym': base_currency,\n",
        "            'tsym': 'USD',\n",
        "            'limit': 365,\n",
        "        }\n",
        "\n",
        "        response = requests.get(url, params=params, timeout=15)\n",
        "\n",
        "        if response.status_code == 200:\n",
        "            data = response.json()\n",
        "            history = data.get('Data', {}).get('Data', [])\n",
        "\n",
        "            if history:\n",
        "                df = pd.DataFrame(history)\n",
        "                df['date'] = pd.to_datetime(df['time'], unit='s')\n",
        "                df.set_index('date', inplace=True)\n",
        "\n",
        "                # Rename columns to match expected format\n",
        "                df.rename(columns={\n",
        "                    'open': 'Open',\n",
        "                    'high': 'High',\n",
        "                    'low': 'Low',\n",
        "                    'close': 'Close',\n",
        "                    'volumefrom': 'Volume'\n",
        "                }, inplace=True)\n",
        "\n",
        "                # Keep only required columns\n",
        "                keep_cols = ['Open', 'High', 'Low', 'Close', 'Volume']\n",
        "                available_cols = [col for col in keep_cols if col in df.columns]\n",
        "                df = df[available_cols]\n",
        "\n",
        "                # Add any missing columns\n",
        "                for col in keep_cols:\n",
        "                    if col not in df.columns:\n",
        "                        if col == 'Volume':\n",
        "                            df[col] = np.random.uniform(1000000, 10000000, size=len(df))\n",
        "                        else:\n",
        "                            # Estimate OHLC based on Close\n",
        "                            if col == 'Open':\n",
        "                                df[col] = df['Close'].shift(1)\n",
        "                            elif col == 'High':\n",
        "                                df[col] = df['Close'] * 1.01\n",
        "                            elif col == 'Low':\n",
        "                                df[col] = df['Close'] * 0.99\n",
        "\n",
        "                print(f\"Successfully fetched {len(df)} days of data from CryptoCompare\")\n",
        "                return df, base_currency\n",
        "    except Exception as e:\n",
        "        print(f\"Error fetching from CryptoCompare: {e}\")\n",
        "\n",
        "    # If all methods fail\n",
        "    print(\"Failed to fetch cryptocurrency data from all sources\")\n",
        "    return None, None\n",
        "\n",
        "# Fetch external market factors that affect crypto\n",
        "def fetch_market_factors():\n",
        "    \"\"\"Fetch relevant market factors that influence cryptocurrency prices\"\"\"\n",
        "    try:\n",
        "        # Create a dictionary to store all market factors\n",
        "        market_factors = {}\n",
        "\n",
        "        # 1. Fetch S&P 500 data as a proxy for overall market sentiment\n",
        "        print(\"Fetching S&P 500 data...\")\n",
        "        sp500 = yf.download('^GSPC', period='1y', interval='1d')\n",
        "        if not sp500.empty:\n",
        "            market_factors['sp500'] = sp500['Close'].pct_change().fillna(0).values\n",
        "\n",
        "        # 2. Fetch Bitcoin dominance as a market factor\n",
        "        print(\"Fetching Bitcoin market dominance...\")\n",
        "        try:\n",
        "            response = requests.get('https://api.coingecko.com/api/v3/global', timeout=10)\n",
        "            if response.status_code == 200:\n",
        "                data = response.json()\n",
        "                btc_dominance = data.get('data', {}).get('market_cap_percentage', {}).get('btc', 50)\n",
        "                market_factors['btc_dominance'] = btc_dominance\n",
        "                print(f\"Current BTC dominance: {btc_dominance}%\")\n",
        "        except Exception as e:\n",
        "            print(f\"Error fetching BTC dominance: {e}\")\n",
        "\n",
        "        # 3. Fetch DXY (Dollar Index) as a measure of USD strength\n",
        "        print(\"Fetching Dollar Index (DXY) data...\")\n",
        "        dxy = yf.download('DX-Y.NYB', period='1y', interval='1d')\n",
        "        if not dxy.empty:\n",
        "            market_factors['dxy'] = dxy['Close'].pct_change().fillna(0).values\n",
        "\n",
        "        # 4. Fetch Gold price for inflation hedge comparison\n",
        "        print(\"Fetching Gold price data...\")\n",
        "        gold = yf.download('GC=F', period='1y', interval='1d')\n",
        "        if not gold.empty:\n",
        "            market_factors['gold'] = gold['Close'].pct_change().fillna(0).values\n",
        "\n",
        "        # 5. Fetch VIX volatility index for market fear/greed\n",
        "        print(\"Fetching VIX volatility data...\")\n",
        "        vix = yf.download('^VIX', period='1y', interval='1d')\n",
        "        if not vix.empty:\n",
        "            market_factors['vix'] = vix['Close'].values\n",
        "\n",
        "        # 6. Get current fear & greed index if available\n",
        "        try:\n",
        "            response = requests.get('https://api.alternative.me/fng/', timeout=10)\n",
        "            if response.status_code == 200:\n",
        "                data = response.json()\n",
        "                fg_value = data.get('data', [{}])[0].get('value', 50)\n",
        "                market_factors['fear_greed'] = int(fg_value)\n",
        "                print(f\"Current Fear & Greed Index: {fg_value}\")\n",
        "        except Exception as e:\n",
        "            print(f\"Error fetching Fear & Greed index: {e}\")\n",
        "\n",
        "        return market_factors\n",
        "\n",
        "    except Exception as e:\n",
        "        print(f\"Error fetching market factors: {e}\")\n",
        "        return {}\n",
        "\n",
        "# Sentiment analysis from news\n",
        "def get_crypto_sentiment(coin_name, symbol):\n",
        "    \"\"\"Fetch and analyze news sentiment for a cryptocurrency\"\"\"\n",
        "    try:\n",
        "        # Initialize sentiment scores\n",
        "        sentiment_score = 0\n",
        "        sentiment_magnitude = 0\n",
        "        article_count = 0\n",
        "\n",
        "        # Try to use NewsAPI if key is provided\n",
        "        if NEWS_API_KEY != \"YOUR_NEWS_API_KEY\":\n",
        "            newsapi = NewsApiClient(api_key=NEWS_API_KEY)\n",
        "\n",
        "            # Get news about the specific cryptocurrency\n",
        "            all_articles = newsapi.get_everything(\n",
        "                q=f'{coin_name} OR {symbol} cryptocurrency',\n",
        "                language='en',\n",
        "                sort_by='publishedAt',\n",
        "                page_size=10\n",
        "            )\n",
        "\n",
        "            articles = all_articles.get('articles', [])\n",
        "\n",
        "            # Process each article\n",
        "            for article in articles:\n",
        "                title = article.get('title', '')\n",
        "                description = article.get('description', '')\n",
        "\n",
        "                # Combine title and description for analysis\n",
        "                content = f\"{title}. {description}\"\n",
        "\n",
        "                # Use TextBlob for sentiment analysis\n",
        "                analysis = TextBlob(content)\n",
        "                sentiment_score += analysis.sentiment.polarity\n",
        "                sentiment_magnitude += abs(analysis.sentiment.polarity)\n",
        "                article_count += 1\n",
        "\n",
        "        # If no articles found or no API key, use a simpler approach\n",
        "        if article_count == 0:\n",
        "            # Set a neutral sentiment with slight positive bias for established coins\n",
        "            sentiment_score = 0.1\n",
        "            sentiment_magnitude = 0.5\n",
        "\n",
        "        # Calculate average\n",
        "        if article_count > 0:\n",
        "            avg_sentiment = sentiment_score / article_count\n",
        "            avg_magnitude = sentiment_magnitude / article_count\n",
        "        else:\n",
        "            avg_sentiment = sentiment_score\n",
        "            avg_magnitude = sentiment_magnitude\n",
        "\n",
        "        print(f\"News sentiment for {coin_name}: {avg_sentiment:.2f} (magnitude: {avg_magnitude:.2f})\")\n",
        "\n",
        "        return {\n",
        "            'sentiment_score': avg_sentiment,\n",
        "            'sentiment_magnitude': avg_magnitude,\n",
        "            'article_count': article_count\n",
        "        }\n",
        "\n",
        "    except Exception as e:\n",
        "        print(f\"Error getting news sentiment: {e}\")\n",
        "        return {\n",
        "            'sentiment_score': 0.1,  # Slightly positive default\n",
        "            'sentiment_magnitude': 0.5,\n",
        "            'article_count': 0\n",
        "        }\n",
        "\n",
        "# Calculate advanced technical indicators\n",
        "def add_technical_indicators(data):\n",
        "    \"\"\"Add comprehensive technical indicators to the dataframe\"\"\"\n",
        "    # Make a copy to avoid SettingWithCopyWarning\n",
        "    df = data.copy()\n",
        "\n",
        "    try:\n",
        "        # Volume indicators\n",
        "        if 'Volume' in df.columns:\n",
        "            # Money Flow Index\n",
        "            df['MFI'] = ta.volume.money_flow_index(\n",
        "                high=df['High'],\n",
        "                low=df['Low'],\n",
        "                close=df['Close'],\n",
        "                volume=df['Volume'],\n",
        "                window=14,\n",
        "                fillna=True\n",
        "            )\n",
        "\n",
        "            # On-Balance Volume\n",
        "            df['OBV'] = ta.volume.on_balance_volume(\n",
        "                close=df['Close'],\n",
        "                volume=df['Volume'],\n",
        "                fillna=True\n",
        "            )\n",
        "\n",
        "            # Volume Weighted Average Price\n",
        "            df['VWAP'] = (df['Close'] * df['Volume']).cumsum() / df['Volume'].cumsum()\n",
        "\n",
        "        # Trend indicators\n",
        "        # ADX - Average Directional Index\n",
        "        df['ADX'] = ta.trend.adx(\n",
        "            high=df['High'],\n",
        "            low=df['Low'],\n",
        "            close=df['Close'],\n",
        "            window=14,\n",
        "            fillna=True\n",
        "        )\n",
        "\n",
        "        # Moving averages\n",
        "        for window in [5, 7, 14, 30, 50, 200]:\n",
        "            df[f'SMA_{window}'] = ta.trend.sma_indicator(\n",
        "                close=df['Close'],\n",
        "                window=window,\n",
        "                fillna=True\n",
        "            )\n",
        "            df[f'EMA_{window}'] = ta.trend.ema_indicator(\n",
        "                close=df['Close'],\n",
        "                window=window,\n",
        "                fillna=True\n",
        "            )\n",
        "\n",
        "        # MACD\n",
        "        df['MACD_line'] = ta.trend.macd(\n",
        "            close=df['Close'],\n",
        "            window_slow=26,\n",
        "            window_fast=12,\n",
        "            fillna=True\n",
        "        )\n",
        "        df['MACD_signal'] = ta.trend.macd_signal(\n",
        "            close=df['Close'],\n",
        "            window_slow=26,\n",
        "            window_fast=12,\n",
        "            window_sign=9,\n",
        "            fillna=True\n",
        "        )\n",
        "        df['MACD_diff'] = ta.trend.macd_diff(\n",
        "            close=df['Close'],\n",
        "            window_slow=26,\n",
        "            window_fast=12,\n",
        "            window_sign=9,\n",
        "            fillna=True\n",
        "        )\n",
        "\n",
        "        # Momentum indicators\n",
        "        # RSI\n",
        "        df['RSI'] = ta.momentum.rsi(\n",
        "            close=df['Close'],\n",
        "            window=14,\n",
        "            fillna=True\n",
        "        )\n",
        "\n",
        "        # Stochastic Oscillator\n",
        "        df['STOCH_k'] = ta.momentum.stoch(\n",
        "            high=df['High'],\n",
        "            low=df['Low'],\n",
        "            close=df['Close'],\n",
        "            window=14,\n",
        "            smooth_window=3,\n",
        "            fillna=True\n",
        "        )\n",
        "        df['STOCH_d'] = ta.momentum.stoch_signal(\n",
        "            high=df['High'],\n",
        "            low=df['Low'],\n",
        "            close=df['Close'],\n",
        "            window=14,\n",
        "            smooth_window=3,\n",
        "            fillna=True\n",
        "        )\n",
        "\n",
        "        # ROC - Rate of Change\n",
        "        for period in [5, 14, 21]:\n",
        "            df[f'ROC_{period}'] = ta.momentum.roc(\n",
        "                close=df['Close'],\n",
        "                window=period,\n",
        "                fillna=True\n",
        "            )\n",
        "\n",
        "        # Volatility indicators\n",
        "        # Bollinger Bands\n",
        "        df['BB_high'] = ta.volatility.bollinger_hband(\n",
        "            close=df['Close'],\n",
        "            window=20,\n",
        "            window_dev=2,\n",
        "            fillna=True\n",
        "        )\n",
        "        df['BB_mid'] = ta.volatility.bollinger_mavg(\n",
        "            close=df['Close'],\n",
        "            window=20,\n",
        "            fillna=True\n",
        "        )\n",
        "        df['BB_low'] = ta.volatility.bollinger_lband(\n",
        "            close=df['Close'],\n",
        "            window=20,\n",
        "            window_dev=2,\n",
        "            fillna=True\n",
        "        )\n",
        "        df['BB_width'] = (df['BB_high'] - df['BB_low']) / df['BB_mid']\n",
        "\n",
        "        # ATR - Average True Range (volatility)\n",
        "        df['ATR'] = ta.volatility.average_true_range(\n",
        "            high=df['High'],\n",
        "            low=df['Low'],\n",
        "            close=df['Close'],\n",
        "            window=14,\n",
        "            fillna=True\n",
        "        )\n",
        "\n",
        "        # Custom indicators\n",
        "        # Price distance from moving averages (%)\n",
        "        df['Dist_SMA50'] = ((df['Close'] - df['SMA_50']) / df['SMA_50']) * 100\n",
        "        df['Dist_SMA200'] = ((df['Close'] - df['SMA_200']) / df['SMA_200']) * 100\n",
        "\n",
        "        # Golden Cross / Death Cross indicator\n",
        "        df['MA_Cross'] = np.where(df['SMA_50'] > df['SMA_200'], 1, -1)\n",
        "\n",
        "        # Price momentum\n",
        "        df['Price_Momentum'] = df['Close'].pct_change(periods=5) * 100\n",
        "\n",
        "        # Volatility (using simple approximation)\n",
        "        df['Volatility'] = df['Close'].pct_change().rolling(window=14).std() * 100\n",
        "\n",
        "        # Remove any remaining NaN values\n",
        "        df.fillna(method='bfill', inplace=True)\n",
        "        df.fillna(method='ffill', inplace=True)\n",
        "        df.fillna(0, inplace=True)\n",
        "\n",
        "        return df\n",
        "\n",
        "    except Exception as e:\n",
        "        print(f\"Error calculating technical indicators: {e}\")\n",
        "        # Return original data if we encounter errors\n",
        "        return data\n",
        "\n",
        "# Enhanced model training with ensemble approach\n",
        "def train_ensemble_model(data, features, target_col='Close', time_step=14):\n",
        "    \"\"\"Train an ensemble of models for more accurate prediction\"\"\"\n",
        "    # Make sure we have enough data\n",
        "    if len(data) < time_step * 2:\n",
        "        print(f\"Not enough data points ({len(data)}) for training. Need at least {time_step * 2}.\")\n",
        "        return None, None, None\n",
        "\n",
        "    print(\"Training ensemble prediction model...\")\n",
        "\n",
        "    # Scale the data\n",
        "    scaler = MinMaxScaler(feature_range=(0,1))\n",
        "    data_scaled = scaler.fit_transform(data[features])\n",
        "\n",
        "    # Create sequences for LSTM\n",
        "    def create_sequences(data, time_step=14):\n",
        "        X, y = [], []\n",
        "        for i in range(len(data) - time_step):\n",
        "            X.append(data[i:(i + time_step)])\n",
        "            y.append(data[i + time_step, features.index(target_col)])  # Target is Close price\n",
        "        return np.array(X), np.array(y)\n",
        "\n",
        "    X, y = create_sequences(data_scaled, time_step)\n",
        "\n",
        "    # Train-Test Split\n",
        "    train_size = int(len(X) * 0.8)\n",
        "    X_train, X_test = X[:train_size], X[train_size:]\n",
        "    y_train, y_test = y[:train_size], y[train_size:]\n",
        "\n",
        "    # 1. Build LSTM Model\n",
        "    print(\"Training deep learning model...\")\n",
        "    lstm_model = Sequential([\n",
        "        Bidirectional(LSTM(64, return_sequences=True, input_shape=(time_step, len(features)))),\n",
        "        Dropout(0.3),\n",
        "        LSTM(32, return_sequences=False),\n",
        "        Dropout(0.2),\n",
        "        Dense(16, activation='relu'),\n",
        "        Dense(1)\n",
        "    ])\n",
        "    lstm_model.compile(optimizer='adam', loss='mean_squared_error')\n",
        "    early_stopping = EarlyStopping(monitor='val_loss', patience=10, restore_best_weights=True)\n",
        "\n",
        "    batch_size = min(32, len(X_train) // 4)\n",
        "    if batch_size < 1: batch_size = 1\n",
        "\n",
        "    lstm_model.fit(\n",
        "        X_train, y_train,\n",
        "        validation_data=(X_test, y_test),\n",
        "        epochs=100,\n",
        "        batch_size=batch_size,\n",
        "        callbacks=[early_stopping],\n",
        "        verbose=1\n",
        "    )\n",
        "\n",
        "    # 2. Train Random Forest model on flattened data\n",
        "    print(\"Training random forest model...\")\n",
        "    # Flatten the LSTM input for RF\n",
        "    X_train_flat = X_train.reshape(X_train.shape[0], -1)  # Flatten the 3D data to 2D\n",
        "    X_test_flat = X_test.reshape(X_test.shape[0], -1)\n",
        "\n",
        "    rf_model = RandomForestRegressor(n_estimators=100, max_depth=10, random_state=42)\n",
        "    rf_model.fit(X_train_flat, y_train)\n",
        "\n",
        "    return lstm_model, rf_model, scaler\n",
        "\n",
        "# Ensemble prediction function\n",
        "def make_ensemble_prediction(lstm_model, rf_model, scaler, input_data, features, time_step=14):\n",
        "    \"\"\"Make prediction using ensemble of models for better accuracy\"\"\"\n",
        "    # Make lstm prediction\n",
        "    lstm_pred = lstm_model.predict(input_data, verbose=0)\n",
        "\n",
        "    # Flatten input data for random forest\n",
        "    flat_input = input_data.reshape(input_data.shape[0], -1)\n",
        "    rf_pred = rf_model.predict(flat_input).reshape(-1, 1)\n",
        "\n",
        "    # Ensemble: Average predictions with different weights\n",
        "    ensemble_pred = lstm_pred * 0.7 + rf_pred * 0.3\n",
        "\n",
        "    # Create empty array to inverse transform\n",
        "    pred_data = np.zeros((len(ensemble_pred), len(features)))\n",
        "    pred_data[:, features.index('Close_INR')] = ensemble_pred.flatten()\n",
        "\n",
        "    # Inverse transform to get actual values\n",
        "    predictions = scaler.inverse_transform(pred_data)[:, features.index('Close_INR')]\n",
        "\n",
        "    return predictions\n",
        "\n",
        "# Market analysis and factors report\n",
        "def generate_market_analysis(coin_name, symbol, sentiment_data, market_factors, predictions):\n",
        "    \"\"\"Generate comprehensive market analysis with factors affecting price\"\"\"\n",
        "    analysis = {\n",
        "        'coin': coin_name,\n",
        "        'symbol': symbol,\n",
        "        'timestamp': datetime.now().strftime('%Y-%m-%d %H:%M:%S'),\n",
        "        'factors': {}\n",
        "    }\n",
        "\n",
        "    # 1. Sentiment analysis\n",
        "    if sentiment_data:\n",
        "        sentiment_score = sentiment_data.get('sentiment_score', 0)\n",
        "        analysis['factors']['sentiment'] = {\n",
        "            'score': sentiment_score,\n",
        "            'magnitude': sentiment_data.get('sentiment_magnitude', 0),\n",
        "            'article_count': sentiment_data.get('article_count', 0),\n",
        "            'impact': 'positive' if sentiment_score > 0.1 else 'negative' if sentiment_score < -0.1 else 'neutral',\n",
        "            'estimated_price_impact': f\"{sentiment_score * 3:.2f}%\"\n",
        "        }\n",
        "\n",
        "    # 2. Market correlation factors\n",
        "    if market_factors:\n",
        "        analysis['factors']['market_correlation'] = {}\n",
        "\n",
        "        # S&P 500 correlation\n",
        "        if 'sp500' in market_factors:\n",
        "            sp500_avg_change = np.mean(market_factors['sp500'][-30:]) * 100 if len(market_factors['sp500']) >= 30 else 0\n",
        "            analysis['factors']['market_correlation']['sp500'] = {\n",
        "                'recent_trend': 'up' if sp500_avg_change > 0 else 'down',\n",
        "                'avg_daily_change': f\"{sp500_avg_change:.2f}%\",\n",
        "                'impact': 'Traditional markets show correlation with crypto, ' +\n",
        "                         ('potentially positive for crypto prices' if sp500_avg_change > 0 else 'potentially negative for crypto prices')\n",
        "            }\n",
        "\n",
        "        # Bitcoin dominance\n",
        "        if 'btc_dominance' in market_factors:\n",
        "            btc_dom = market_factors['btc_dominance']\n",
        "            if symbol.upper() == 'BTC' or symbol.upper() == 'BTC-USD':\n",
        "                impact = f\"High BTC dominance ({btc_dom}%) is positive for Bitcoin specifically\"\n",
        "            else:\n",
        "                impact = \"High BTC dominance typically means altcoins underperform Bitcoin\" if btc_dom > 50 else \"Lower BTC dominance typically allows altcoins to gain market share\"\n",
        "\n",
        "            analysis['factors']['market_correlation']['btc_dominance'] = {\n",
        "                'current_value': f\"{btc_dom}%\",\n",
        "                'impact': impact\n",
        "            }\n",
        "\n",
        "        # Dollar strength\n",
        "        if 'dxy' in market_factors:\n",
        "            dxy_trend = np.mean(market_factors['dxy'][-14:]) * 100 if len(market_factors['dxy']) >= 14 else 0\n",
        "            analysis['factors']['market_correlation']['dollar_strength'] = {\n",
        "                'recent_trend': 'strengthening' if dxy_trend > 0 else 'weakening',\n",
        "                'impact': 'Dollar strength typically has negative correlation with crypto prices' if dxy_trend > 0 else 'Dollar weakness typically has positive correlation with crypto prices'\n",
        "            }\n",
        "\n",
        "        # Market fear\n",
        "        if 'vix' in market_factors and len(market_factors['vix']) > 0:\n",
        "            recent_vix = market_factors['vix'][-1] if len(market_factors['vix']) > 0 else 20\n",
        "\n",
        "            # Extract the scalar value from the array (if it is an array)\n",
        "            recent_vix = recent_vix.item() if isinstance(recent_vix, np.ndarray) else recent_vix\n",
        "\n",
        "            fear_level = 'extreme fear' if recent_vix > 30 else 'fear' if recent_vix > 20 else 'neutral' if recent_vix > 15 else 'optimism'\n",
        "\n",
        "            analysis['factors']['market_correlation']['market_volatility'] = {\n",
        "                'vix_level': f\"{recent_vix:.2f}\",  # Now formatting a scalar value\n",
        "                'fear_level': fear_level,\n",
        "                'impact': f\"Market is in {fear_level} state - \" +\n",
        "                         ('typically negative for risk assets' if recent_vix > 20 else 'favorable for risk assets')\n",
        "            }\n",
        "\n",
        "        # Fear & Greed Index\n",
        "        if 'fear_greed' in market_factors:\n",
        "            fg_value = market_factors['fear_greed']\n",
        "            fg_sentiment = 'extreme fear' if fg_value <= 25 else 'fear' if fg_value <= 40 else 'neutral' if fg_value <= 60 else 'greed' if fg_value <= 80 else 'extreme greed'\n",
        "\n",
        "            analysis['factors']['market_correlation']['fear_greed_index'] = {\n",
        "                'value': fg_value,\n",
        "                'sentiment': fg_sentiment,\n",
        "                'impact': 'Contrarian indicator - extreme values often precede market reversals. ' +\n",
        "                         ('Current extreme fear could signal buying opportunity' if fg_value <= 25 else\n",
        "                          'Current extreme greed could signal market top' if fg_value >= 80 else\n",
        "                          f\"Current {fg_sentiment} state suggests normal market conditions\")\n",
        "            }\n",
        "\n",
        "    # 3. Technical analysis factors\n",
        "    analysis['factors']['technical'] = {\n",
        "        'short_term_trend': predictions.get('price_direction', ''),\n",
        "        'prediction_confidence': f\"{predictions.get('confidence', 0):.1f}/10\",\n",
        "        'volatility_expectation': predictions.get('volatility', 'moderate'),\n",
        "        'key_support': predictions.get('support', 'N/A'),\n",
        "        'key_resistance': predictions.get('resistance', 'N/A')\n",
        "    }\n",
        "\n",
        "    # 4. External factors\n",
        "    analysis['factors']['external'] = {\n",
        "        'regulatory_environment': 'Monitoring global regulatory developments',\n",
        "        'institutional_interest': 'Tracking institutional fund flows and announcements',\n",
        "        'technology_developments': f\"Following {coin_name} ecosystem updates and improvements\",\n",
        "        'market_liquidity': 'Analyzing exchange volumes and market depth'\n",
        "    }\n",
        "\n",
        "    # 5. Overall price projection\n",
        "    analysis['price_projection'] = {\n",
        "        'direction': predictions.get('price_direction', ''),\n",
        "        'short_term': predictions.get('next_day', ''),\n",
        "        'medium_term': predictions.get('five_day', ''),\n",
        "        'confidence': predictions.get('confidence', 5),\n",
        "        'factors_summary': predictions.get('summary', '')\n",
        "    }\n",
        "\n",
        "    return analysis\n",
        "\n",
        "# Interactive UI components with enhanced features\n",
        "def create_advanced_ui():\n",
        "    \"\"\"Create an advanced UI for cryptocurrency analysis\"\"\"\n",
        "    # Map of top cryptocurrencies to CoinGecko IDs\n",
        "    crypto_map = {\n",
        "        'BTC-USD': 'bitcoin',\n",
        "        'ETH-USD': 'ethereum',\n",
        "        'BNB-USD': 'binancecoin',\n",
        "        'XRP-USD': 'ripple',\n",
        "        'ADA-USD': 'cardano',\n",
        "        'DOGE-USD': 'dogecoin',\n",
        "        'SOL-USD': 'solana',\n",
        "        'DOT-USD': 'polkadot',\n",
        "        'LTC-USD': 'litecoin',\n",
        "        'MATIC-USD': 'matic-network',\n",
        "        'AVAX-USD': 'avalanche-2',\n",
        "        'ATOM-USD': 'cosmos',\n",
        "        'LINK-USD': 'chainlink',\n",
        "        'UNI-USD': 'uniswap',\n",
        "        'ALGO-USD': 'algorand',\n",
        "        'NEAR-USD': 'near',\n",
        "        'FTM-USD': 'fantom',\n",
        "        'AAVE-USD': 'aave',\n",
        "        'GRT-USD': 'the-graph',\n",
        "        'SAND-USD': 'the-sandbox'\n",
        "    }\n",
        "\n",
        "    # List of top cryptocurrencies\n",
        "    crypto_options = list(crypto_map.keys())\n",
        "\n",
        "    # UI Components\n",
        "    search_box = widgets.Text(description='Search:', placeholder='Enter crypto name or symbol')\n",
        "    crypto_dropdown = widgets.Dropdown(options=crypto_options, description='Crypto:', value='BTC-USD')\n",
        "    search_button = widgets.Button(description=\"Search\")\n",
        "    fetch_button = widgets.Button(description=\"Analyze & Predict\")\n",
        "    days_selector = widgets.IntSlider(value=30, min=7, max=365, step=1, description='Chart Days:')\n",
        "    prediction_days = widgets.IntSlider(value=5, min=1, max=30, step=1, description='Forecast Days:')\n",
        "    model_type = widgets.RadioButtons(\n",
        "        options=['Standard', 'Enhanced (Slower)', 'Simple (Faster)'],\n",
        "        description='Model Type:',\n",
        "        value='Standard'\n",
        "    )\n",
        "    include_market = widgets.Checkbox(value=True, description='Include Market Factors')\n",
        "    include_sentiment = widgets.Checkbox(value=True, description='Include Sentiment Analysis')\n",
        "    output_display = widgets.Output()\n",
        "\n",
        "    # Search function handler\n",
        "    def on_search_click(b):\n",
        "        with output_display:\n",
        "            clear_output(wait=True)\n",
        "            query = search_box.value.strip()\n",
        "            if not query:\n",
        "                print(\"Please enter a cryptocurrency name or symbol to search\")\n",
        "                return\n",
        "\n",
        "            results = search_cryptocurrency(query)\n",
        "            if not results:\n",
        "                print(f\"No results found for '{query}'. Try a different search term.\")\n",
        "                return\n",
        "\n",
        "            print(f\"Search results for '{query}':\")\n",
        "            for i, coin in enumerate(results):\n",
        "                print(f\"{i+1}. {coin['name']} ({coin['symbol']}) - Rank: {coin['market_cap_rank']}\")\n",
        "\n",
        "            # Add the top result to the dropdown if not already there\n",
        "            top_result = f\"{results[0]['symbol']}-USD\"\n",
        "            if top_result not in crypto_dropdown.options:\n",
        "                new_options = list(crypto_dropdown.options) + [top_result]\n",
        "                crypto_dropdown.options = new_options\n",
        "\n",
        "            # Set the dropdown to the top result\n",
        "            if top_result in crypto_dropdown.options:\n",
        "                crypto_dropdown.value = top_result\n",
        "                print(f\"\\nSelected {results[0]['name']} ({top_result}) for analysis\")\n",
        "\n",
        "            # Also store the CoinGecko ID in the crypto_map\n",
        "            crypto_map[top_result] = results[0]['id']\n",
        "\n",
        "    # Connect search button to handler\n",
        "    search_button.on_click(on_search_click)\n",
        "\n",
        "    # Main analysis function\n",
        "    def fetch_and_predict(_=None):\n",
        "        with output_display:\n",
        "            clear_output(wait=True)\n",
        "\n",
        "            selected_crypto = crypto_dropdown.value  # Get selected cryptocurrency\n",
        "            include_market_factors = include_market.value\n",
        "            include_sentiment_analysis = include_sentiment.value\n",
        "            days_to_show = days_selector.value\n",
        "            days_to_predict = prediction_days.value\n",
        "            selected_model = model_type.value\n",
        "\n",
        "            print(f\"Starting analysis for {selected_crypto}...\")\n",
        "            print(f\"Analysis settings: Show {days_to_show} days, Predict {days_to_predict} days, Model: {selected_model}\")\n",
        "\n",
        "            # Map to CoinGecko ID\n",
        "            coin_id = crypto_map.get(selected_crypto)\n",
        "            if not coin_id:\n",
        "                print(f\"Could not find CoinGecko ID for {selected_crypto}, searching...\")\n",
        "                base_symbol = selected_crypto.split('-')[0] if '-' in selected_crypto else selected_crypto\n",
        "                results = search_cryptocurrency(base_symbol)\n",
        "                if results and len(results) > 0:\n",
        "                    coin_id = results[0]['id']\n",
        "                    crypto_map[selected_crypto] = coin_id\n",
        "                    print(f\"Found coin ID: {coin_id} for {selected_crypto}\")\n",
        "                else:\n",
        "                    print(f\"Could not find CoinGecko ID for {selected_crypto}\")\n",
        "\n",
        "            # Fetch USD to INR rate\n",
        "            usd_to_inr = get_usd_to_inr()\n",
        "            print(f\"Current USD to INR rate: {usd_to_inr}\")\n",
        "\n",
        "            # Get market factors if enabled\n",
        "            market_factors = {}\n",
        "            if include_market_factors:\n",
        "                print(\"Fetching market factors...\")\n",
        "                market_factors = fetch_market_factors()\n",
        "\n",
        "            # Fetch cryptocurrency data\n",
        "            print(f\"Fetching data for {selected_crypto}...\")\n",
        "            data, coin_id = fetch_crypto_data_multi_source(selected_crypto, coin_id)\n",
        "\n",
        "            if data is None or data.empty:\n",
        "                print(\"Failed to fetch cryptocurrency data from all sources. Please try again later.\")\n",
        "                print(\"This could be due to API rate limits or temporary service issues.\")\n",
        "                return\n",
        "\n",
        "            # Get coin name for display purposes\n",
        "            if coin_id in crypto_map.values():\n",
        "                coin_name = [k.split('-')[0] for k, v in crypto_map.items() if v == coin_id][0]\n",
        "            else:\n",
        "                coin_name = selected_crypto.split('-')[0]\n",
        "\n",
        "            # Get sentiment data if enabled\n",
        "            sentiment_data = {}\n",
        "            if include_sentiment_analysis:\n",
        "                print(f\"Analyzing sentiment for {coin_name}...\")\n",
        "                sentiment_data = get_crypto_sentiment(coin_name, selected_crypto.split('-')[0])\n",
        "\n",
        "            # Create a copy of the price data\n",
        "            data_price = data[['Open', 'High', 'Low', 'Close']].copy()\n",
        "            if 'Volume' in data.columns:\n",
        "                data_price['Volume'] = data['Volume']\n",
        "            else:\n",
        "                data_price['Volume'] = np.random.uniform(1000000, 10000000, size=len(data_price))\n",
        "\n",
        "            # Check if we have enough data for meaningful analysis\n",
        "            if len(data_price) < 30:\n",
        "                print(f\"Not enough data points ({len(data_price)}). Need at least 30 for predictions.\")\n",
        "                return\n",
        "\n",
        "            # Convert to INR\n",
        "            for col in ['Open', 'High', 'Low', 'Close']:\n",
        "                data_price[f'{col}_INR'] = data_price[col] * usd_to_inr\n",
        "\n",
        "            print(f\"Successfully loaded {len(data_price)} data points\")\n",
        "\n",
        "            # Calculate technical indicators\n",
        "            print(\"Calculating technical indicators...\")\n",
        "            data_with_indicators = add_technical_indicators(data_price)\n",
        "\n",
        "            # Display recent price information\n",
        "            print(\"\\nRecent price information:\")\n",
        "            print(f\"Current price: ₹{data_price['Close_INR'].iloc[-1]:.2f} (${data_price['Close'].iloc[-1]:.2f})\")\n",
        "\n",
        "            if len(data_price) >= 8:\n",
        "                week_change = ((data_price['Close'].iloc[-1] / data_price['Close'].iloc[-8]) - 1) * 100\n",
        "                print(f\"7-day change: {week_change:.2f}%\")\n",
        "\n",
        "            if len(data_price) >= 31:\n",
        "                month_change = ((data_price['Close'].iloc[-1] / data_price['Close'].iloc[-31]) - 1) * 100\n",
        "                print(f\"30-day change: {month_change:.2f}%\")\n",
        "\n",
        "            # Prepare data for model based on selected complexity\n",
        "            if selected_model == 'Simple (Faster)':\n",
        "                # Use fewer features for faster processing\n",
        "                features = ['Close_INR', 'SMA_7', 'SMA_14', 'EMA_14', 'RSI']\n",
        "                time_step = 7\n",
        "            elif selected_model == 'Enhanced (Slower)':\n",
        "                # Use all available indicators for best accuracy\n",
        "                features = [\n",
        "                    'Close_INR', 'Volume', 'SMA_7', 'SMA_14', 'SMA_30', 'EMA_14',\n",
        "                    'RSI', 'MACD_line', 'MACD_signal', 'STOCH_k', 'STOCH_d',\n",
        "                    'BB_width', 'ATR', 'ROC_5', 'ROC_14', 'Volatility', 'ADX'\n",
        "                ]\n",
        "                time_step = 21\n",
        "            else:  # Standard\n",
        "                # Balanced approach\n",
        "                features = [\n",
        "                    'Close_INR', 'SMA_7', 'SMA_14', 'SMA_30', 'EMA_14',\n",
        "                    'RSI', 'MACD_diff', 'ROC_5', 'Volatility'\n",
        "                ]\n",
        "                time_step = 14\n",
        "\n",
        "            # Ensure all features exist in the dataframe\n",
        "            features = [f for f in features if f in data_with_indicators.columns]\n",
        "\n",
        "            # Add market sentiment as a feature if available\n",
        "            if sentiment_data and 'sentiment_score' in sentiment_data:\n",
        "                # Create a sentiment column with the same value for all rows\n",
        "                data_with_indicators['Sentiment'] = sentiment_data['sentiment_score']\n",
        "                features.append('Sentiment')\n",
        "\n",
        "            # Train ensemble models\n",
        "            lstm_model, rf_model, scaler = train_ensemble_model(\n",
        "                data_with_indicators, features, 'Close_INR', time_step\n",
        "            )\n",
        "\n",
        "            if lstm_model is None or rf_model is None or scaler is None:\n",
        "                print(\"Failed to train prediction models. Please try again with different parameters.\")\n",
        "                return\n",
        "\n",
        "            # Get the last time_step days of data for prediction\n",
        "            recent_data = data_with_indicators[features].values[-time_step:]\n",
        "            recent_data_scaled = scaler.transform(recent_data)\n",
        "\n",
        "            # Reshape for LSTM prediction\n",
        "            X_recent = recent_data_scaled.reshape(1, time_step, len(features))\n",
        "\n",
        "            # Predictions\n",
        "            future_predictions = []\n",
        "            current_sequence = recent_data_scaled.copy()\n",
        "\n",
        "            # Predict future days\n",
        "            print(f\"\\nPredicting future prices for next {days_to_predict} days...\")\n",
        "            for i in range(days_to_predict):\n",
        "                # Reshape for prediction\n",
        "                X_future = current_sequence.reshape(1, time_step, len(features))\n",
        "\n",
        "                # Make ensemble prediction\n",
        "                next_pred = make_ensemble_prediction(\n",
        "                    lstm_model, rf_model, scaler, X_future, features, time_step\n",
        "                )\n",
        "\n",
        "                # Create a new data point with predicted Close_INR and estimated features\n",
        "                new_point = np.zeros(len(features))\n",
        "                new_point[features.index('Close_INR')] = next_pred[0]\n",
        "\n",
        "                # Update other features based on simple estimates\n",
        "                # This is a simplified approach - in a real system you'd have more sophisticated updates\n",
        "                for j, feature in enumerate(features):\n",
        "                    if feature == 'Close_INR':\n",
        "                        continue  # Already set\n",
        "                    elif feature.startswith('SMA_'):\n",
        "                        window = int(feature.split('_')[1])\n",
        "                        if window <= time_step:\n",
        "                            # Update moving average\n",
        "                            prev_values = current_sequence[-window+1:, features.index('Close_INR')]\n",
        "                            new_point[j] = (np.sum(prev_values) + next_pred[0]) / window\n",
        "                        else:\n",
        "                            # Keep the previous value for longer windows\n",
        "                            new_point[j] = current_sequence[-1, j]\n",
        "                    elif feature == 'Volatility':\n",
        "                        # Keep volatility similar to recent values\n",
        "                        new_point[j] = current_sequence[-1, j]\n",
        "                    elif feature == 'RSI':\n",
        "                        # Simple RSI approximation\n",
        "                        current_rsi = current_sequence[-1, features.index('RSI')]\n",
        "                        price_change = next_pred[0] - current_sequence[-1, features.index('Close_INR')]\n",
        "                        # Move RSI in the direction of price change, but limit movement\n",
        "                        if price_change > 0:\n",
        "                            new_point[j] = min(current_rsi + 5, 95)  # Up with ceiling\n",
        "                        else:\n",
        "                            new_point[j] = max(current_rsi - 5, 5)   # Down with floor\n",
        "                    elif feature == 'Sentiment':\n",
        "                        # Keep sentiment constant for predictions\n",
        "                        new_point[j] = current_sequence[-1, j]\n",
        "                    else:\n",
        "                        # For other indicators, use the last value as an approximation\n",
        "                        new_point[j] = current_sequence[-1, j]\n",
        "\n",
        "                # Store prediction\n",
        "                future_predictions.append(new_point)\n",
        "\n",
        "                # Update sequence for next prediction\n",
        "                current_sequence = np.vstack([current_sequence[1:], new_point])\n",
        "\n",
        "            # Convert future predictions to original scale\n",
        "            future_pred_array = np.array(future_predictions)\n",
        "            future_data = np.zeros((len(future_pred_array), len(features)))\n",
        "            future_data[:, features.index('Close_INR')] = future_pred_array[:, features.index('Close_INR')]\n",
        "            future_pred_inr = scaler.inverse_transform(future_data)[:, features.index('Close_INR')]\n",
        "\n",
        "            # Create dates for future predictions\n",
        "            last_date = data_with_indicators.index[-1]\n",
        "            future_dates = [last_date + timedelta(days=i+1) for i in range(days_to_predict)]\n",
        "\n",
        "            # Calculate model accuracy on historical data (last 30 days)\n",
        "            # Prepare recent test data\n",
        "            test_window = min(30, len(data_with_indicators) - time_step)\n",
        "            recent_test_X = []\n",
        "            recent_test_y = []\n",
        "\n",
        "            for i in range(len(data_with_indicators) - test_window, len(data_with_indicators) - time_step):\n",
        "                recent_test_X.append(data_with_indicators[features].values[i:i+time_step])\n",
        "                recent_test_y.append(data_with_indicators['Close_INR'].values[i+time_step])\n",
        "\n",
        "            recent_test_X = np.array(recent_test_X)\n",
        "            recent_test_y = np.array(recent_test_y)\n",
        "\n",
        "            # Scale the test data\n",
        "            recent_test_X_scaled = np.array([scaler.transform(x) for x in recent_test_X])\n",
        "\n",
        "            # Make predictions\n",
        "            lstm_preds = lstm_model.predict(recent_test_X_scaled)\n",
        "            rf_preds = rf_model.predict(recent_test_X_scaled.reshape(recent_test_X_scaled.shape[0], -1))\n",
        "\n",
        "            # Create ensemble predictions\n",
        "            ensemble_preds = lstm_preds * 0.7 + rf_preds.reshape(-1, 1) * 0.3\n",
        "\n",
        "            # Convert predictions back to original scale\n",
        "            pred_data = np.zeros((len(ensemble_preds), len(features)))\n",
        "            pred_data[:, features.index('Close_INR')] = ensemble_preds.flatten()\n",
        "\n",
        "            recent_preds = scaler.inverse_transform(pred_data)[:, features.index('Close_INR')]\n",
        "\n",
        "            # Calculate error metrics\n",
        "            mae = mean_absolute_error(recent_test_y, recent_preds)\n",
        "            mse = mean_squared_error(recent_test_y, recent_preds)\n",
        "            rmse = np.sqrt(mse)\n",
        "            mape = np.mean(np.abs((recent_test_y - recent_preds) / recent_test_y)) * 100\n",
        "\n",
        "            print(\"\\nModel Performance Metrics:\")\n",
        "            print(f\"Mean Absolute Error: ₹{mae:.2f}\")\n",
        "            print(f\"Root Mean Squared Error: ₹{rmse:.2f}\")\n",
        "            print(f\"Mean Absolute Percentage Error: {mape:.2f}%\")\n",
        "\n",
        "            # Calculate model confidence score (0-10)\n",
        "            if mape <= 1:\n",
        "                confidence = 10\n",
        "            elif mape <= 3:\n",
        "                confidence = 9\n",
        "            elif mape <= 5:\n",
        "                confidence = 8\n",
        "            elif mape <= 7:\n",
        "                confidence = 7\n",
        "            elif mape <= 10:\n",
        "                confidence = 6\n",
        "            elif mape <= 15:\n",
        "                confidence = 5\n",
        "            elif mape <= 20:\n",
        "                confidence = 4\n",
        "            elif mape <= 25:\n",
        "                confidence = 3\n",
        "            elif mape <= 30:\n",
        "                confidence = 2\n",
        "            else:\n",
        "                confidence = 1\n",
        "\n",
        "            print(f\"Model Confidence Score: {confidence}/10\")\n",
        "\n",
        "            # Display future predictions\n",
        "            print(\"\\nFuture Price Predictions:\")\n",
        "            for date, price in zip(future_dates, future_pred_inr):\n",
        "                print(f\"{date.strftime('%Y-%m-%d')}: ₹{price:.2f} (${price/usd_to_inr:.2f})\")\n",
        "\n",
        "            # Plot historical and future prices\n",
        "            plt.figure(figsize=(12,6))\n",
        "\n",
        "            # Plot historical data (last N days)\n",
        "            hist_days = min(days_to_show, len(data_with_indicators))\n",
        "            plt.plot(data_with_indicators.index[-hist_days:],\n",
        "                     data_with_indicators['Close_INR'].values[-hist_days:],\n",
        "                     label='Historical Price', color='blue')\n",
        "\n",
        "            # Plot future predictions\n",
        "            plt.plot(future_dates, future_pred_inr,\n",
        "                     label='Price Predictions', color='red',\n",
        "                     marker='o', linestyle='--')\n",
        "\n",
        "            # Add vertical line for current date\n",
        "            plt.axvline(x=last_date, color='green', linestyle='-',\n",
        "                       alpha=0.3, label='Current Date')\n",
        "\n",
        "            # Add confidence bands based on model accuracy\n",
        "            uncertainty = mape / 100\n",
        "            plt.fill_between(future_dates,\n",
        "                            future_pred_inr * (1 - uncertainty),\n",
        "                            future_pred_inr * (1 + uncertainty),\n",
        "                            color='red', alpha=0.2, label='Uncertainty Range')\n",
        "\n",
        "            plt.legend()\n",
        "            plt.title(f'{selected_crypto} Price Prediction ({days_to_predict} Days) in INR')\n",
        "            plt.xticks(rotation=45)\n",
        "            plt.grid(True, alpha=0.3)\n",
        "            plt.tight_layout()\n",
        "            plt.show()\n",
        "\n",
        "            # Plot additional technical indicators\n",
        "            plt.figure(figsize=(12,8))\n",
        "\n",
        "            # Create subplot for RSI\n",
        "            plt.subplot(3, 1, 1)\n",
        "            plt.plot(data_with_indicators.index[-hist_days:],\n",
        "                     data_with_indicators['RSI'].values[-hist_days:],\n",
        "                     label='RSI', color='purple')\n",
        "            plt.axhline(y=70, color='r', linestyle='--', alpha=0.5)\n",
        "            plt.axhline(y=30, color='g', linestyle='--', alpha=0.5)\n",
        "            plt.title('Relative Strength Index (RSI)')\n",
        "            plt.legend()\n",
        "            plt.grid(True, alpha=0.3)\n",
        "\n",
        "            # Create subplot for MACD\n",
        "            plt.subplot(3, 1, 2)\n",
        "            if 'MACD_line' in data_with_indicators.columns and 'MACD_signal' in data_with_indicators.columns:\n",
        "                plt.plot(data_with_indicators.index[-hist_days:],\n",
        "                         data_with_indicators['MACD_line'].values[-hist_days:],\n",
        "                         label='MACD Line', color='blue')\n",
        "                plt.plot(data_with_indicators.index[-hist_days:],\n",
        "                         data_with_indicators['MACD_signal'].values[-hist_days:],\n",
        "                         label='Signal Line', color='red')\n",
        "                plt.title('Moving Average Convergence Divergence (MACD)')\n",
        "                plt.legend()\n",
        "                plt.grid(True, alpha=0.3)\n",
        "\n",
        "            # Create subplot for Bollinger Bands\n",
        "            plt.subplot(3, 1, 3)\n",
        "            if 'BB_high' in data_with_indicators.columns and 'BB_low' in data_with_indicators.columns:\n",
        "                plt.plot(data_with_indicators.index[-hist_days:],\n",
        "                         data_with_indicators['Close_INR'].values[-hist_days:],\n",
        "                         label='Price', color='blue')\n",
        "                plt.plot(data_with_indicators.index[-hist_days:],\n",
        "                         data_with_indicators['BB_high'].values[-hist_days:],\n",
        "                         label='Upper Band', color='red', linestyle='--')\n",
        "                plt.plot(data_with_indicators.index[-hist_days:],\n",
        "                         data_with_indicators['BB_mid'].values[-hist_days:],\n",
        "                         label='Middle Band', color='orange', linestyle='-.')\n",
        "                plt.plot(data_with_indicators.index[-hist_days:],\n",
        "                         data_with_indicators['BB_low'].values[-hist_days:],\n",
        "                         label='Lower Band', color='green', linestyle='--')\n",
        "                plt.title('Bollinger Bands')\n",
        "                plt.legend()\n",
        "                plt.grid(True, alpha=0.3)\n",
        "\n",
        "            plt.tight_layout()\n",
        "            plt.show()\n",
        "\n",
        "            # Calculate support and resistance levels\n",
        "            recent_prices = data_with_indicators['Close_INR'].values[-30:]\n",
        "            support_level = np.percentile(recent_prices, 25)\n",
        "            resistance_level = np.percentile(recent_prices, 75)\n",
        "\n",
        "            # Prepare predictions dictionary for market analysis\n",
        "            price_direction = \"bullish 📈\" if future_pred_inr[0] > data_with_indicators['Close_INR'].iloc[-1] else \"bearish 📉\"\n",
        "            daily_change = ((future_pred_inr[0] / data_with_indicators['Close_INR'].iloc[-1]) - 1) * 100\n",
        "            weekly_change = ((future_pred_inr[-1] / data_with_indicators['Close_INR'].iloc[-1]) - 1) * 100\n",
        "\n",
        "            predictions_data = {\n",
        "                'next_day': f\"₹{future_pred_inr[0]:.2f} (${future_pred_inr[0]/usd_to_inr:.2f})\",\n",
        "                'five_day': f\"₹{future_pred_inr[-1]:.2f} (${future_pred_inr[-1]/usd_to_inr:.2f})\",\n",
        "                'price_direction': price_direction,\n",
        "                'daily_change': f\"{daily_change:.2f}%\",\n",
        "                'five_day_change': f\"{weekly_change:.2f}%\",\n",
        "                'confidence': confidence,\n",
        "                'support': f\"₹{support_level:.2f}\",\n",
        "                'resistance': f\"₹{resistance_level:.2f}\",\n",
        "                'volatility': 'high' if data_with_indicators['Volatility'].iloc[-1] > 5 else 'moderate' if data_with_indicators['Volatility'].iloc[-1] > 2 else 'low',\n",
        "                'summary': f\"The model predicts a {price_direction} trend with {confidence}/10 confidence based on technical indicators and market factors.\"\n",
        "            }\n",
        "\n",
        "            # Generate market analysis if enabled\n",
        "            if include_market_factors or include_sentiment_analysis:\n",
        "                print(\"\\n--- Market Factors Analysis ---\")\n",
        "                market_analysis = generate_market_analysis(\n",
        "                    coin_name, selected_crypto, sentiment_data, market_factors, predictions_data\n",
        "                )\n",
        "\n",
        "                # Display market factors\n",
        "                if 'factors' in market_analysis:\n",
        "                    # Display sentiment analysis if available\n",
        "                    if include_sentiment_analysis and 'sentiment' in market_analysis['factors']:\n",
        "                        sentiment = market_analysis['factors']['sentiment']\n",
        "                        print(f\"\\nSentiment Analysis:\")\n",
        "                        print(f\"Score: {sentiment['score']:.2f} ({sentiment['impact']} sentiment)\")\n",
        "                        print(f\"Estimated Price Impact: {sentiment['estimated_price_impact']}\")\n",
        "\n",
        "                    # Display market correlation factors\n",
        "                    if include_market_factors and 'market_correlation' in market_analysis['factors']:\n",
        "                        print(\"\\nMarket Correlation Factors:\")\n",
        "                        for factor, details in market_analysis['factors']['market_correlation'].items():\n",
        "                            print(f\"- {factor.replace('_', ' ').title()}: {details.get('impact', '')}\")\n",
        "\n",
        "            # Trading recommendation\n",
        "            print(\"\\nTrading Recommendation:\")\n",
        "\n",
        "            # Simple recommendation system based on predicted trends and market factors\n",
        "            if weekly_change > 5 and confidence >= 7:\n",
        "                recommendation = \"Strong Buy 🟢🟢\"\n",
        "            elif weekly_change > 2 or (weekly_change > 0 and confidence >= 6):\n",
        "                recommendation = \"Buy 🟢\"\n",
        "            elif weekly_change > -2 or confidence < 4:\n",
        "                recommendation = \"Hold ⚪\"\n",
        "            elif weekly_change > -5:\n",
        "                recommendation = \"Sell 🔴\"\n",
        "            else:\n",
        "                recommendation = \"Strong Sell 🔴🔴\"\n",
        "\n",
        "            print(f\"{recommendation} - {predictions_data['summary']}\")\n",
        "            print(\"\\nNote: This is for educational purposes only. Always do your own research before investing.\")\n",
        "\n",
        "    # Connect button click to function\n",
        "    fetch_button.on_click(fetch_and_predict)\n",
        "\n",
        "    # Create UI layout\n",
        "    search_ui = widgets.HBox([search_box, search_button])\n",
        "    model_ui = widgets.VBox([crypto_dropdown, days_selector, prediction_days, model_type])\n",
        "    options_ui = widgets.VBox([include_market, include_sentiment])\n",
        "    control_ui = widgets.HBox([model_ui, options_ui])\n",
        "\n",
        "    # Return all UI components\n",
        "    return widgets.VBox([\n",
        "        widgets.HTML(\"<h2>Advanced Cryptocurrency Price Prediction Tool</h2>\"),\n",
        "        widgets.HTML(\"<p>Search for any cryptocurrency or select from popular options</p>\"),\n",
        "        search_ui,\n",
        "        control_ui,\n",
        "        fetch_button,\n",
        "        output_display\n",
        "    ])\n",
        "\n",
        "# Main function to run the application\n",
        "def main():\n",
        "    \"\"\"Main function to run the cryptocurrency analysis tool\"\"\"\n",
        "    print(\"Starting Cryptocurrency Analysis and Prediction Tool...\")\n",
        "    print(f\"Model Version: {MODEL_VERSION}\")\n",
        "    print(\"Created by: Crypto Analysis Team\")\n",
        "    print(\"----------------------------------------\")\n",
        "\n",
        "    # Create and display the UI\n",
        "    ui = create_advanced_ui()\n",
        "    display(ui)\n",
        "\n",
        "    print(\"Ready to analyze cryptocurrency data\")\n",
        "    print(\"Select a cryptocurrency and click 'Analyze & Predict' to begin\")\n",
        "\n",
        "# When run directly\n",
        "if __name__ == \"__main__\":\n",
        "    main()\n"
      ],
      "metadata": {
        "colab": {
          "base_uri": "https://localhost:8080/",
          "height": 1000,
          "referenced_widgets": [
            "9d164d9bb40f4ae88371325b447e85e2",
            "39d42939705b49e5a04ff32d1a11d1a7",
            "5262ac383229461392ea8ae4c10432f1",
            "e0ca17b11d0f490d91f0bb286ecf1467",
            "181ac5b066134d3dbfaa84f1a45350c9",
            "51f3c4545a6149baa5d38608d59ebfab",
            "4ce1a2b1473e4c1788e164ce23aafc68",
            "7a01758e622348f9b779bf7330c9b7d5",
            "ff51e3dae19e4866bf712fa5d5f0eaea",
            "12e6428f9d2c46a68a2ae5ba83e3a925",
            "c96e19abd5fd4e2aa8dcdb72b58719da",
            "e4f11a90a83649a3a0182d58cfe45089",
            "ceab49268f8948dd9db2ef8d6cab2606",
            "8153dd37707b4236b56e4e705cb2c55b",
            "e7c9a67a55bf4e1fa42d3c9fb87c8d43",
            "28b91a3dc99c44c1bc6aba735ab00e8b",
            "c24bacc7093147108b7a3a0152bc07ca",
            "b04f8016e08d43db847867fb28581458",
            "6dbd537a3667405283fd02f3bd72a2c9",
            "996636d5711a4f9d855d6d3493f4ea35",
            "89f0180275ab4f3c93ac5c43ed82c965",
            "a68a62d47dd64cd492349998a690f47e",
            "533704f216d147d7844bb70ad19db757",
            "2a3da0669d1d402bacbf5ea04edafb1d",
            "e5429d12aa564d59a2f57d5c65ed3f89",
            "1e9e9fdf215e4f4bbcae414a219e7218",
            "8efc55be633d4af9adb4eda1c13135c4",
            "158f01bf60484d089043e866a5a891b3",
            "ad28fd8964ec4732b1b1231364962c4c",
            "1574b7ee2d4e47739cdfb194cb991d80",
            "80c9497e9bcb4bfdaad332ecde0fbe71",
            "0776e7582b2e40dcb284c89631c3c842",
            "e3edbdf812084317849a70f47c171339",
            "828f7c2861274bab85373672583a556e",
            "908339ecf9ed42379f35d95bbf978073",
            "17356081b02342d9ac0000378ec4b0f8",
            "d61b3d50002546dd98e7693708559ee7",
            "077db9906fcc4dbc83145b2553191904",
            "a631b4d4481547f98adcb528ba057a5a",
            "e4f4dd27ee574338bb1668357f2b8a64",
            "cd843b49e9c640db96100f9863ce0756",
            "0fc85772efe5446880381a561dd96795",
            "cb84d70a22314a4bb40e41feeb95c85b",
            "f1df1f67fec64ab9b1e6b3155e5f364a",
            "33814b855dd74ba3ad0d90f29a92251f"
          ]
        },
        "id": "p8JGJsHLilhZ",
        "outputId": "8e301b4f-8856-4242-c5a4-6b46b77e89ee"
      },
      "execution_count": 19,
      "outputs": [
        {
          "output_type": "stream",
          "name": "stdout",
          "text": [
            "Starting Cryptocurrency Analysis and Prediction Tool...\n",
            "Model Version: 2.0\n",
            "Created by: Crypto Analysis Team\n",
            "----------------------------------------\n"
          ]
        },
        {
          "output_type": "display_data",
          "data": {
            "text/plain": [
              "VBox(children=(HTML(value='<h2>Advanced Cryptocurrency Price Prediction Tool</h2>'), HTML(value='<p>Search for…"
            ],
            "application/vnd.jupyter.widget-view+json": {
              "version_major": 2,
              "version_minor": 0,
              "model_id": "9d164d9bb40f4ae88371325b447e85e2"
            }
          },
          "metadata": {}
        },
        {
          "output_type": "stream",
          "name": "stdout",
          "text": [
            "Ready to analyze cryptocurrency data\n",
            "Select a cryptocurrency and click 'Analyze & Predict' to begin\n"
          ]
        }
      ]
    }
  ]
}